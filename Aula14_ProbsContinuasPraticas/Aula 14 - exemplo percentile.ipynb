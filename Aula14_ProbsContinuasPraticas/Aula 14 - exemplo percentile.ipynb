{
 "cells": [
  {
   "cell_type": "code",
   "execution_count": 1,
   "metadata": {
    "collapsed": true
   },
   "outputs": [],
   "source": [
    "import numpy as np\n",
    "import pandas as pd\n",
    "import matplotlib.pyplot as plt\n",
    "%matplotlib inline\n",
    "from scipy.stats import norm, expon\n",
    "from scipy import stats\n",
    "import random\n"
   ]
  },
  {
   "cell_type": "code",
   "execution_count": 2,
   "metadata": {
    "collapsed": true
   },
   "outputs": [],
   "source": [
    "alunos = np.linspace(1,39,39)"
   ]
  },
  {
   "cell_type": "code",
   "execution_count": 3,
   "metadata": {},
   "outputs": [
    {
     "data": {
      "text/plain": [
       "array([  1.,   2.,   3.,   4.,   5.,   6.,   7.,   8.,   9.,  10.,  11.,\n",
       "        12.,  13.,  14.,  15.,  16.,  17.,  18.,  19.,  20.,  21.,  22.,\n",
       "        23.,  24.,  25.,  26.,  27.,  28.,  29.,  30.,  31.,  32.,  33.,\n",
       "        34.,  35.,  36.,  37.,  38.,  39.])"
      ]
     },
     "execution_count": 3,
     "metadata": {},
     "output_type": "execute_result"
    }
   ],
   "source": [
    "alunos"
   ]
  },
  {
   "cell_type": "code",
   "execution_count": 4,
   "metadata": {},
   "outputs": [
    {
     "data": {
      "text/plain": [
       "32.0"
      ]
     },
     "execution_count": 4,
     "metadata": {},
     "output_type": "execute_result"
    }
   ],
   "source": [
    "random.choice(alunos)"
   ]
  },
  {
   "cell_type": "code",
   "execution_count": 5,
   "metadata": {},
   "outputs": [],
   "source": [
    "amostra = norm.rvs(size=50, loc=50, scale=2)"
   ]
  },
  {
   "cell_type": "code",
   "execution_count": 6,
   "metadata": {
    "collapsed": true
   },
   "outputs": [],
   "source": [
    "amostra2 = norm.rvs(size=25, loc=52, scale=4)"
   ]
  },
  {
   "cell_type": "code",
   "execution_count": 7,
   "metadata": {},
   "outputs": [
    {
     "data": {
      "text/plain": [
       "array([ 55.11165677,  59.04602817,  47.87557126,  42.08616322,\n",
       "        51.60214367,  48.11528092,  58.77069443,  58.2963085 ,\n",
       "        40.70248913,  47.01133841,  54.98989512,  51.44796399,\n",
       "        54.94038403,  53.68869814,  53.28331858,  50.66901309,\n",
       "        50.13225352,  46.79932641,  51.1244798 ,  52.17951919,\n",
       "        55.23374801,  47.70464628,  45.74336081,  49.42412762,  48.26794281])"
      ]
     },
     "execution_count": 7,
     "metadata": {},
     "output_type": "execute_result"
    }
   ],
   "source": [
    "amostra2"
   ]
  },
  {
   "cell_type": "code",
   "execution_count": 8,
   "metadata": {},
   "outputs": [
    {
     "data": {
      "text/plain": [
       "array([ 51.9663686 ,  51.76888474,  51.32978973,  50.60904992,\n",
       "        50.02609895,  48.35085482,  50.43919084,  49.4288449 ,\n",
       "        47.16668189,  50.74697584,  48.71499995,  53.10096127,\n",
       "        52.07537622,  51.47225945,  50.35818463,  53.77714843,\n",
       "        48.0108005 ,  49.81745505,  49.0682681 ,  51.42128711,\n",
       "        47.42049657,  52.38168386,  50.23181061,  49.4506915 ,\n",
       "        53.6142474 ,  51.67527032,  50.77958076,  49.62205232,\n",
       "        50.45572764,  50.94586039,  50.0945968 ,  47.53202334,\n",
       "        49.43627267,  49.273499  ,  48.77437954,  50.81707845,\n",
       "        51.16915216,  57.73186099,  52.23869846,  50.25684726,\n",
       "        53.0499944 ,  50.09310321,  51.2729341 ,  49.58426002,\n",
       "        51.21407755,  45.9580131 ,  49.90063642,  49.77475042,\n",
       "        48.234112  ,  49.32436079])"
      ]
     },
     "execution_count": 8,
     "metadata": {},
     "output_type": "execute_result"
    }
   ],
   "source": [
    "amostra"
   ]
  },
  {
   "cell_type": "code",
   "execution_count": 9,
   "metadata": {},
   "outputs": [],
   "source": [
    "dados_fit  = norm.fit(amostra)"
   ]
  },
  {
   "cell_type": "code",
   "execution_count": 10,
   "metadata": {},
   "outputs": [],
   "source": [
    "media = dados_fit[0]"
   ]
  },
  {
   "cell_type": "code",
   "execution_count": 11,
   "metadata": {},
   "outputs": [
    {
     "data": {
      "text/plain": [
       "50.439151059910571"
      ]
     },
     "execution_count": 11,
     "metadata": {},
     "output_type": "execute_result"
    }
   ],
   "source": [
    "media"
   ]
  },
  {
   "cell_type": "code",
   "execution_count": 12,
   "metadata": {},
   "outputs": [],
   "source": [
    "dp = dados_fit[1]"
   ]
  },
  {
   "cell_type": "code",
   "execution_count": 13,
   "metadata": {},
   "outputs": [
    {
     "data": {
      "text/plain": [
       "1.9423168357014151"
      ]
     },
     "execution_count": 13,
     "metadata": {},
     "output_type": "execute_result"
    }
   ],
   "source": [
    "dp"
   ]
  },
  {
   "cell_type": "code",
   "execution_count": 14,
   "metadata": {},
   "outputs": [
    {
     "data": {
      "text/plain": [
       "[<matplotlib.lines.Line2D at 0x1052aef28>]"
      ]
     },
     "execution_count": 14,
     "metadata": {},
     "output_type": "execute_result"
    },
    {
     "data": {
      "image/png": "[encoded data removed]",
      "text/plain": [
       "<matplotlib.figure.Figure at 0x10df5c0f0>"
      ]
     },
     "metadata": {},
     "output_type": "display_data"
    }
   ],
   "source": [
    "plt.figure()\n",
    "pd.Series(amostra).hist(normed=True)\n",
    "pd.Series(amostra2).hist(normed=True)\n",
    "x = np.linspace(45, 54, 100)\n",
    "pdf_x = norm.pdf(x, loc=media, scale=dp)\n",
    "\n",
    "plt.plot(x, pdf_x)"
   ]
  },
  {
   "cell_type": "code",
   "execution_count": 15,
   "metadata": {},
   "outputs": [
    {
     "data": {
      "text/plain": [
       "array([ 45.        ,  45.09090909,  45.18181818,  45.27272727,\n",
       "        45.36363636,  45.45454545,  45.54545455,  45.63636364,\n",
       "        45.72727273,  45.81818182,  45.90909091,  46.        ,\n",
       "        46.09090909,  46.18181818,  46.27272727,  46.36363636,\n",
       "        46.45454545,  46.54545455,  46.63636364,  46.72727273,\n",
       "        46.81818182,  46.90909091,  47.        ,  47.09090909,\n",
       "        47.18181818,  47.27272727,  47.36363636,  47.45454545,\n",
       "        47.54545455,  47.63636364,  47.72727273,  47.81818182,\n",
       "        47.90909091,  48.        ,  48.09090909,  48.18181818,\n",
       "        48.27272727,  48.36363636,  48.45454545,  48.54545455,\n",
       "        48.63636364,  48.72727273,  48.81818182,  48.90909091,\n",
       "        49.        ,  49.09090909,  49.18181818,  49.27272727,\n",
       "        49.36363636,  49.45454545,  49.54545455,  49.63636364,\n",
       "        49.72727273,  49.81818182,  49.90909091,  50.        ,\n",
       "        50.09090909,  50.18181818,  50.27272727,  50.36363636,\n",
       "        50.45454545,  50.54545455,  50.63636364,  50.72727273,\n",
       "        50.81818182,  50.90909091,  51.        ,  51.09090909,\n",
       "        51.18181818,  51.27272727,  51.36363636,  51.45454545,\n",
       "        51.54545455,  51.63636364,  51.72727273,  51.81818182,\n",
       "        51.90909091,  52.        ,  52.09090909,  52.18181818,\n",
       "        52.27272727,  52.36363636,  52.45454545,  52.54545455,\n",
       "        52.63636364,  52.72727273,  52.81818182,  52.90909091,\n",
       "        53.        ,  53.09090909,  53.18181818,  53.27272727,\n",
       "        53.36363636,  53.45454545,  53.54545455,  53.63636364,\n",
       "        53.72727273,  53.81818182,  53.90909091,  54.        ])"
      ]
     },
     "execution_count": 15,
     "metadata": {},
     "output_type": "execute_result"
    }
   ],
   "source": [
    "x"
   ]
  },
  {
   "cell_type": "code",
   "execution_count": 23,
   "metadata": {},
   "outputs": [],
   "source": [
    "amostra2 = sorted(amostra2)"
   ]
  },
  {
   "cell_type": "code",
   "execution_count": 31,
   "metadata": {},
   "outputs": [
    {
     "data": {
      "text/plain": [
       "array([ 51.9663686 ,  51.76888474,  51.32978973,  50.60904992,\n",
       "        50.02609895,  48.35085482,  50.43919084,  49.4288449 ,\n",
       "        47.16668189,  50.74697584,  48.71499995,  53.10096127,\n",
       "        52.07537622,  51.47225945,  50.35818463,  53.77714843,\n",
       "        48.0108005 ,  49.81745505,  49.0682681 ,  51.42128711,\n",
       "        47.42049657,  52.38168386,  50.23181061,  49.4506915 ,\n",
       "        53.6142474 ,  51.67527032,  50.77958076,  49.62205232,\n",
       "        50.45572764,  50.94586039,  50.0945968 ,  47.53202334,\n",
       "        49.43627267,  49.273499  ,  48.77437954,  50.81707845,\n",
       "        51.16915216,  57.73186099,  52.23869846,  50.25684726,\n",
       "        53.0499944 ,  50.09310321,  51.2729341 ,  49.58426002,\n",
       "        51.21407755,  45.9580131 ,  49.90063642,  49.77475042,\n",
       "        48.234112  ,  49.32436079])"
      ]
     },
     "execution_count": 31,
     "metadata": {},
     "output_type": "execute_result"
    }
   ],
   "source": [
    "amostra"
   ]
  },
  {
   "cell_type": "code",
   "execution_count": 24,
   "metadata": {},
   "outputs": [],
   "source": [
    "percentis_observados = []\n",
    "\n",
    "for n in amostra2:\n",
    "    pct = stats.percentileofscore(amostra2, n)\n",
    "    percentis_observados.append(pct)\n"
   ]
  },
  {
   "cell_type": "code",
   "execution_count": 25,
   "metadata": {},
   "outputs": [
    {
     "data": {
      "text/plain": [
       "[4.0,\n",
       " 8.0,\n",
       " 12.0,\n",
       " 16.0,\n",
       " 20.0,\n",
       " 24.0,\n",
       " 28.000000000000004,\n",
       " 32.0,\n",
       " 36.0,\n",
       " 40.0,\n",
       " 44.0,\n",
       " 48.0,\n",
       " 52.0,\n",
       " 56.000000000000007,\n",
       " 60.0,\n",
       " 64.0,\n",
       " 68.0,\n",
       " 72.0,\n",
       " 76.0,\n",
       " 80.0,\n",
       " 84.0,\n",
       " 88.0,\n",
       " 92.0,\n",
       " 96.0,\n",
       " 100.0]"
      ]
     },
     "execution_count": 25,
     "metadata": {},
     "output_type": "execute_result"
    }
   ],
   "source": [
    "percentis_observados"
   ]
  },
  {
   "cell_type": "code",
   "execution_count": 26,
   "metadata": {
    "collapsed": true
   },
   "outputs": [],
   "source": [
    "percentis_y = []\n",
    "for p in percentis_observados:\n",
    "    percentis_y.append(np.percentile(amostra, p))"
   ]
  },
  {
   "cell_type": "code",
   "execution_count": 27,
   "metadata": {},
   "outputs": [
    {
     "data": {
      "text/plain": [
       "[47.410343982682917,\n",
       " 47.972498328637059,\n",
       " 48.336845685064588,\n",
       " 48.764878807817851,\n",
       " 49.23245282335337,\n",
       " 49.403768710387347,\n",
       " 49.446654231252666,\n",
       " 49.609958783595339,\n",
       " 49.80208138679977,\n",
       " 49.975913936650926,\n",
       " 50.093939621232352,\n",
       " 50.24482966890811,\n",
       " 50.397067610664024,\n",
       " 50.523189440773393,\n",
       " 50.760017805196,\n",
       " 50.863439948128516,\n",
       " 51.18352828198136,\n",
       " 51.288853677920862,\n",
       " 51.433520474466484,\n",
       " 51.69399320769849,\n",
       " 51.983809820476878,\n",
       " 52.255856704939816,\n",
       " 53.05407175241195,\n",
       " 53.62076344050368,\n",
       " 57.73186099056371]"
      ]
     },
     "execution_count": 27,
     "metadata": {},
     "output_type": "execute_result"
    }
   ],
   "source": [
    "percentis_y"
   ]
  },
  {
   "cell_type": "code",
   "execution_count": 28,
   "metadata": {},
   "outputs": [
    {
     "data": {
      "text/plain": [
       "[<matplotlib.lines.Line2D at 0x111495dd8>]"
      ]
     },
     "execution_count": 28,
     "metadata": {},
     "output_type": "execute_result"
    },
    {
     "data": {
      "image/png": "[encoded data removed]",
      "text/plain": [
       "<matplotlib.figure.Figure at 0x10df41a20>"
      ]
     },
     "metadata": {},
     "output_type": "display_data"
    }
   ],
   "source": [
    "plt.plot(percentis_observados, percentis_y)"
   ]
  },
  {
   "cell_type": "code",
   "execution_count": null,
   "metadata": {
    "collapsed": true
   },
   "outputs": [],
   "source": []
  }
 ],
 "metadata": {
  "kernelspec": {
   "display_name": "Python 3",
   "language": "python",
   "name": "python3"
  },
  "language_info": {
   "codemirror_mode": {
    "name": "ipython",
    "version": 3
   },
   "file_extension": ".py",
   "mimetype": "text/x-python",
   "name": "python",
   "nbconvert_exporter": "python",
   "pygments_lexer": "ipython3",
   "version": "3.6.1"
  }
 },
 "nbformat": 4,
 "nbformat_minor": 2
}
