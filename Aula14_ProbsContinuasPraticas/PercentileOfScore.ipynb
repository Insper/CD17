{
 "cells": [
  {
   "cell_type": "markdown",
   "metadata": {},
   "source": [
    "# Percentile of score - percentil do valor\n",
    "\n",
    "A função *stats.scoreatpercentile(valor, lista)* devolve o percentil do valor na lista"
   ]
  },
  {
   "cell_type": "code",
   "execution_count": 1,
   "metadata": {
    "collapsed": true
   },
   "outputs": [],
   "source": [
    "import numpy as np\n",
    "import pandas as pd\n",
    "from scipy import stats\n",
    "\n",
    "%matplotlib inline"
   ]
  },
  {
   "cell_type": "markdown",
   "metadata": {},
   "source": [
    "\n",
    "### <font color=red>Exemplo simples</font>\n",
    "Por exemplo, na lista abaixo, o valor 3 é maior que 60% dos valores da lista"
   ]
  },
  {
   "cell_type": "code",
   "execution_count": 2,
   "metadata": {},
   "outputs": [
    {
     "data": {
      "text/plain": [
       "60.0"
      ]
     },
     "execution_count": 2,
     "metadata": {},
     "output_type": "execute_result"
    }
   ],
   "source": [
    "stats.percentileofscore([1,2,3,4,5], 3)"
   ]
  },
  {
   "cell_type": "markdown",
   "metadata": {},
   "source": [
    "Para praticar, vamos achar o percentil de cada valor da amostra abaixo"
   ]
  },
  {
   "cell_type": "code",
   "execution_count": 3,
   "metadata": {
    "collapsed": true
   },
   "outputs": [],
   "source": [
    "amostra = np.array([  5.58443975,  10.42125844,  10.57894098,   6.78507471,\n",
    "         6.1767487 ,  12.71833286,  10.11393538,  12.97557013,\n",
    "        12.01255082,  15.17561224,   5.11147854,  13.42857119,\n",
    "         6.80522698,   8.17790503,   5.96152297,   6.42830777,\n",
    "         7.41069112,  12.48984296,   9.99687892,  16.70630339,\n",
    "         8.6264416 ,   8.53292419,   8.79594192,   8.37724614,\n",
    "         7.89581508,  12.15351176,   8.9149458 ,   3.30822101,\n",
    "         9.36234861,   5.4167981 ,   7.1648874 ,  10.87436614,\n",
    "        10.30155994,   4.52211021,  12.51942607,   2.47073856,\n",
    "         5.73999789,   5.42823426,   9.56181166,   2.5457849 ,\n",
    "        10.11030069,   7.07075046,  14.83336188,   8.66776996,\n",
    "        12.43605425,  16.65238058,   5.13477541,   9.60515916,\n",
    "        13.13366758,   6.3283075 ,  12.11080188,   8.81327068,\n",
    "         4.32310389,   8.19368907,  11.02844578,  14.80164046,\n",
    "         8.85524531,  10.90310737,   1.72865018,  10.17529481,\n",
    "        15.70107835,   8.53167533,   4.38467787,   7.65992334,\n",
    "         8.0062162 ,  12.93178928])"
   ]
  },
  {
   "cell_type": "markdown",
   "metadata": {},
   "source": [
    "Para que os valores saiam em ordem, é importante ordenar a amostra primeiro"
   ]
  },
  {
   "cell_type": "code",
   "execution_count": 4,
   "metadata": {
    "collapsed": true
   },
   "outputs": [],
   "source": [
    "amostra = np.sort(amostra)"
   ]
  },
  {
   "cell_type": "code",
   "execution_count": 5,
   "metadata": {},
   "outputs": [
    {
     "data": {
      "text/plain": [
       "array([  1.72865018,   2.47073856,   2.5457849 ,   3.30822101,\n",
       "         4.32310389,   4.38467787,   4.52211021,   5.11147854,\n",
       "         5.13477541,   5.4167981 ,   5.42823426,   5.58443975,\n",
       "         5.73999789,   5.96152297,   6.1767487 ,   6.3283075 ,\n",
       "         6.42830777,   6.78507471,   6.80522698,   7.07075046,\n",
       "         7.1648874 ,   7.41069112,   7.65992334,   7.89581508,\n",
       "         8.0062162 ,   8.17790503,   8.19368907,   8.37724614,\n",
       "         8.53167533,   8.53292419,   8.6264416 ,   8.66776996,\n",
       "         8.79594192,   8.81327068,   8.85524531,   8.9149458 ,\n",
       "         9.36234861,   9.56181166,   9.60515916,   9.99687892,\n",
       "        10.11030069,  10.11393538,  10.17529481,  10.30155994,\n",
       "        10.42125844,  10.57894098,  10.87436614,  10.90310737,\n",
       "        11.02844578,  12.01255082,  12.11080188,  12.15351176,\n",
       "        12.43605425,  12.48984296,  12.51942607,  12.71833286,\n",
       "        12.93178928,  12.97557013,  13.13366758,  13.42857119,\n",
       "        14.80164046,  14.83336188,  15.17561224,  15.70107835,\n",
       "        16.65238058,  16.70630339])"
      ]
     },
     "execution_count": 5,
     "metadata": {},
     "output_type": "execute_result"
    }
   ],
   "source": [
    "amostra"
   ]
  },
  {
   "cell_type": "markdown",
   "metadata": {},
   "source": [
    "### Calculando os percentis de uma lista"
   ]
  },
  {
   "cell_type": "markdown",
   "metadata": {},
   "source": [
    "Vamos estender o **exemplo simples** fornecido acima aplicando a função `stats.percentileofscore` a todos os elementos de uma lista"
   ]
  },
  {
   "cell_type": "code",
   "execution_count": 6,
   "metadata": {},
   "outputs": [],
   "source": [
    "percentis_observados = [stats.percentileofscore(amostra, n) for n in amostra]"
   ]
  },
  {
   "cell_type": "code",
   "execution_count": 7,
   "metadata": {},
   "outputs": [
    {
     "data": {
      "text/plain": [
       "[1.5151515151515151,\n",
       " 3.0303030303030303,\n",
       " 4.5454545454545459,\n",
       " 6.0606060606060606,\n",
       " 7.5757575757575761,\n",
       " 9.0909090909090917,\n",
       " 10.606060606060606,\n",
       " 12.121212121212121,\n",
       " 13.636363636363635,\n",
       " 15.151515151515152,\n",
       " 16.666666666666664,\n",
       " 18.181818181818183,\n",
       " 19.696969696969695,\n",
       " 21.212121212121211,\n",
       " 22.727272727272727,\n",
       " 24.242424242424242,\n",
       " 25.757575757575758,\n",
       " 27.27272727272727,\n",
       " 28.787878787878789,\n",
       " 30.303030303030305,\n",
       " 31.818181818181817,\n",
       " 33.333333333333329,\n",
       " 34.848484848484851,\n",
       " 36.363636363636367,\n",
       " 37.878787878787875,\n",
       " 39.393939393939391,\n",
       " 40.909090909090914,\n",
       " 42.424242424242422,\n",
       " 43.939393939393938,\n",
       " 45.454545454545453,\n",
       " 46.969696969696969,\n",
       " 48.484848484848484,\n",
       " 50.0,\n",
       " 51.515151515151516,\n",
       " 53.030303030303031,\n",
       " 54.54545454545454,\n",
       " 56.060606060606055,\n",
       " 57.575757575757578,\n",
       " 59.090909090909093,\n",
       " 60.606060606060609,\n",
       " 62.121212121212125,\n",
       " 63.636363636363633,\n",
       " 65.151515151515156,\n",
       " 66.666666666666657,\n",
       " 68.181818181818173,\n",
       " 69.696969696969703,\n",
       " 71.212121212121218,\n",
       " 72.727272727272734,\n",
       " 74.242424242424249,\n",
       " 75.757575757575751,\n",
       " 77.272727272727266,\n",
       " 78.787878787878782,\n",
       " 80.303030303030297,\n",
       " 81.818181818181827,\n",
       " 83.333333333333343,\n",
       " 84.848484848484844,\n",
       " 86.36363636363636,\n",
       " 87.878787878787875,\n",
       " 89.393939393939391,\n",
       " 90.909090909090907,\n",
       " 92.424242424242422,\n",
       " 93.939393939393938,\n",
       " 95.454545454545453,\n",
       " 96.969696969696969,\n",
       " 98.484848484848484,\n",
       " 100.0]"
      ]
     },
     "execution_count": 7,
     "metadata": {},
     "output_type": "execute_result"
    }
   ],
   "source": [
    "percentis_observados"
   ]
  },
  {
   "cell_type": "code",
   "execution_count": null,
   "metadata": {
    "collapsed": true
   },
   "outputs": [],
   "source": []
  }
 ],
 "metadata": {
  "kernelspec": {
   "display_name": "Python 3",
   "language": "python",
   "name": "python3"
  },
  "language_info": {
   "codemirror_mode": {
    "name": "ipython",
    "version": 3
   },
   "file_extension": ".py",
   "mimetype": "text/x-python",
   "name": "python",
   "nbconvert_exporter": "python",
   "pygments_lexer": "ipython3",
   "version": "3.6.1"
  }
 },
 "nbformat": 4,
 "nbformat_minor": 2
}
