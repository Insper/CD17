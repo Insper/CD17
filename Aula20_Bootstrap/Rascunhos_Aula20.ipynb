{
 "cells": [
  {
   "cell_type": "code",
   "execution_count": 23,
   "metadata": {},
   "outputs": [],
   "source": [
    "import numpy as np\n",
    "import pandas as pd\n",
    "from scipy.stats import norm\n",
    "import matplotlib.pyplot as plt\n",
    "import numpy.random as nprandom\n",
    "\n",
    "\n",
    "%matplotlib inline\n"
   ]
  },
  {
   "cell_type": "code",
   "execution_count": 24,
   "metadata": {},
   "outputs": [],
   "source": [
    "a = norm.rvs(loc=50, scale=20, size=15)"
   ]
  },
  {
   "cell_type": "code",
   "execution_count": 25,
   "metadata": {},
   "outputs": [
    {
     "data": {
      "text/plain": [
       "array([ 33.99553352,  43.73390571, -19.71542583,  83.12340249,\n",
       "        46.77852655,  54.74006355,  -4.5133848 ,  50.0488716 ,\n",
       "        70.68379121,  38.63079126,  83.35338972,  52.68495329,\n",
       "        37.47344056,  60.0373909 ,  46.07675084])"
      ]
     },
     "execution_count": 25,
     "metadata": {},
     "output_type": "execute_result"
    }
   ],
   "source": [
    "a"
   ]
  },
  {
   "cell_type": "code",
   "execution_count": 26,
   "metadata": {},
   "outputs": [
    {
     "data": {
      "text/plain": [
       "(array([ 1.,  1.,  0.,  0.,  0.,  3.,  4.,  3.,  1.,  2.]),\n",
       " array([-19.71542583,  -9.40854428,   0.89833728,  11.20521883,\n",
       "         21.51210039,  31.81898194,  42.1258635 ,  52.43274505,\n",
       "         62.73962661,  73.04650816,  83.35338972]),\n",
       " <a list of 10 Patch objects>)"
      ]
     },
     "execution_count": 26,
     "metadata": {},
     "output_type": "execute_result"
    },
    {
     "data": {
      "image/png": "[encoded data removed]",
      "text/plain": [
       "<matplotlib.figure.Figure at 0x1139e0320>"
      ]
     },
     "metadata": {},
     "output_type": "display_data"
    }
   ],
   "source": [
    "plt.hist(a)"
   ]
  },
  {
   "cell_type": "code",
   "execution_count": 27,
   "metadata": {
    "collapsed": true
   },
   "outputs": [],
   "source": [
    "n = len(a)"
   ]
  },
  {
   "cell_type": "code",
   "execution_count": 28,
   "metadata": {},
   "outputs": [],
   "source": [
    "amostra = nprandom.choice(a, size=n)"
   ]
  },
  {
   "cell_type": "code",
   "execution_count": 29,
   "metadata": {},
   "outputs": [
    {
     "data": {
      "text/plain": [
       "array([ 46.07675084,  33.99553352,  37.47344056,  83.35338972,\n",
       "        37.47344056,  43.73390571,  60.0373909 ,  37.47344056,\n",
       "        70.68379121,  54.74006355,  70.68379121,  33.99553352,\n",
       "        60.0373909 ,  60.0373909 ,  83.12340249])"
      ]
     },
     "execution_count": 29,
     "metadata": {},
     "output_type": "execute_result"
    }
   ],
   "source": [
    "amostra"
   ]
  },
  {
   "cell_type": "markdown",
   "metadata": {},
   "source": [
    "### Distribuição das médias amostrais"
   ]
  },
  {
   "cell_type": "code",
   "execution_count": 46,
   "metadata": {},
   "outputs": [
    {
     "data": {
      "text/plain": [
       "(array([  3.00000000e+00,   8.00000000e+00,   1.10000000e+01,\n",
       "          2.70000000e+01,   5.60000000e+01,   1.24000000e+02,\n",
       "          2.25000000e+02,   3.66000000e+02,   7.05000000e+02,\n",
       "          1.23200000e+03,   1.90500000e+03,   2.91500000e+03,\n",
       "          4.35700000e+03,   5.87700000e+03,   7.57000000e+03,\n",
       "          9.06200000e+03,   1.04280000e+04,   1.10860000e+04,\n",
       "          1.09270000e+04,   9.58400000e+03,   8.18100000e+03,\n",
       "          6.16100000e+03,   4.25400000e+03,   2.52600000e+03,\n",
       "          1.39000000e+03,   6.60000000e+02,   2.41000000e+02,\n",
       "          9.50000000e+01,   1.70000000e+01,   7.00000000e+00]),\n",
       " array([ 11.81985779,  13.74688257,  15.67390735,  17.60093214,\n",
       "         19.52795692,  21.4549817 ,  23.38200648,  25.30903126,\n",
       "         27.23605604,  29.16308082,  31.0901056 ,  33.01713038,\n",
       "         34.94415516,  36.87117995,  38.79820473,  40.72522951,\n",
       "         42.65225429,  44.57927907,  46.50630385,  48.43332863,\n",
       "         50.36035341,  52.28737819,  54.21440297,  56.14142776,\n",
       "         58.06845254,  59.99547732,  61.9225021 ,  63.84952688,\n",
       "         65.77655166,  67.70357644,  69.63060122]),\n",
       " <a list of 30 Patch objects>)"
      ]
     },
     "execution_count": 46,
     "metadata": {},
     "output_type": "execute_result"
    },
    {
     "data": {
      "image/png": "[encoded data removed]",
      "text/plain": [
       "<matplotlib.figure.Figure at 0x12b774550>"
      ]
     },
     "metadata": {},
     "output_type": "display_data"
    }
   ],
   "source": [
    "medias = []\n",
    "\n",
    "for i in range(100000):\n",
    "    amostra = nprandom.choice(a, replace = True, size=n)\n",
    "    x_ = np.mean(amostra)\n",
    "    medias.append(x_)\n",
    "\n",
    "plt.hist(medias, bins=30)"
   ]
  },
  {
   "cell_type": "markdown",
   "metadata": {},
   "source": [
    "### Versão sem loop"
   ]
  },
  {
   "cell_type": "code",
   "execution_count": 47,
   "metadata": {},
   "outputs": [
    {
     "data": {
      "text/plain": [
       "(array([  2.00000000e+00,   8.00000000e+00,   2.50000000e+01,\n",
       "          7.80000000e+01,   1.49000000e+02,   3.88000000e+02,\n",
       "          9.16000000e+02,   1.92200000e+03,   3.80800000e+03,\n",
       "          7.53900000e+03,   1.36580000e+04,   2.29620000e+04,\n",
       "          3.69040000e+04,   5.40070000e+04,   7.51160000e+04,\n",
       "          9.50720000e+04,   1.12515000e+05,   1.21179000e+05,\n",
       "          1.20967000e+05,   1.08453000e+05,   8.69580000e+04,\n",
       "          6.18720000e+04,   3.91760000e+04,   2.10850000e+04,\n",
       "          9.78900000e+03,   3.86800000e+03,   1.17500000e+03,\n",
       "          3.39000000e+02,   6.30000000e+01,   7.00000000e+00]),\n",
       " array([  7.61429772,   9.75941624,  11.90453476,  14.04965328,\n",
       "         16.1947718 ,  18.33989032,  20.48500884,  22.63012736,\n",
       "         24.77524588,  26.9203644 ,  29.06548292,  31.21060144,\n",
       "         33.35571996,  35.50083848,  37.645957  ,  39.79107552,\n",
       "         41.93619404,  44.08131256,  46.22643108,  48.3715496 ,\n",
       "         50.51666812,  52.66178664,  54.80690516,  56.95202368,\n",
       "         59.0971422 ,  61.24226072,  63.38737924,  65.53249776,\n",
       "         67.67761628,  69.8227348 ,  71.96785332]),\n",
       " <a list of 30 Patch objects>)"
      ]
     },
     "execution_count": 47,
     "metadata": {},
     "output_type": "execute_result"
    },
    {
     "data": {
      "image/png": "[encoded data removed]",
      "text/plain": [
       "<matplotlib.figure.Figure at 0x12addd278>"
      ]
     },
     "metadata": {},
     "output_type": "display_data"
    }
   ],
   "source": [
    "amostra = nprandom.choice(a, replace=True, size=(n, 1000000))\n",
    "medias = np.mean(amostra, axis = 0)                          \n",
    "plt.hist(medias, bins=30)"
   ]
  },
  {
   "cell_type": "code",
   "execution_count": 37,
   "metadata": {},
   "outputs": [
    {
     "data": {
      "text/plain": [
       "18.102349782817903"
      ]
     },
     "execution_count": 37,
     "metadata": {},
     "output_type": "execute_result"
    }
   ],
   "source": [
    "np.percentile(medias, 0.02)"
   ]
  },
  {
   "cell_type": "markdown",
   "metadata": {},
   "source": [
    "### Distribuição das variâncias amostrais"
   ]
  },
  {
   "cell_type": "code",
   "execution_count": 48,
   "metadata": {},
   "outputs": [
    {
     "data": {
      "text/plain": [
       "(array([  3.40000000e+02,   1.41200000e+03,   3.13700000e+03,\n",
       "          4.44600000e+03,   4.51400000e+03,   4.44800000e+03,\n",
       "          6.40400000e+03,   7.53600000e+03,   8.21600000e+03,\n",
       "          8.15700000e+03,   8.35800000e+03,   7.62800000e+03,\n",
       "          7.24900000e+03,   6.34400000e+03,   5.58800000e+03,\n",
       "          4.56300000e+03,   3.52600000e+03,   2.56600000e+03,\n",
       "          1.99700000e+03,   1.34800000e+03,   8.84000000e+02,\n",
       "          5.76000000e+02,   3.29000000e+02,   2.22000000e+02,\n",
       "          1.09000000e+02,   4.20000000e+01,   2.20000000e+01,\n",
       "          2.40000000e+01,   9.00000000e+00,   6.00000000e+00]),\n",
       " array([   23.27724131,    86.47993444,   149.68262757,   212.8853207 ,\n",
       "          276.08801383,   339.29070695,   402.49340008,   465.69609321,\n",
       "          528.89878634,   592.10147947,   655.30417259,   718.50686572,\n",
       "          781.70955885,   844.91225198,   908.11494511,   971.31763823,\n",
       "         1034.52033136,  1097.72302449,  1160.92571762,  1224.12841075,\n",
       "         1287.33110388,  1350.533797  ,  1413.73649013,  1476.93918326,\n",
       "         1540.14187639,  1603.34456952,  1666.54726264,  1729.74995577,\n",
       "         1792.9526489 ,  1856.15534203,  1919.35803516]),\n",
       " <a list of 30 Patch objects>)"
      ]
     },
     "execution_count": 48,
     "metadata": {},
     "output_type": "execute_result"
    },
    {
     "data": {
      "image/png": "[encoded data removed]",
      "text/plain": [
       "<matplotlib.figure.Figure at 0x12b947dd8>"
      ]
     },
     "metadata": {},
     "output_type": "display_data"
    }
   ],
   "source": [
    "varis = []\n",
    "\n",
    "for i in range(100000):\n",
    "    amostra = nprandom.choice(a, replace=True,  size=n)\n",
    "    var_amostra = np.var(amostra)\n",
    "    varis.append(var_amostra)\n",
    "\n",
    "plt.hist(varis, bins=30)"
   ]
  },
  {
   "cell_type": "code",
   "execution_count": null,
   "metadata": {
    "collapsed": true
   },
   "outputs": [],
   "source": []
  },
  {
   "cell_type": "code",
   "execution_count": null,
   "metadata": {
    "collapsed": true
   },
   "outputs": [],
   "source": []
  },
  {
   "cell_type": "code",
   "execution_count": null,
   "metadata": {
    "collapsed": true
   },
   "outputs": [],
   "source": []
  },
  {
   "cell_type": "code",
   "execution_count": null,
   "metadata": {
    "collapsed": true
   },
   "outputs": [],
   "source": []
  }
 ],
 "metadata": {
  "kernelspec": {
   "display_name": "Python 3",
   "language": "python",
   "name": "python3"
  },
  "language_info": {
   "codemirror_mode": {
    "name": "ipython",
    "version": 3
   },
   "file_extension": ".py",
   "mimetype": "text/x-python",
   "name": "python",
   "nbconvert_exporter": "python",
   "pygments_lexer": "ipython3",
   "version": "3.6.1"
  }
 },
 "nbformat": 4,
 "nbformat_minor": 2
}
