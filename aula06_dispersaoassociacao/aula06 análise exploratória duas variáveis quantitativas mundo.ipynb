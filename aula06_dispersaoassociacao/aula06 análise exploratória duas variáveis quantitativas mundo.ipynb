{
 "cells": [
  {
   "cell_type": "markdown",
   "metadata": {},
   "source": [
    "___\n",
    "# Análise Exploratória: Duas variáveis quantitativas\n",
    "___\n",
    "\n",
    "## Aula 06\n",
    "\n",
    "\n",
    "**Preparo Prévio:**\n",
    "1. Leitura prévia necessária: Montgomery et al (5ª. Edição): Seção 2.6 (pág. 46) e Exemplo 6.1 (pág. 306).\n",
    "\n",
    "**Hoje:**\n",
    "1. Analisar, graficamente, a associação entre duas variáveis quantitativas.\n",
    "2. Compreender a medida nomeada coeficiente de covariância, no que tange ao significado da fórmula e uso do valor resultante para descrever associação entre variáveis.\n",
    "3. Avaliar vantagens e desvantagens do coeficiente de covariância e buscar alternativa que compense seu mau uso (coeficiente de correlação).\n",
    "4. Interpretar, descritivamente, valores dos coeficientes linear e angular para qualquer problema prático.\n",
    "5. Fechamento do conteúdo.\n",
    "\n",
    "**Próxima aula:**\n",
    "1. Estudo para PROJETO 1!"
   ]
  },
  {
   "cell_type": "markdown",
   "metadata": {},
   "source": [
    "___\n",
    "## <font color='blue'>Mundo</font>\n",
    "\n",
    "A análise bidimensional tem como objetivo encontrar associação ou relação entre as variáveis quantitativas. Essas relações podem ser identificadas através de gráficos ou medidas numéricas. Entende-se por associação a mudança de opinião sobre o comportamento de uma variável na presença de informação sobre a segunda variável.\n",
    "\n",
    "Inicialmente, a base de dados `Mundo.txt` será explorada com intuito de entender a associação entre algumas de suas variáveis quantitativas. Esse conjunto de dados contém alguns indicadores socioeconômicos referentes ao ano de 2008 para 85 países, os quais são:  \n",
    "X1: população em milhares de habitantes  \n",
    "X2: densidade populacional  \n",
    "X3: % de população urbana  \n",
    "X4: expectativa de vida feminina  \n",
    "X5: expectativa de vida masculina  \n",
    "X6: crescimento populacional  \n",
    "X7: mortalidade infantil  \n",
    "X8: PIB per capita  \n",
    "X9: % de mulheres alfabetizadas  \n",
    "X10: população em 100.000 habitantes  \n",
    "\n",
    "Responda:\n",
    "\n",
    "1. Um gráfico de dispersão pode ser utilizado para compreender a relação entre duas variáveis quantitativas. Não necessariamente essa relação implica em causalidade (https://economiadependrive.wordpress.com/2014/09/25/correlacao-nao-implica-em-causalidade/)  e, em alguns casos, pode se tratar de uma relação espúria (http://www.tylervigen.com/spurious-correlations). Construa um gráfico de dispersão entre as variáveis X3 (eixo das abscissas) e X4 (eixo das ordenadas), em que cada ponto ⧫ representa um país da base de dados de acordo com o par de coordenadas nessas duas variáveis quantitativas. Repita considerando as variáveis  X3 e X5, as variáveis X3 e X6  e as variáveis X3 e X7. Para cada um dos quatro gráficos, descreva a relação entre as variáveis.\n",
    "\n",
    "2. O gráfico de dispersão é uma ferramenta descritiva simples, porém útil para examinar uma possível relação entre variáveis quantitativas. A literatura estatística apresenta uma medida, nomeada de covariância, cujo sinal pode ser um indicativo do tipo de associação linear: positiva, se maior que zero; negativa, se menor que zero; e ausente de associação linear, se igual a zero. Calcule a covariância para cada par de variáveis utilizadas nos gráficos acima. Contraste as interpretações gráficas e os resultados das covariâncias. É possível perceber que essa medida é capaz de traduzir o sinal da associação entre as variáveis quantitativas? Por quê? Justifique a sua resposta. Observação: faça uma explicação dizendo também porque a covariância é capaz de mensurar corretamente uma possível associação linear.\n",
    "___"
   ]
  },
  {
   "cell_type": "code",
   "execution_count": 2,
   "metadata": {
    "collapsed": false
   },
   "outputs": [
    {
     "name": "stdout",
     "output_type": "stream",
     "text": [
      "Esperamos trabalhar no diretório\n",
      "C:\\Users\\rauli\\SharePoint\\Fabio Roberto de Miranda\\data_science\\2017.2\\Aulas K\\Aula06 - Variáveis Quantitativas - Gráfico de dispersão e Medidas de associação\n"
     ]
    }
   ],
   "source": [
    "%matplotlib inline\n",
    "\n",
    "import os\n",
    "import pandas as pd\n",
    "import numpy as np\n",
    "import matplotlib.pyplot as plt\n",
    "\n",
    "print('Esperamos trabalhar no diretório')\n",
    "print(os.getcwd())"
   ]
  },
  {
   "cell_type": "code",
   "execution_count": 3,
   "metadata": {
    "collapsed": false
   },
   "outputs": [
    {
     "data": {
      "text/html": [
       "<div>\n",
       "<style>\n",
       "    .dataframe thead tr:only-child th {\n",
       "        text-align: right;\n",
       "    }\n",
       "\n",
       "    .dataframe thead th {\n",
       "        text-align: left;\n",
       "    }\n",
       "\n",
       "    .dataframe tbody tr th {\n",
       "        vertical-align: top;\n",
       "    }\n",
       "</style>\n",
       "<table border=\"1\" class=\"dataframe\">\n",
       "  <thead>\n",
       "    <tr style=\"text-align: right;\">\n",
       "      <th></th>\n",
       "      <th>i</th>\n",
       "      <th>X1</th>\n",
       "      <th>X2</th>\n",
       "      <th>X3</th>\n",
       "      <th>X4</th>\n",
       "      <th>X5</th>\n",
       "      <th>X6</th>\n",
       "      <th>X7</th>\n",
       "      <th>X8</th>\n",
       "      <th>X9</th>\n",
       "      <th>X10</th>\n",
       "    </tr>\n",
       "  </thead>\n",
       "  <tbody>\n",
       "    <tr>\n",
       "      <th>0</th>\n",
       "      <td>1</td>\n",
       "      <td>20500</td>\n",
       "      <td>25.0</td>\n",
       "      <td>18</td>\n",
       "      <td>44</td>\n",
       "      <td>45</td>\n",
       "      <td>2.80</td>\n",
       "      <td>168.0</td>\n",
       "      <td>205</td>\n",
       "      <td>14</td>\n",
       "      <td>0.205</td>\n",
       "    </tr>\n",
       "    <tr>\n",
       "      <th>1</th>\n",
       "      <td>2</td>\n",
       "      <td>33900</td>\n",
       "      <td>12.0</td>\n",
       "      <td>86</td>\n",
       "      <td>75</td>\n",
       "      <td>68</td>\n",
       "      <td>1.30</td>\n",
       "      <td>25.6</td>\n",
       "      <td>3408</td>\n",
       "      <td>95</td>\n",
       "      <td>0.339</td>\n",
       "    </tr>\n",
       "    <tr>\n",
       "      <th>2</th>\n",
       "      <td>3</td>\n",
       "      <td>3700</td>\n",
       "      <td>126.0</td>\n",
       "      <td>68</td>\n",
       "      <td>75</td>\n",
       "      <td>68</td>\n",
       "      <td>1.40</td>\n",
       "      <td>27.0</td>\n",
       "      <td>5000</td>\n",
       "      <td>100</td>\n",
       "      <td>0.037</td>\n",
       "    </tr>\n",
       "    <tr>\n",
       "      <th>3</th>\n",
       "      <td>4</td>\n",
       "      <td>17800</td>\n",
       "      <td>2.3</td>\n",
       "      <td>85</td>\n",
       "      <td>80</td>\n",
       "      <td>74</td>\n",
       "      <td>1.38</td>\n",
       "      <td>7.3</td>\n",
       "      <td>16848</td>\n",
       "      <td>100</td>\n",
       "      <td>0.178</td>\n",
       "    </tr>\n",
       "    <tr>\n",
       "      <th>4</th>\n",
       "      <td>5</td>\n",
       "      <td>7400</td>\n",
       "      <td>86.0</td>\n",
       "      <td>54</td>\n",
       "      <td>75</td>\n",
       "      <td>67</td>\n",
       "      <td>1.40</td>\n",
       "      <td>35.0</td>\n",
       "      <td>3000</td>\n",
       "      <td>100</td>\n",
       "      <td>0.074</td>\n",
       "    </tr>\n",
       "  </tbody>\n",
       "</table>\n",
       "</div>"
      ],
      "text/plain": [
       "   i     X1     X2  X3  X4  X5    X6     X7     X8   X9    X10\n",
       "0  1  20500   25.0  18  44  45  2.80  168.0    205   14  0.205\n",
       "1  2  33900   12.0  86  75  68  1.30   25.6   3408   95  0.339\n",
       "2  3   3700  126.0  68  75  68  1.40   27.0   5000  100  0.037\n",
       "3  4  17800    2.3  85  80  74  1.38    7.3  16848  100  0.178\n",
       "4  5   7400   86.0  54  75  67  1.40   35.0   3000  100  0.074"
      ]
     },
     "execution_count": 3,
     "metadata": {},
     "output_type": "execute_result"
    }
   ],
   "source": [
    "Mundo = pd.read_excel('Mundo.xlsx')\n",
    "Mundo.head()"
   ]
  },
  {
   "cell_type": "markdown",
   "metadata": {},
   "source": [
    "___\n",
    "*Responda:*\n",
    "\n",
    "1) Um gráfico de dispersão pode ser utilizado para compreender a relação (ou seja, associação) entre duas variáveis quantitativas. Observando os quatro gráficos de dispersão a seguir feitos com algumas das variáveis do conjunto de dados, como você descreveria a relação entre elas?"
   ]
  },
  {
   "cell_type": "code",
   "execution_count": 4,
   "metadata": {
    "collapsed": false
   },
   "outputs": [
    {
     "data": {
      "image/png": "[encoded data removed]",
      "text/plain": [
       "<matplotlib.figure.Figure at 0x2062f6f2ba8>"
      ]
     },
     "metadata": {},
     "output_type": "display_data"
    }
   ],
   "source": [
    "fig = plt.figure(figsize=(10, 10))\n",
    "plt.subplot(221)\n",
    "plt.scatter(Mundo.X3, Mundo.X4, c='red', alpha=0.8)\n",
    "plt.title('X3 versus X4')\n",
    "plt.xlabel('% de população urbana')\n",
    "plt.ylabel('Expectativa de vida Feminina')\n",
    "\n",
    "plt.subplot(222)\n",
    "plt.scatter(Mundo.X3, Mundo.X5, c='red', alpha=0.8)\n",
    "plt.title('X3 versus X5')\n",
    "plt.xlabel('% de população urbana')\n",
    "plt.ylabel('Expectativa de vida Masculina')\n",
    "\n",
    "plt.subplot(223)\n",
    "plt.scatter(Mundo.X3, Mundo.X6, c='red', alpha=0.8)\n",
    "plt.title('X3 versus X6')\n",
    "plt.xlabel('% de população urbana')\n",
    "plt.ylabel('Crescimento populacional')\n",
    "\n",
    "plt.subplot(224)\n",
    "plt.scatter(Mundo.X3, Mundo.X7, c='red', alpha=0.8)\n",
    "plt.title('X3 versus X7')\n",
    "plt.xlabel('% de população urbana')\n",
    "plt.ylabel('Mortalidade infantil')\n",
    "\n",
    "plt.tight_layout()\n",
    "plt.show()"
   ]
  },
  {
   "cell_type": "markdown",
   "metadata": {},
   "source": [
    "___\n",
    "*Responda:*\n",
    "\n",
    "2) Medida de covariância: $$\\mathrm{Cov}(X, Y) = \\frac{1}{n} \\sum^n_{i=1}(x_i - \\overline{x})(y_i - \\overline{y}) \\quad\\quad\\quad\\quad (1)$$\n",
    "\n",
    "Calcule a covariância para cada par de variáveis utilizadas nos gráficos acima. Contraste as interpretações gráficas e os resultados das covariâncias. É possível perceber que essa medida é capaz de traduzir o sinal da associação entre as variáveis quantitativas? Por quê? Justifique a sua resposta. Observação: faça uma explicação dizendo também porque a covariância é capaz de mensurar corretamente uma possível associação linear."
   ]
  },
  {
   "cell_type": "code",
   "execution_count": 7,
   "metadata": {
    "collapsed": false
   },
   "outputs": [
    {
     "name": "stdout",
     "output_type": "stream",
     "text": [
      "Covariância entre X3 e X4: 194.349859944\n",
      "Covariância entre X3 e X5: 166.230112045\n",
      "Covariância entre X3 e X6: -6.84632212885\n",
      "Covariância entre X3 e X7: -671.678008403\n"
     ]
    }
   ],
   "source": [
    "print(\"Covariância entre X3 e X4:\",np.cov(Mundo.X3,Mundo.X4)[0,1])  #Ou este comando Mundo.X3.cov(Mundo.X4)\n",
    "print(\"Covariância entre X3 e X5:\",np.cov(Mundo.X3,Mundo.X5)[0,1])\n",
    "print(\"Covariância entre X3 e X6:\",np.cov(Mundo.X3,Mundo.X6)[0,1])\n",
    "print(\"Covariância entre X3 e X7:\",np.cov(Mundo.X3,Mundo.X7)[0,1])\n"
   ]
  },
  {
   "cell_type": "code",
   "execution_count": 8,
   "metadata": {
    "collapsed": false
   },
   "outputs": [
    {
     "name": "stdout",
     "output_type": "stream",
     "text": [
      "Correlação entre X3 e X4: 0.747773284605\n",
      "Correlação entre X3 e X5: 0.729723116276\n",
      "Correlação entre X3 e X6: -0.25355939334\n",
      "Correlação entre X3 e X7: -0.723770233147\n"
     ]
    }
   ],
   "source": [
    "print(\"Correlação entre X3 e X4:\",np.corrcoef(Mundo.X3,Mundo.X4)[0,1])  #Ou este comando Mundo.X3.corr(Mundo.X4)\n",
    "print(\"Correlação entre X3 e X5:\",np.corrcoef(Mundo.X3,Mundo.X5)[0,1])\n",
    "print(\"Correlação entre X3 e X6:\",np.corrcoef(Mundo.X3,Mundo.X6)[0,1])\n",
    "print(\"Correlação entre X3 e X7:\",np.corrcoef(Mundo.X3,Mundo.X7)[0,1])"
   ]
  },
  {
   "cell_type": "markdown",
   "metadata": {
    "collapsed": true
   },
   "source": [
    "\n",
    "\n",
    "\n",
    "\n",
    "\n",
    "\n",
    "\n",
    "\n",
    "\n",
    "\n",
    "\n",
    "\n",
    "\n",
    "\n"
   ]
  },
  {
   "cell_type": "markdown",
   "metadata": {},
   "source": [
    "___\n",
    "\n",
    "3) Ajuste de reta apenas para interpretação dos coeficientes:\n",
    "\n",
    "A solução pode ser pelo ajuste de uma reta:\n",
    "\n",
    "<img src=\"regressao.png\">\n",
    "\n",
    "E, no caso, uma reta depende de um coeficiente linear (*a*) e de um coeficiente angular (*b*) e pode ser matematicamente expressa por:\n",
    "\n",
    "$$\\hat{y} = a + bx$$\n",
    "\n",
    "Ainda sem entrar em detalhes, esses coeficientes devem ser obtidos a partir dos dados utilizando algumas medidas-resumo pelas seguintes expressões:\n",
    "\n",
    "$$b = \\frac{\\mathrm{Cov}(X, Y)}{\\mathrm{Var}(X)}$$\n",
    "\n",
    "$$a = \\overline{y} - b\\overline{x}$$\n"
   ]
  },
  {
   "cell_type": "markdown",
   "metadata": {},
   "source": [
    "*Responda:*\n",
    "\n",
    "3.1) Calcule esses coeficientes linear e angular e interprete-os para o problema em questão."
   ]
  },
  {
   "cell_type": "code",
   "execution_count": 9,
   "metadata": {
    "collapsed": false
   },
   "outputs": [
    {
     "name": "stdout",
     "output_type": "stream",
     "text": [
      "Ajuste linear entre X3 e X4:\n",
      "Coeficiente linear: 50.2039447956\n",
      "Coeficiente angular: 0.330900882683\n"
     ]
    },
    {
     "data": {
      "image/png": "[encoded data removed]",
      "text/plain": [
       "<matplotlib.figure.Figure at 0x2062f6f25f8>"
      ]
     },
     "metadata": {},
     "output_type": "display_data"
    }
   ],
   "source": [
    "# Regressão entre X3 e X4 com ajuste linear\n",
    "\n",
    "a = Mundo.X3.cov(Mundo.X4) / Mundo.X3.var()\n",
    "b = Mundo.X4.mean() - a*Mundo.X3.mean()\n",
    "\n",
    "print('Ajuste linear entre X3 e X4:')\n",
    "print('Coeficiente linear:', b)\n",
    "print('Coeficiente angular:', a)\n",
    "\n",
    "fig = plt.figure(figsize=(8, 6))\n",
    "plt.scatter(Mundo.X3, Mundo.X4, c='red', alpha=0.8)\n",
    "plt.title('X3 versus X4')\n",
    "plt.xlabel('% de população urbana')\n",
    "plt.ylabel('Expectativa de vida Feminina')\n",
    "\n",
    "plt.plot((Mundo.X3.min(), Mundo.X3.max()), (a*Mundo.X3.min()+b, a*Mundo.X3.max()+b), color='blue')\n",
    "\n",
    "plt.tight_layout()\n",
    "plt.show()"
   ]
  },
  {
   "cell_type": "markdown",
   "metadata": {},
   "source": [
    "*Responda:*\n",
    "\n",
    "3.2) Considerando essa reta ajustada, qual deve ser a expectativa de vida feminina em um país com 73% da população vivendo na região urbana?"
   ]
  },
  {
   "cell_type": "code",
   "execution_count": 10,
   "metadata": {
    "collapsed": false
   },
   "outputs": [
    {
     "name": "stdout",
     "output_type": "stream",
     "text": [
      "Valor estimado para Expectativa de vida Feminina quando %população urbana igual a 73 é igual a 74.36 anos\n"
     ]
    }
   ],
   "source": [
    "print('Valor estimado para Expectativa de vida Feminina quando %população urbana igual a 73 é igual a', np.round(a*73+b,2), 'anos')"
   ]
  },
  {
   "cell_type": "code",
   "execution_count": null,
   "metadata": {
    "collapsed": true
   },
   "outputs": [],
   "source": []
  },
  {
   "cell_type": "code",
   "execution_count": null,
   "metadata": {
    "collapsed": true
   },
   "outputs": [],
   "source": []
  },
  {
   "cell_type": "code",
   "execution_count": null,
   "metadata": {
    "collapsed": true
   },
   "outputs": [],
   "source": []
  }
 ],
 "metadata": {
  "anaconda-cloud": {},
  "kernelspec": {
   "display_name": "Python 3",
   "language": "python",
   "name": "python3"
  },
  "language_info": {
   "codemirror_mode": {
    "name": "ipython",
    "version": 3
   },
   "file_extension": ".py",
   "mimetype": "text/x-python",
   "name": "python",
   "nbconvert_exporter": "python",
   "pygments_lexer": "ipython3",
   "version": "3.5.2"
  }
 },
 "nbformat": 4,
 "nbformat_minor": 0
}
