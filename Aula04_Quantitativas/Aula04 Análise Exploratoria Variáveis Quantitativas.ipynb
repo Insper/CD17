{
 "cells": [
  {
   "cell_type": "markdown",
   "metadata": {},
   "source": [
    "___\n",
    "# Análise Exploratória: Variáveis quantitativas\n",
    "___\n",
    "\n",
    "## Aula 04\n",
    "\n",
    "\n",
    "**Links Úteis:**\n",
    "1.\tLeitura prévia necessária: Magalhães e Lima (7ª. Edição): pág. 9 a 16 – destacando para variáveis qualitativas.\n",
    "2.\t10 Minutes to Pandas: http://pandas.pydata.org/pandas-docs/stable/10min.html\n",
    "3.\tEssential Basic Functionality: http://pandas.pydata.org/pandas-docs/stable/basics.html\n",
    "\n",
    "**Hoje:**\n",
    "1. Explorar também as variáveis quantitativas do caso: Previsão de Risco de Inadimplência (Risco de Crédito) do Bank Loan. \n",
    "2. Construir tabelas de frequências e interpretar resultados considerando variáveis quantitativas de forma univariada e de forma cruzada com uma variável qualitativa. \n",
    "4. Explicar vantagens e desvantagens sobre o uso da frequência ou da densidade na construção de um histograma e saber interpretá-lo. \n",
    "5. Desenvolver contas para obtenção de mediana ou outros quantis a partir de tabelas de frequências. \n",
    "6. Fechamento do conteúdo.\n",
    "\n",
    "\n",
    "**Próxima aula:**\n",
    "1. Leitura prévia necessária: Magalhães e Lima (7ª. Edição): pág. 18 a 26; pág. 116 e 117 (Definição 4.4 e Exemplo 4.8). \n",
    "___\n"
   ]
  },
  {
   "cell_type": "markdown",
   "metadata": {},
   "source": [
    "## <font color='blue'>Empresa de TV</font>\n",
    "\n",
    "Uma empresa de TV via satélite criou recentemente dois tipos de planos de canais (A e B).\n",
    "\n",
    "A empresa tem como objetivo estudar o perfil dos clientes que aderiram ao plano para enviar malas diretas aos potenciais clientes de cada tipo de plano.\n",
    "\n",
    "A base de dados apresenta algumas variáveis para uma amostra de 82 clientes selecionados aleatoriamente dentre aqueles que aderiram aos planos. As variáveis têm os seguintes significados:\n",
    "\n",
    "* CLIENTE: identificador do cliente.\n",
    "* PLANO: apresenta o plano adquirido pelo cliente, A ou B. \n",
    "* EC: apresenta estado civil do cliente no momento da adesão ao plano, Casado, Solteiro e Outros.\n",
    "* SATISFACAO: grau de satisfação do cliente pelo plano,  Muito satisfeito, Satisfeito, Indiferente, Insatisfeito e Muito insatisfeito.\n",
    "* RENDA: renda pessoal do cliente, em milhares de reais.\n",
    "\n",
    "O arquivo `EmpresaTV.xls` contém as variáveis descritas acima.\n",
    "\n",
    "Faça uma análise exploratória apenas da variável quantitativa com foco no objetivo da empresa.\n",
    "Desenvolver as seguintes visualizações e resultados.\n",
    "\n",
    "1. Tabela de frequências, gráfico de colunas (bar) e histograma.\n",
    "2. Refazer segmentando por Plano.\n",
    "3. Calcule as medidas de posição (média, mediana e moda) a partir dos dados. \n",
    "4. Repetir item anterior obtendo a partir dos histogramas.\n",
    "\n"
   ]
  },
  {
   "cell_type": "code",
   "execution_count": null,
   "metadata": {
    "collapsed": true
   },
   "outputs": [],
   "source": [
    "%matplotlib inline\n",
    "import pandas as pd\n",
    "import matplotlib.pyplot as plt\n",
    "import os\n",
    "from numpy import arange"
   ]
  },
  {
   "cell_type": "code",
   "execution_count": null,
   "metadata": {},
   "outputs": [],
   "source": [
    "print('Esperamos trabalhar no diretório')\n",
    "print(os.getcwd())"
   ]
  },
  {
   "cell_type": "code",
   "execution_count": null,
   "metadata": {
    "collapsed": true
   },
   "outputs": [],
   "source": [
    "dados = pd.read_excel('EmpresaTV.xlsx')"
   ]
  },
  {
   "cell_type": "code",
   "execution_count": null,
   "metadata": {},
   "outputs": [],
   "source": [
    "dados.head()"
   ]
  },
  {
   "cell_type": "code",
   "execution_count": null,
   "metadata": {
    "collapsed": true
   },
   "outputs": [],
   "source": [
    "#Selecionando variável renda\n",
    "renda = dados.iloc[:,-1]"
   ]
  },
  {
   "cell_type": "code",
   "execution_count": null,
   "metadata": {},
   "outputs": [],
   "source": [
    "renda.value_counts().head(15)\n"
   ]
  },
  {
   "cell_type": "markdown",
   "metadata": {},
   "source": [
    "___\n",
    "## Análise univariada  - Amplitudes iguais\n",
    "\n",
    "## Comparação dos PLANOS"
   ]
  },
  {
   "cell_type": "code",
   "execution_count": null,
   "metadata": {},
   "outputs": [],
   "source": [
    "#So PLANO A\n",
    "#Selecionando variável renda \n",
    "rendaA = dados.RENDA[dados.PLANO=='A']\n",
    "rendaA.describe()"
   ]
  },
  {
   "cell_type": "code",
   "execution_count": null,
   "metadata": {},
   "outputs": [],
   "source": [
    "#So PLANO B\n",
    "#Selecionando variável renda \n",
    "rendaB = dados.RENDA[dados.PLANO=='B']\n",
    "rendaB.describe()"
   ]
  },
  {
   "cell_type": "code",
   "execution_count": null,
   "metadata": {
    "collapsed": true
   },
   "outputs": [],
   "source": [
    "#faixa = arange(0.3,25,3.13)\n",
    "faixa = arange(0.5,25,3.5)"
   ]
  },
  {
   "cell_type": "code",
   "execution_count": null,
   "metadata": {},
   "outputs": [],
   "source": [
    "# Tabelas univariada - PLANO A\n",
    "rendaAcat = pd.cut(rendaA, faixa, False)\n",
    "print('Frequências relativas:')\n",
    "ut1 = (rendaAcat.value_counts(sort=False, normalize=True)*100).round(decimals=1)\n",
    "print(ut1,'\\n')"
   ]
  },
  {
   "cell_type": "markdown",
   "metadata": {},
   "source": [
    "#### *PARA VISUALIZAR QUE AS CATEGORIAS DA RENDA FORAM CRIADAS CORRETAMENTE!*"
   ]
  },
  {
   "cell_type": "code",
   "execution_count": null,
   "metadata": {},
   "outputs": [],
   "source": [
    "pd.DataFrame([rendaA,rendaAcat]).T"
   ]
  },
  {
   "cell_type": "markdown",
   "metadata": {},
   "source": [
    "### NUNCA POR HIPÓTESE ALGUMA FAZER O GRÁFICO ABAIXO PARA UMA VARIÁVEL QUANTITATIVA CONTÍNUA OK!!\n",
    "\n",
    "### POR QUÊ??"
   ]
  },
  {
   "cell_type": "code",
   "execution_count": null,
   "metadata": {},
   "outputs": [],
   "source": [
    "#ERRADO!!!!\n",
    "#NUNCA POR HIPÓTESE ALGUMA FAZER UM GRÁFICO DESSES COM UMA VARIÁVEL QUANTITATIVA CONTÍNUA OK!!\n",
    "\n",
    "plot = ut1.plot(kind='bar',title='RENDA - PLANO A',figsize=(6, 6),color=('b'))\n",
    "plt.ylabel('Freq.Relativa (em %)')\n",
    "plt.xlabel('renda')"
   ]
  },
  {
   "cell_type": "code",
   "execution_count": null,
   "metadata": {},
   "outputs": [],
   "source": [
    "# Gráfico de colunas com frequência absoluta\n",
    "plot = rendaA.plot.hist(bins=faixa,title='´GRAFICO DE COLUNAS - PLANO A', figsize=(6, 6), alpha=0.5)\n",
    "plt.ylabel('Frequência absoluta')\n",
    "plt.xlabel('renda (em mil reais)')"
   ]
  },
  {
   "cell_type": "code",
   "execution_count": null,
   "metadata": {},
   "outputs": [],
   "source": [
    "# Gráfico de colunas\n",
    "from numpy import zeros_like\n",
    "plot = rendaA.plot.hist(bins=faixa,title='´GRAFICO DE COLUNAS - PLANO A', weights=zeros_like(rendaA)+1./rendaA.size*100, figsize=(6, 6), alpha=0.5)\n",
    "plt.ylabel('Frequência relativa (em %)')\n",
    "plt.xlabel('renda (em mil reais)')"
   ]
  },
  {
   "cell_type": "code",
   "execution_count": null,
   "metadata": {},
   "outputs": [],
   "source": [
    "# Histograma\n",
    "plot = rendaA.plot.hist(bins=faixa,title='HISTOGRAMA - PLANO A',figsize=(6, 6), normed=1, alpha=0.5)\n",
    "plt.ylabel('Densidade')\n",
    "plt.xlabel('renda (em mil reais)')"
   ]
  },
  {
   "cell_type": "code",
   "execution_count": null,
   "metadata": {},
   "outputs": [],
   "source": [
    "#So PLANO B\n",
    "#Selecionando variável renda \n",
    "rendaB = dados.RENDA[dados.PLANO=='B']\n",
    "rendaB.describe()"
   ]
  },
  {
   "cell_type": "code",
   "execution_count": null,
   "metadata": {},
   "outputs": [],
   "source": [
    "# Tabelas univariada - PLANO B\n",
    "rendaBcat = pd.cut(rendaB, faixa, False)\n",
    "print('Frequências relativas:')\n",
    "ut2 = (rendaBcat.value_counts(sort=False, normalize=True)*100).round(decimals=1)\n",
    "print(ut2,'\\n')"
   ]
  },
  {
   "cell_type": "code",
   "execution_count": null,
   "metadata": {},
   "outputs": [],
   "source": [
    "# Gráfico de colunas\n",
    "from numpy import zeros_like\n",
    "plot = rendaB.plot.hist(bins=faixa,title='GRAFICO DE COLUNAS - PLANO B', weights=zeros_like(rendaB)+1./rendaB.size*100, figsize=(6, 6), alpha=0.5, color='cyan')\n",
    "plt.ylabel('Frequência relativa (em %)')\n",
    "plt.xlabel('renda (em mil reais)')"
   ]
  },
  {
   "cell_type": "code",
   "execution_count": null,
   "metadata": {},
   "outputs": [],
   "source": [
    "# Histograma\n",
    "plot = rendaB.plot.hist(bins=faixa,title='HISTOGRAMA - PLANO B',figsize=(6, 6), normed=1, alpha=0.5, color='cyan')\n",
    "plt.ylabel('Densidade')\n",
    "plt.xlabel('renda (em mil reais)')"
   ]
  },
  {
   "cell_type": "markdown",
   "metadata": {},
   "source": [
    "___\n",
    "## Análise univariada  - Amplitudes desiguais"
   ]
  },
  {
   "cell_type": "code",
   "execution_count": null,
   "metadata": {
    "collapsed": true
   },
   "outputs": [],
   "source": [
    "faixa2 = (0,2,6,10,12,18,22)"
   ]
  },
  {
   "cell_type": "code",
   "execution_count": null,
   "metadata": {
    "collapsed": true
   },
   "outputs": [],
   "source": [
    "#Plano A\n",
    "rendaAcat2 = pd.cut(rendaA, faixa2, right=False)"
   ]
  },
  {
   "cell_type": "code",
   "execution_count": null,
   "metadata": {},
   "outputs": [],
   "source": [
    "# Tabelas univariada - PLANO A\n",
    "print('Frequências relativas:')\n",
    "ut3 = (rendaAcat2.value_counts(sort=False, normalize=True)*100).round(decimals=1)\n",
    "print(ut3,'\\n')"
   ]
  },
  {
   "cell_type": "code",
   "execution_count": null,
   "metadata": {},
   "outputs": [],
   "source": [
    "# Gráfico de barras PLANO A\n",
    "from numpy import zeros_like\n",
    "plot = rendaA.plot.hist(bins=faixa2, title='GRAFICO DE COLUNAS - PLANO A', weights=zeros_like(rendaA)+1./rendaA.size*100, figsize=(6, 6), alpha=0.5)\n",
    "plt.ylabel('Frequência relativa (em %)')\n",
    "plt.xlabel('renda (em mil reais)')"
   ]
  },
  {
   "cell_type": "code",
   "execution_count": null,
   "metadata": {},
   "outputs": [],
   "source": [
    "# Histograma - PLANO A\n",
    "plot = rendaA.plot.hist(bins=faixa2,title='HISTOGRAMA - PLANO A',figsize=(6, 6), normed=1, alpha=0.5)\n",
    "plt.ylabel('Densidade')\n",
    "plt.xlabel('renda (em mil reais)')"
   ]
  },
  {
   "cell_type": "code",
   "execution_count": null,
   "metadata": {
    "collapsed": true
   },
   "outputs": [],
   "source": [
    "#Plano B\n",
    "rendaBcat2 = pd.cut(rendaB, faixa2, right=False)"
   ]
  },
  {
   "cell_type": "code",
   "execution_count": null,
   "metadata": {},
   "outputs": [],
   "source": [
    "# Tabelas univariada - PLANO B\n",
    "print('Frequências relativas:')\n",
    "ut4 = (rendaBcat2.value_counts(sort=False, normalize=True)*100).round(decimals=1)\n",
    "print(ut4,'\\n')\n"
   ]
  },
  {
   "cell_type": "code",
   "execution_count": null,
   "metadata": {},
   "outputs": [],
   "source": [
    "# Histograma - PLANO B\n",
    "plot = rendaB.plot.hist(bins=faixa2,title='HISTOGRAMA - PLANO B',figsize=(6, 6), normed=1, alpha=0.5, color='cyan')\n",
    "plt.ylabel('Densidade')\n",
    "plt.xlabel('renda (em mil reais)')"
   ]
  },
  {
   "cell_type": "code",
   "execution_count": null,
   "metadata": {},
   "outputs": [],
   "source": [
    "fig = plt.figure(figsize=(11, 5))\n",
    "plt.subplot(121)\n",
    "plot = rendaA.plot.hist(bins=faixa2,title='HISTOGRAMA - PLANOS A e B', normed=1, alpha=0.5)\n",
    "plt.ylabel('Densidade')\n",
    "plt.xlabel('renda (em mil reais)')\n",
    "plt.legend(('A'))\n",
    "\n",
    "plt.subplot(122)\n",
    "plot = rendaB.plot.hist(bins=faixa2, normed=1, alpha=0.5, color='cyan')\n",
    "plt.ylabel('Densidade')\n",
    "plt.xlabel('renda (em mil reais)')\n",
    "plt.legend(('B'))\n",
    "\n",
    "plt.tight_layout()\n",
    "plt.show()"
   ]
  },
  {
   "cell_type": "markdown",
   "metadata": {},
   "source": [
    "___\n",
    "## Medidas de posição - a partir da amostra"
   ]
  },
  {
   "cell_type": "markdown",
   "metadata": {},
   "source": [
    "### *Via comando*"
   ]
  },
  {
   "cell_type": "code",
   "execution_count": null,
   "metadata": {},
   "outputs": [],
   "source": [
    "print('Renda Média do Plano A:', rendaA.mean())\n",
    "print('Renda Média do Plano B:', rendaB.mean())\n",
    "\n",
    "print('Renda Mediana do Plano A:', rendaA.median())\n",
    "print('Renda Mediana do Plano B:', rendaB.median())\n"
   ]
  },
  {
   "cell_type": "markdown",
   "metadata": {},
   "source": [
    "### *Via fórmula*"
   ]
  },
  {
   "cell_type": "code",
   "execution_count": null,
   "metadata": {},
   "outputs": [],
   "source": [
    "nA=len(rendaA)\n",
    "print(nA)"
   ]
  },
  {
   "cell_type": "code",
   "execution_count": null,
   "metadata": {},
   "outputs": [],
   "source": [
    "#Mediana no PLANO A\n",
    "#Lembrar que iloc começa de zero\n",
    "medA=(pd.DataFrame(rendaA.sort_values()).iloc[22,0]+pd.DataFrame(rendaA.sort_values()).iloc[23,0])/2\n",
    "print(medA)"
   ]
  },
  {
   "cell_type": "code",
   "execution_count": null,
   "metadata": {},
   "outputs": [],
   "source": [
    "#Média no PLANO A\n",
    "mediaA=rendaA.sum()/nA\n",
    "print(mediaA)"
   ]
  },
  {
   "cell_type": "markdown",
   "metadata": {},
   "source": [
    "___\n",
    "## Medidas de posição - a partir de uma tabela de frequência"
   ]
  },
  {
   "cell_type": "code",
   "execution_count": null,
   "metadata": {},
   "outputs": [],
   "source": [
    "len(ut1)"
   ]
  },
  {
   "cell_type": "code",
   "execution_count": null,
   "metadata": {},
   "outputs": [],
   "source": [
    "faixa"
   ]
  },
  {
   "cell_type": "code",
   "execution_count": null,
   "metadata": {},
   "outputs": [],
   "source": [
    "mediaA_tf=0\n",
    "for i in range(0,len(ut1),1):\n",
    "    pontomedio_classe=(faixa[i]+faixa[i+1])/2\n",
    "    mediaA_tf+=pontomedio_classe*ut1[i]/100\n",
    "\n",
    "\n",
    "print(mediaA_tf)"
   ]
  },
  {
   "cell_type": "markdown",
   "metadata": {
    "collapsed": true
   },
   "source": [
    "___\n",
    "## Medidas de posição - separando por grupo"
   ]
  },
  {
   "cell_type": "markdown",
   "metadata": {},
   "source": [
    "### *PLANO*"
   ]
  },
  {
   "cell_type": "code",
   "execution_count": null,
   "metadata": {},
   "outputs": [],
   "source": [
    "#Média\n",
    "dados.RENDA.groupby(by=dados.PLANO).mean()"
   ]
  },
  {
   "cell_type": "code",
   "execution_count": null,
   "metadata": {},
   "outputs": [],
   "source": [
    "#Mediana\n",
    "dados.RENDA.groupby(by=dados.PLANO).median()"
   ]
  },
  {
   "cell_type": "markdown",
   "metadata": {},
   "source": [
    "### *PLANO e SATISFACAO*"
   ]
  },
  {
   "cell_type": "code",
   "execution_count": null,
   "metadata": {},
   "outputs": [],
   "source": [
    "#Média\n",
    "dados.RENDA.groupby(by=(dados.PLANO,dados.SATISFACAO), sort=False).mean()"
   ]
  },
  {
   "cell_type": "code",
   "execution_count": null,
   "metadata": {},
   "outputs": [],
   "source": [
    "#Média\n",
    "#Outra maneira de chamar as variáveis do dataframe\n",
    "dados.groupby(by=['PLANO','SATISFACAO'], sort=False)['RENDA'].mean()"
   ]
  }
 ],
 "metadata": {
  "anaconda-cloud": {},
  "kernelspec": {
   "display_name": "Python 3",
   "language": "python",
   "name": "python3"
  },
  "language_info": {
   "codemirror_mode": {
    "name": "ipython",
    "version": 3
   },
   "file_extension": ".py",
   "mimetype": "text/x-python",
   "name": "python",
   "nbconvert_exporter": "python",
   "pygments_lexer": "ipython3",
   "version": "3.6.1"
  }
 },
 "nbformat": 4,
 "nbformat_minor": 1
}
