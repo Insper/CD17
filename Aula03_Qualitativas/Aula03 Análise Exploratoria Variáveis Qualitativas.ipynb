{
 "cells": [
  {
   "cell_type": "markdown",
   "metadata": {},
   "source": [
    "___\n",
    "# Análise Exploratória: Variáveis qualitativas\n",
    "___\n",
    "\n",
    "## Aula 03\n",
    "\n",
    "\n",
    "**Links Úteis:**\n",
    "1.\tLeitura prévia necessária: Magalhães e Lima (7ª. Edição): pág. 9 a 16 – destacando para variáveis qualitativas.\n",
    "2.\t10 Minutes to Pandas: http://pandas.pydata.org/pandas-docs/stable/10min.html\n",
    "3.\tEssential Basic Functionality: http://pandas.pydata.org/pandas-docs/stable/basics.html\n",
    "\n",
    "**Hoje:**\n",
    "1.\tAnalisar variáveis qualitativas de forma uni e bivariadas utilizando tabelas de frequências e gráficos de barras e de pizza (ou setor).\n",
    "\n",
    "**Próxima aula:**\n",
    "1.\tLeitura prévia necessária: Magalhães e Lima (7ª. Edição): pág. 9 a 17 – destacando para variáveis quantitativas; pág. 106 e 107 (Definição 4.1 e Exemplo 4.1).\n",
    "\n",
    "___\n"
   ]
  },
  {
   "cell_type": "markdown",
   "metadata": {},
   "source": [
    "## <font color='blue'>Empresa de TV</font>\n",
    "\n",
    "Uma empresa de TV via satélite criou recentemente dois tipos de planos de canais (A e B).\n",
    "\n",
    "A empresa tem como objetivo estudar o perfil dos clientes que aderiram ao plano para enviar malas diretas aos potenciais clientes de cada tipo de plano.\n",
    "\n",
    "A base de dados apresenta algumas variáveis para uma amostra de 82 clientes selecionados aleatoriamente dentre aqueles que aderiram aos planos. As variáveis têm os seguintes significados:\n",
    "\n",
    "* CLIENTE: identificador do cliente.\n",
    "* PLANO: apresenta o plano adquirido pelo cliente – (1=A ou 2=B). \n",
    "* EC: apresenta estado civil do cliente no momento da adesão ao  plano – (1=Casado, 2=Solteiro e 3=Outros).\n",
    "* SATISFACAO: grau de satisfação do cliente pelo plano – \n",
    "\t(5=Muito satisfeito, 4=Satisfeito, 3=Indiferente, 2=Insatisfeito e 1=Muito insatisfeito).\n",
    "* RENDA: renda pessoal do cliente, em milhares de reais.\n",
    "\n",
    "O arquivo `EmpresaTV Cod.xls` contém as variáveis descritas acima.\n",
    "\n",
    "Faça uma análise exploratória apenas com as variáveis qualitativas com foco no objetivo da empresa.\n",
    "Desenvolver as seguintes visualizações:\n",
    "\n",
    "1. Gráfico de colunas (bar) e setor (pie) da frequência relativa das variáveis qualitativas.\n",
    "2. Tabela Cruzada entre pares de variaveis qualitativas. Montar o gráfico de colunas. Repetir o processo habilitando a opção \"stacked=True\".\n",
    "\n"
   ]
  },
  {
   "cell_type": "code",
   "execution_count": 1,
   "metadata": {
    "collapsed": true
   },
   "outputs": [],
   "source": [
    "%matplotlib inline\n",
    "import pandas as pd\n",
    "import matplotlib.pyplot as plt\n",
    "import os"
   ]
  },
  {
   "cell_type": "code",
   "execution_count": 2,
   "metadata": {},
   "outputs": [
    {
     "name": "stdout",
     "output_type": "stream",
     "text": [
      "Esperamos trabalhar no diretório\n",
      "C:\\Users\\Kelly\\SharePoint\\Fabio Roberto de Miranda\\data_science\\2017.2\\Aulas K\\Aula03 - Variáveis Qualitativas\n"
     ]
    }
   ],
   "source": [
    "print('Esperamos trabalhar no diretório')\n",
    "print(os.getcwd())"
   ]
  },
  {
   "cell_type": "code",
   "execution_count": 3,
   "metadata": {
    "collapsed": true
   },
   "outputs": [],
   "source": [
    "dados = pd.read_excel('EmpresaTV Cod.xlsx')"
   ]
  },
  {
   "cell_type": "code",
   "execution_count": 4,
   "metadata": {},
   "outputs": [
    {
     "data": {
      "text/html": [
       "<div>\n",
       "<style>\n",
       "    .dataframe thead tr:only-child th {\n",
       "        text-align: right;\n",
       "    }\n",
       "\n",
       "    .dataframe thead th {\n",
       "        text-align: left;\n",
       "    }\n",
       "\n",
       "    .dataframe tbody tr th {\n",
       "        vertical-align: top;\n",
       "    }\n",
       "</style>\n",
       "<table border=\"1\" class=\"dataframe\">\n",
       "  <thead>\n",
       "    <tr style=\"text-align: right;\">\n",
       "      <th></th>\n",
       "      <th>CLIENTE</th>\n",
       "      <th>PLANO</th>\n",
       "      <th>EC</th>\n",
       "      <th>SATISFACAO</th>\n",
       "      <th>RENDA</th>\n",
       "    </tr>\n",
       "  </thead>\n",
       "  <tbody>\n",
       "    <tr>\n",
       "      <th>0</th>\n",
       "      <td>1</td>\n",
       "      <td>1</td>\n",
       "      <td>1</td>\n",
       "      <td>5</td>\n",
       "      <td>21.4</td>\n",
       "    </tr>\n",
       "    <tr>\n",
       "      <th>1</th>\n",
       "      <td>2</td>\n",
       "      <td>1</td>\n",
       "      <td>2</td>\n",
       "      <td>5</td>\n",
       "      <td>17.2</td>\n",
       "    </tr>\n",
       "    <tr>\n",
       "      <th>2</th>\n",
       "      <td>3</td>\n",
       "      <td>1</td>\n",
       "      <td>3</td>\n",
       "      <td>5</td>\n",
       "      <td>15.6</td>\n",
       "    </tr>\n",
       "    <tr>\n",
       "      <th>3</th>\n",
       "      <td>4</td>\n",
       "      <td>1</td>\n",
       "      <td>1</td>\n",
       "      <td>4</td>\n",
       "      <td>10.4</td>\n",
       "    </tr>\n",
       "    <tr>\n",
       "      <th>4</th>\n",
       "      <td>5</td>\n",
       "      <td>1</td>\n",
       "      <td>2</td>\n",
       "      <td>5</td>\n",
       "      <td>17.6</td>\n",
       "    </tr>\n",
       "  </tbody>\n",
       "</table>\n",
       "</div>"
      ],
      "text/plain": [
       "   CLIENTE  PLANO  EC  SATISFACAO  RENDA\n",
       "0        1      1   1           5   21.4\n",
       "1        2      1   2           5   17.2\n",
       "2        3      1   3           5   15.6\n",
       "3        4      1   1           4   10.4\n",
       "4        5      1   2           5   17.6"
      ]
     },
     "execution_count": 4,
     "metadata": {},
     "output_type": "execute_result"
    }
   ],
   "source": [
    "dados.head()"
   ]
  },
  {
   "cell_type": "code",
   "execution_count": 5,
   "metadata": {
    "collapsed": true
   },
   "outputs": [],
   "source": [
    "#Transformando as variáveis qualitativas em categóricas e redefinindo os rótulos!\n",
    "dados.PLANO = dados.PLANO.astype('category')\n",
    "dados.EC = dados.EC.astype('category')\n",
    "dados.SATISFACAO = dados.SATISFACAO.astype('category')\n",
    "dados.RENDA = dados.RENDA.astype('float')\n",
    "\n",
    "dados.PLANO.cat.categories = (['A', 'B'])\n",
    "dados.EC.cat.categories = (['Casado', 'Solteiro', 'Outros'])\n",
    "dados.SATISFACAO.cat.categories = (['Muito Insatisfeito', 'Insatisfeito', 'Indiferente', 'Satisfeito', 'Muito Satisfeito'])\n"
   ]
  },
  {
   "cell_type": "code",
   "execution_count": 6,
   "metadata": {},
   "outputs": [
    {
     "data": {
      "text/html": [
       "<div>\n",
       "<style>\n",
       "    .dataframe thead tr:only-child th {\n",
       "        text-align: right;\n",
       "    }\n",
       "\n",
       "    .dataframe thead th {\n",
       "        text-align: left;\n",
       "    }\n",
       "\n",
       "    .dataframe tbody tr th {\n",
       "        vertical-align: top;\n",
       "    }\n",
       "</style>\n",
       "<table border=\"1\" class=\"dataframe\">\n",
       "  <thead>\n",
       "    <tr style=\"text-align: right;\">\n",
       "      <th></th>\n",
       "      <th>CLIENTE</th>\n",
       "      <th>PLANO</th>\n",
       "      <th>EC</th>\n",
       "      <th>SATISFACAO</th>\n",
       "      <th>RENDA</th>\n",
       "    </tr>\n",
       "  </thead>\n",
       "  <tbody>\n",
       "    <tr>\n",
       "      <th>0</th>\n",
       "      <td>1</td>\n",
       "      <td>A</td>\n",
       "      <td>Casado</td>\n",
       "      <td>Muito Satisfeito</td>\n",
       "      <td>21.4</td>\n",
       "    </tr>\n",
       "    <tr>\n",
       "      <th>1</th>\n",
       "      <td>2</td>\n",
       "      <td>A</td>\n",
       "      <td>Solteiro</td>\n",
       "      <td>Muito Satisfeito</td>\n",
       "      <td>17.2</td>\n",
       "    </tr>\n",
       "    <tr>\n",
       "      <th>2</th>\n",
       "      <td>3</td>\n",
       "      <td>A</td>\n",
       "      <td>Outros</td>\n",
       "      <td>Muito Satisfeito</td>\n",
       "      <td>15.6</td>\n",
       "    </tr>\n",
       "    <tr>\n",
       "      <th>3</th>\n",
       "      <td>4</td>\n",
       "      <td>A</td>\n",
       "      <td>Casado</td>\n",
       "      <td>Satisfeito</td>\n",
       "      <td>10.4</td>\n",
       "    </tr>\n",
       "    <tr>\n",
       "      <th>4</th>\n",
       "      <td>5</td>\n",
       "      <td>A</td>\n",
       "      <td>Solteiro</td>\n",
       "      <td>Muito Satisfeito</td>\n",
       "      <td>17.6</td>\n",
       "    </tr>\n",
       "  </tbody>\n",
       "</table>\n",
       "</div>"
      ],
      "text/plain": [
       "   CLIENTE PLANO        EC        SATISFACAO  RENDA\n",
       "0        1     A    Casado  Muito Satisfeito   21.4\n",
       "1        2     A  Solteiro  Muito Satisfeito   17.2\n",
       "2        3     A    Outros  Muito Satisfeito   15.6\n",
       "3        4     A    Casado        Satisfeito   10.4\n",
       "4        5     A  Solteiro  Muito Satisfeito   17.6"
      ]
     },
     "execution_count": 6,
     "metadata": {},
     "output_type": "execute_result"
    }
   ],
   "source": [
    "dados.head()"
   ]
  },
  {
   "cell_type": "markdown",
   "metadata": {},
   "source": [
    "___\n",
    "# Análise univariada das variáveis qualitativas"
   ]
  },
  {
   "cell_type": "code",
   "execution_count": 7,
   "metadata": {},
   "outputs": [
    {
     "name": "stdout",
     "output_type": "stream",
     "text": [
      "Frequências absolutas por PLANO:\n",
      "A    46\n",
      "B    36\n",
      "Name: PLANO, dtype: int64 \n",
      "\n",
      "Frequências absolutas por Estado Civil:\n",
      "Casado      36\n",
      "Solteiro    33\n",
      "Outros      13\n",
      "Name: EC, dtype: int64 \n",
      "\n",
      "Frequências absolutas por SATISFACAO:\n",
      "Muito Insatisfeito     8\n",
      "Insatisfeito          16\n",
      "Indiferente           19\n",
      "Satisfeito            27\n",
      "Muito Satisfeito      12\n",
      "Name: SATISFACAO, dtype: int64 \n",
      "\n"
     ]
    }
   ],
   "source": [
    "# Tabelas univariada\n",
    "print('Frequências absolutas por PLANO:')\n",
    "ut1 = dados.PLANO.value_counts(sort=False).reindex(['A', 'B'])\n",
    "print(ut1,'\\n')\n",
    "\n",
    "print('Frequências absolutas por Estado Civil:')\n",
    "ut2 = dados.EC.value_counts(sort=False)\n",
    "print(ut2,'\\n')\n",
    "\n",
    "print('Frequências absolutas por SATISFACAO:')\n",
    "ut3 = dados.SATISFACAO.value_counts(sort=False)\n",
    "print(ut3,'\\n')"
   ]
  },
  {
   "cell_type": "code",
   "execution_count": 8,
   "metadata": {
    "scrolled": true
   },
   "outputs": [
    {
     "name": "stdout",
     "output_type": "stream",
     "text": [
      "Frequências relativas por PLANO:\n",
      "A    56.1\n",
      "B    43.9\n",
      "Name: PLANO, dtype: float64 \n",
      "\n",
      "Frequências relativas por Estado Civil:\n",
      "Casado      43.9\n",
      "Solteiro    40.2\n",
      "Outros      15.9\n",
      "Name: EC, dtype: float64 \n",
      "\n",
      "Frequências relativas por SATISFACAO:\n",
      "Muito Insatisfeito     9.8\n",
      "Insatisfeito          19.5\n",
      "Indiferente           23.2\n",
      "Satisfeito            32.9\n",
      "Muito Satisfeito      14.6\n",
      "Name: SATISFACAO, dtype: float64 \n",
      "\n"
     ]
    }
   ],
   "source": [
    "# Tabelas univariada\n",
    "print('Frequências relativas por PLANO:')\n",
    "ut1 = (dados.PLANO.value_counts(sort=False, normalize=True)*100).round(decimals=1)\n",
    "print(ut1,'\\n')\n",
    "\n",
    "print('Frequências relativas por Estado Civil:')\n",
    "ut2 = (dados.EC.value_counts(sort=False, normalize=True)*100).round(decimals=1)\n",
    "print(ut2,'\\n')\n",
    "\n",
    "print('Frequências relativas por SATISFACAO:')\n",
    "ut3 = (dados.SATISFACAO.value_counts(sort=False, normalize=True)*100).round(decimals=1)\n",
    "print(ut3,'\\n')\n"
   ]
  },
  {
   "cell_type": "code",
   "execution_count": 9,
   "metadata": {},
   "outputs": [
    {
     "data": {
      "text/plain": [
       "<matplotlib.text.Text at 0x2876db236d8>"
      ]
     },
     "execution_count": 9,
     "metadata": {},
     "output_type": "execute_result"
    },
    {
     "data": {
      "image/png": "iVBORw0KGgoAAAANSUhEUgAAAYIAAAGACAYAAACgMmWCAAAABHNCSVQICAgIfAhkiAAAAAlwSFlz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\nSUVORK5CYII=\n",
      "text/plain": [
       "<matplotlib.figure.Figure at 0x2876ac1a7b8>"
      ]
     },
     "metadata": {},
     "output_type": "display_data"
    }
   ],
   "source": [
    "# Gráfico de barras\n",
    "plot = ut1.plot(kind='bar',title='PLANOS',figsize=(6, 6),color=('b','g'))\n",
    "plt.ylabel('Freq.Relativa (em %)')\n",
    "plt.xlabel('Planos')"
   ]
  },
  {
   "cell_type": "code",
   "execution_count": 10,
   "metadata": {},
   "outputs": [
    {
     "data": {
      "text/plain": [
       "<matplotlib.text.Text at 0x2876dc1b208>"
      ]
     },
     "execution_count": 10,
     "metadata": {},
     "output_type": "execute_result"
    },
    {
     "data": {
      "image/png": "iVBORw0KGgoAAAANSUhEUgAAAYIAAAGfCAYAAABSstXMAAAABHNCSVQICAgIfAhkiAAAAAlwSFlz\nAAALEgAACxIB0t1+/AAAHVNJREFUeJzt3XmULGV9//H3hwsKKojoFa8oggomIIh6MQhqkMWQqIBx\nwQSExIX8Ekw0Jhrw/Nwx8guJR7MYReWIu0RECRojoOCSRLjssolRUJCdGARJZPn+/ui6oZ3M9PRc\n6K6Zed6vc/p011PbdxjufLqqnnoqVYUkqV3r9V2AJKlfBoEkNc4gkKTGGQSS1DiDQJIaZxBIUuMM\nAklqnEGgRS3JFUluT3Lr0Otvu3n3S/JXSa7q2q9I8p5u3vDyd8/YxoFD2/+dJJXkgBn73b1bb+06\nVyU5PsnOM5ZLktcnubzbxw+TvCvJ/ef5uX4tydeT/DTJDUnOSLLvUE3f7D5/OcnbZ1l/vyTXJlk/\nyUeSHNm1b9X9POuv239xtcgg0FLw/Kp60NDr1V37EcBq4GnAxsDuwDkAw8sDP5yxjU8MbfsQ4Gbg\n4Fn2++Nu/Y2BXYBLgW8k2XNomb8GDu3W3xj4dWBP4Pi5fpgkLwL+Afgo8Chgc+DNwPNnWfw44KAk\nmdH+MuATVXXnXPuRxuW3Bi1lOwMnVtWPu+krutdYkjwG+FXgxcBnkjyiqq6duVwNbr+/Cnhzks2A\n/wesTrIN8AfA06vqzG7xi5K8EPhekj2q6qsz9hng3cA7qupDQ7PO6F4zfR54P/BM4OvdNh4CPA/4\nlXF/VmkUjwi0lP0b8Lokf5Bkh1m+Nc/nYGBNVZ0AXAIcOM/yAJ8DnpLkgQy++V81FAIAVNWPutr2\nnmX9JwCPBj47ToFVdTuDo4vhI5aXAJdW1fnjbEOaj0GgpeDzSX4y9HpV1/4uBt/ODwTWAFcnOWQB\n2z0Y+GT3+ZPMfnpoph8DATYFHgZcM8dy13TzZ3ro0PxxHQe8KMmG3fTBXZt0nzAItBTsX1WbDr0+\nCFBVd1XV31XVbgz+ML8TODbJL8+3wSS7AVsDn+6aPgnskGSneVbdAijgJ8CNwKo5llvVzZ/ppqH5\nY6mqb3bb2j/J4xhcE/nk6LWk8RkEWhaq6vaq+jvgP4DtxljlEAbf7M9Lci3w7aH2UV4AnFNVtwFf\nBR6d5GnDCyR5NIOLy6fNsv5lwI+AF45R47CPMjgSOAj456q6boHrS3MyCLRkJXlt181zo64b5SEM\neu6cO896GzI4z34osNPQ6w+B357Z9bLrIrpFkrcArwTeCFBV32VwIfcTSXZJsiLJ9sAJwKlVderM\nfXcXnl8HvCnJ7ybZJMl6SZ6R5JgRZX8U2At4FeOdFrp/kg2HXv5b15z8n0NLwT/OuC/gxK79Z8Bf\nAdcyOHVyGPDCqvr+PNvbH7gd+GhVXbv2BRzLoCfdPt1yj0xyK3ArcBawA7B7VX1laFuvBj4EfLxb\n7svA6Yz4xl9VnwUOAF7O4JrDdcCRwBdGrHMF8C/AA4GT5vn56Gq5fei1xxjrqFHxwTSS1DaPCCSp\ncQaBJDXOIJCkxhkEktQ4g0CSGrckBp172MMeVltttVXfZUjSknL22WffWFUr51tuSQTBVlttxZo1\na/ouQ5KWlCRXjrOcp4YkqXEGgSQ1ziCQpMYZBJLUOINAkhpnEEhS4wwCSWqcQSBJjTMIJKlxBoEk\nNc4gkKTGGQSS1DiDQJIatyRGH522pO8KJquq7wokLSYeEUhS4wwCSWqcQSBJjTMIJKlxBoEkNc4g\nkKTGGQSS1DiDQJIaZxBIUuMMAklqnEEgSY0zCCSpcQaBJDXOIJCk