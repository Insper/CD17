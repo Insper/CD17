{
 "cells": [
  {
   "cell_type": "markdown",
   "metadata": {},
   "source": [
    "___\n",
    "# Análise Exploratória: Variáveis qualitativas\n",
    "___\n",
    "\n",
    "## Aula 03\n",
    "\n",
    "\n",
    "**Links Úteis:**\n",
    "1.\tLeitura prévia necessária: Magalhães e Lima (7ª. Edição): pág. 9 a 16 – destacando para variáveis qualitativas.\n",
    "2.\t10 Minutes to Pandas: http://pandas.pydata.org/pandas-docs/stable/10min.html\n",
    "3.\tEssential Basic Functionality: http://pandas.pydata.org/pandas-docs/stable/basics.html\n",
    "\n",
    "**Hoje:**\n",
    "1.\tAnalisar variáveis qualitativas de forma uni e bivariadas utilizando tabelas de frequências e gráficos de barras e de pizza (ou setor).\n",
    "\n",
    "**Próxima aula:**\n",
    "1.\tLeitura prévia necessária: Magalhães e Lima (7ª. Edição): pág. 9 a 17 – destacando para variáveis quantitativas; pág. 106 e 107 (Definição 4.1 e Exemplo 4.1).\n",
    "\n",
    "___\n"
   ]
  },
  {
   "cell_type": "markdown",
   "metadata": {},
   "source": [
    "## <font color='blue'>Empresa de TV</font>\n",
    "\n",
    "Uma empresa de TV via satélite criou recentemente dois tipos de planos de canais (A e B).\n",
    "\n",
    "A empresa tem como objetivo estudar o perfil dos clientes que aderiram ao plano para enviar malas diretas aos potenciais clientes de cada tipo de plano.\n",
    "\n",
    "A base de dados apresenta algumas variáveis para uma amostra de 82 clientes selecionados aleatoriamente dentre aqueles que aderiram aos planos. As variáveis têm os seguintes significados:\n",
    "\n",
    "* CLIENTE: identificador do cliente.\n",
    "* PLANO: apresenta o plano adquirido pelo cliente – (1=A ou 2=B). \n",
    "* EC: apresenta estado civil do cliente no momento da adesão ao  plano – (1=Casado, 2=Solteiro e 3=Outros).\n",
    "* SATISFACAO: grau de satisfação do cliente pelo plano – \n",
    "\t(5=Muito satisfeito, 4=Satisfeito, 3=Indiferente, 2=Insatisfeito e 1=Muito insatisfeito).\n",
    "* RENDA: renda pessoal do cliente, em milhares de reais.\n",
    "\n",
    "O arquivo `EmpresaTV Cod.xls` contém as variáveis descritas acima.\n",
    "\n",
    "Faça uma análise exploratória apenas com as variáveis qualitativas com foco no objetivo da empresa.\n",
    "Desenvolver as seguintes visualizações:\n",
    "\n",
    "1. Gráfico de colunas (bar) e setor (pie) da frequência relativa das variáveis qualitativas.\n",
    "2. Tabela Cruzada entre pares de variaveis qualitativas. Montar o gráfico de colunas. Repetir o processo habilitando a opção \"stacked=True\".\n",
    "\n"
   ]
  },
  {
   "cell_type": "code",
   "execution_count": 1,
   "metadata": {
    "collapsed": true
   },
   "outputs": [],
   "source": [
    "%matplotlib inline\n",
    "import pandas as pd\n",
    "import matplotlib.pyplot as plt\n",
    "import os"
   ]
  },
  {
   "cell_type": "code",
   "execution_count": 2,
   "metadata": {},
   "outputs": [
    {
     "name": "stdout",
     "output_type": "stream",
     "text": [
      "Esperamos trabalhar no diretório\n",
      "C:\\Users\\Kelly\\SharePoint\\Fabio Roberto de Miranda\\data_science\\2017.2\\Aulas K\\Aula03 - Variáveis Qualitativas\n"
     ]
    }
   ],
   "source": [
    "print('Esperamos trabalhar no diretório')\n",
    "print(os.getcwd())"
   ]
  },
  {
   "cell_type": "code",
   "execution_count": 3,
   "metadata": {
    "collapsed": true
   },
   "outputs": [],
   "source": [
    "dados = pd.read_excel('EmpresaTV Cod.xlsx')"
   ]
  },
  {
   "cell_type": "code",
   "execution_count": 4,
   "metadata": {},
   "outputs": [
    {
     "data": {
      "text/html": [
       "<div>\n",
       "<style>\n",
       "    .dataframe thead tr:only-child th {\n",
       "        text-align: right;\n",
       "    }\n",
       "\n",
       "    .dataframe thead th {\n",
       "        text-align: left;\n",
       "    }\n",
       "\n",
       "    .dataframe tbody tr th {\n",
       "        vertical-align: top;\n",
       "    }\n",
       "</style>\n",
       "<table border=\"1\" class=\"dataframe\">\n",
       "  <thead>\n",
       "    <tr style=\"text-align: right;\">\n",
       "      <th></th>\n",
       "      <th>CLIENTE</th>\n",
       "      <th>PLANO</th>\n",
       "      <th>EC</th>\n",
       "      <th>SATISFACAO</th>\n",
       "      <th>RENDA</th>\n",
       "    </tr>\n",
       "  </thead>\n",
       "  <tbody>\n",
       "    <tr>\n",
       "      <th>0</th>\n",
       "      <td>1</td>\n",
       "      <td>1</td>\n",
       "      <td>1</td>\n",
       "      <td>5</td>\n",
       "      <td>21.4</td>\n",
       "    </tr>\n",
       "    <tr>\n",
       "      <th>1</th>\n",
       "      <td>2</td>\n",
       "      <td>1</td>\n",
       "      <td>2</td>\n",
       "      <td>5</td>\n",
       "      <td>17.2</td>\n",
       "    </tr>\n",
       "    <tr>\n",
       "      <th>2</th>\n",
       "      <td>3</td>\n",
       "      <td>1</td>\n",
       "      <td>3</td>\n",
       "      <td>5</td>\n",
       "      <td>15.6</td>\n",
       "    </tr>\n",
       "    <tr>\n",
       "      <th>3</th>\n",
       "      <td>4</td>\n",
       "      <td>1</td>\n",
       "      <td>1</td>\n",
       "      <td>4</td>\n",
       "      <td>10.4</td>\n",
       "    </tr>\n",
       "    <tr>\n",
       "      <th>4</th>\n",
       "      <td>5</td>\n",
       "      <td>1</td>\n",
       "      <td>2</td>\n",
       "      <td>5</td>\n",
       "      <td>17.6</td>\n",
       "    </tr>\n",
       "  </tbody>\n",
       "</table>\n",
       "</div>"
      ],
      "text/plain": [
       "   CLIENTE  PLANO  EC  SATISFACAO  RENDA\n",
       "0        1      1   1           5   21.4\n",
       "1        2      1   2           5   17.2\n",
       "2        3      1   3           5   15.6\n",
       "3        4      1   1           4   10.4\n",
       "4        5      1   2           5   17.6"
      ]
     },
     "execution_count": 4,
     "metadata": {},
     "output_type": "execute_result"
    }
   ],
   "source": [
    "dados.head()"
   ]
  },
  {
   "cell_type": "code",
   "execution_count": 5,
   "metadata": {
    "collapsed": true
   },
   "outputs": [],
   "source": [
    "#Transformando as variáveis qualitativas em categóricas e redefinindo os rótulos!\n",
    "dados.PLANO = dados.PLANO.astype('category')\n",
    "dados.EC = dados.EC.astype('category')\n",
    "dados.SATISFACAO = dados.SATISFACAO.astype('category')\n",
    "dados.RENDA = dados.RENDA.astype('float')\n",
    "\n",
    "dados.PLANO.cat.categories = (['A', 'B'])\n",
    "dados.EC.cat.categories = (['Casado', 'Solteiro', 'Outros'])\n",
    "dados.SATISFACAO.cat.categories = (['Muito Insatisfeito', 'Insatisfeito', 'Indiferente', 'Satisfeito', 'Muito Satisfeito'])\n"
   ]
  },
  {
   "cell_type": "code",
   "execution_count": 6,
   "metadata": {},
   "outputs": [
    {
     "data": {
      "text/html": [
       "<div>\n",
       "<style>\n",
       "    .dataframe thead tr:only-child th {\n",
       "        text-align: right;\n",
       "    }\n",
       "\n",
       "    .dataframe thead th {\n",
       "        text-align: left;\n",
       "    }\n",
       "\n",
       "    .dataframe tbody tr th {\n",
       "        vertical-align: top;\n",
       "    }\n",
       "</style>\n",
       "<table border=\"1\" class=\"dataframe\">\n",
       "  <thead>\n",
       "    <tr style=\"text-align: right;\">\n",
       "      <th></th>\n",
       "      <th>CLIENTE</th>\n",
       "      <th>PLANO</th>\n",
       "      <th>EC</th>\n",
       "      <th>SATISFACAO</th>\n",
       "      <th>RENDA</th>\n",
       "    </tr>\n",
       "  </thead>\n",
       "  <tbody>\n",
       "    <tr>\n",
       "      <th>0</th>\n",
       "      <td>1</td>\n",
       "      <td>A</td>\n",
       "      <td>Casado</td>\n",
       "      <td>Muito Satisfeito</td>\n",
       "      <td>21.4</td>\n",
       "    </tr>\n",
       "    <tr>\n",
       "      <th>1</th>\n",
       "      <td>2</td>\n",
       "      <td>A</td>\n",
       "      <td>Solteiro</td>\n",
       "      <td>Muito Satisfeito</td>\n",
       "      <td>17.2</td>\n",
       "    </tr>\n",
       "    <tr>\n",
       "      <th>2</th>\n",
       "      <td>3</td>\n",
       "      <td>A</td>\n",
       "      <td>Outros</td>\n",
       "      <td>Muito Satisfeito</td>\n",
       "      <td>15.6</td>\n",
       "    </tr>\n",
       "    <tr>\n",
       "      <th>3</th>\n",
       "      <td>4</td>\n",
       "      <td>A</td>\n",
       "      <td>Casado</td>\n",
       "      <td>Satisfeito</td>\n",
       "      <td>10.4</td>\n",
       "    </tr>\n",
       "    <tr>\n",
       "      <th>4</th>\n",
       "      <td>5</td>\n",
       "      <td>A</td>\n",
       "      <td>Solteiro</td>\n",
       "      <td>Muito Satisfeito</td>\n",
       "      <td>17.6</td>\n",
       "    </tr>\n",
       "  </tbody>\n",
       "</table>\n",
       "</div>"
      ],
      "text/plain": [
       "   CLIENTE PLANO        EC        SATISFACAO  RENDA\n",
       "0        1     A    Casado  Muito Satisfeito   21.4\n",
       "1        2     A  Solteiro  Muito Satisfeito   17.2\n",
       "2        3     A    Outros  Muito Satisfeito   15.6\n",
       "3        4     A    Casado        Satisfeito   10.4\n",
       "4        5     A  Solteiro  Muito Satisfeito   17.6"
      ]
     },
     "execution_count": 6,
     "metadata": {},
     "output_type": "execute_result"
    }
   ],
   "source": [
    "dados.head()"
   ]
  },
  {
   "cell_type": "markdown",
   "metadata": {},
   "source": [
    "___\n",
    "# Análise univariada das variáveis qualitativas"
   ]
  },
  {
   "cell_type": "code",
   "execution_count": 7,
   "metadata": {},
   "outputs": [
    {
     "name": "stdout",
     "output_type": "stream",
     "text": [
      "Frequências absolutas por PLANO:\n",
      "A    46\n",
      "B    36\n",
      "Name: PLANO, dtype: int64 \n",
      "\n",
      "Frequências absolutas por Estado Civil:\n",
      "Casado      36\n",
      "Solteiro    33\n",
      "Outros      13\n",
      "Name: EC, dtype: int64 \n",
      "\n",
      "Frequências absolutas por SATISFACAO:\n",
      "Muito Insatisfeito     8\n",
      "Insatisfeito          16\n",
      "Indiferente           19\n",
      "Satisfeito            27\n",
      "Muito Satisfeito      12\n",
      "Name: SATISFACAO, dtype: int64 \n",
      "\n"
     ]
    }
   ],
   "source": [
    "# Tabelas univariada\n",
    "print('Frequências absolutas por PLANO:')\n",
    "ut1 = dados.PLANO.value_counts(sort=False).reindex(['A', 'B'])\n",
    "print(ut1,'\\n')\n",
    "\n",
    "print('Frequências absolutas por Estado Civil:')\n",
    "ut2 = dados.EC.value_counts(sort=False)\n",
    "print(ut2,'\\n')\n",
    "\n",
    "print('Frequências absolutas por SATISFACAO:')\n",
    "ut3 = dados.SATISFACAO.value_counts(sort=False)\n",
    "print(ut3,'\\n')"
   ]
  },
  {
   "cell_type": "code",
   "execution_count": 8,
   "metadata": {
    "scrolled": true
   },
   "outputs": [
    {
     "name": "stdout",
     "output_type": "stream",
     "text": [
      "Frequências relativas por PLANO:\n",
      "A    56.1\n",
      "B    43.9\n",
      "Name: PLANO, dtype: float64 \n",
      "\n",
      "Frequências relativas por Estado Civil:\n",
      "Casado      43.9\n",
      "Solteiro    40.2\n",
      "Outros      15.9\n",
      "Name: EC, dtype: float64 \n",
      "\n",
      "Frequências relativas por SATISFACAO:\n",
      "Muito Insatisfeito     9.8\n",
      "Insatisfeito          19.5\n",
      "Indiferente           23.2\n",
      "Satisfeito            32.9\n",
      "Muito Satisfeito      14.6\n",
      "Name: SATISFACAO, dtype: float64 \n",
      "\n"
     ]
    }
   ],
   "source": [
    "# Tabelas univariada\n",
    "print('Frequências relativas por PLANO:')\n",
    "ut1 = (dados.PLANO.value_counts(sort=False, normalize=True)*100).round(decimals=1)\n",
    "print(ut1,'\\n')\n",
    "\n",
    "print('Frequências relativas por Estado Civil:')\n",
    "ut2 = (dados.EC.value_counts(sort=False, normalize=True)*100).round(decimals=1)\n",
    "print(ut2,'\\n')\n",
    "\n",
    "print('Frequências relativas por SATISFACAO:')\n",
    "ut3 = (dados.SATISFACAO.value_counts(sort=False, normalize=True)*100).round(decimals=1)\n",
    "print(ut3,'\\n')\n"
   ]
  },
  {
   "cell_type": "code",
   "execution_count": 9,
   "metadata": {},
   "outputs": [
    {
     "data": {
      "text/plain": [
       "<matplotlib.text.Text at 0x2876db236d8>"
      ]
     },
     "execution_count": 9,
     "metadata": {},
     "output_type": "execute_result"
    },
    {
     "data": {
      "image/png": "[encoded data removed]",
      "text/plain": [
       "<matplotlib.figure.Figure at 0x2876ac1a7b8>"
      ]
     },
     "metadata": {},
     "output_type": "display_data"
    }
   ],
   "source": [
    "# Gráfico de barras\n",
    "plot = ut1.plot(kind='bar',title='PLANOS',figsize=(6, 6),color=('b','g'))\n",
    "plt.ylabel('Freq.Relativa (em %)')\n",
    "plt.xlabel('Planos')"
   ]
  },
  {
   "cell_type": "code",
   "execution_count": 10,
   "metadata": {},
   "outputs": [
    {
     "data": {
      "text/plain": [
       "<matplotlib.text.Text at 0x2876dc1b208>"
      ]
     },
     "execution_count": 10,
     "metadata": {},
     "output_type": "execute_result"
    },
    {
     "data": {
      "image/png": "[encoded data removed]",
      "text/plain": [
       "<matplotlib.figure.Figure at 0x2876dbf7198>"
      ]
     },
     "metadata": {},
     "output_type": "display_data"
    }
   ],
   "source": [
    "plot = ut2.plot(kind='bar',title='ESTADO CIVIL',figsize=(6, 6),color=('b','g','r'))\n",
    "plt.ylabel('Freq.Relativa (em %)')\n",
    "plt.xlabel('Estado Civil')"
   ]
  },
  {
   "cell_type": "code",
   "execution_count": 11,
   "metadata": {},
   "outputs": [
    {
     "data": {
      "text/plain": [
       "<matplotlib.text.Text at 0x2876dd45c18>"
      ]
     },
     "execution_count": 11,
     "metadata": {},
     "output_type": "execute_result"
    },
    {
     "data": {
      "image/png": "[encoded data removed]",
      "text/plain": [
       "<matplotlib.figure.Figure at 0x2876dd76438>"
      ]
     },
     "metadata": {},
     "output_type": "display_data"
    }
   ],
   "source": [
    "plot = ut3.plot(kind='bar',title='SATISFAÇÃO',figsize=(6, 6),color=('b','g','r','c','m'))\n",
    "plt.ylabel('Freq.Relativa (em %)')\n",
    "plt.xlabel('Satisfação')"
   ]
  },
  {
   "cell_type": "code",
   "execution_count": 12,
   "metadata": {},
   "outputs": [
    {
     "data": {
      "image/png": "[encoded data removed]",
      "text/plain": [
       "<matplotlib.figure.Figure at 0x2876de0ac88>"
      ]
     },
     "metadata": {},
     "output_type": "display_data"
    }
   ],
   "source": [
    "# Gráfico de Setor\n",
    "fig = plt.figure(figsize=(15, 5))\n",
    "plt.subplot(131)\n",
    "plot = ut1.plot(kind='pie',title='PLANOS',autopct='%.1f')\n",
    "\n",
    "plt.subplot(132)\n",
    "plot = ut2.plot(kind='pie',title='Estado Civil',autopct='%.1f')\n",
    "\n",
    "plt.subplot(133)\n",
    "plot = ut3.plot(kind='pie',title='Satisfação',autopct='%.1f')\n",
    "\n",
    "plt.tight_layout()\n",
    "plt.show()\n",
    "\n"
   ]
  },
  {
   "cell_type": "markdown",
   "metadata": {},
   "source": [
    "___\n",
    "# Tabela cruzada entre variáveis qualitativas"
   ]
  },
  {
   "cell_type": "markdown",
   "metadata": {},
   "source": [
    "## *Análises de Estado Civil versus Plano*"
   ]
  },
  {
   "cell_type": "code",
   "execution_count": 13,
   "metadata": {},
   "outputs": [
    {
     "name": "stdout",
     "output_type": "stream",
     "text": [
      "Tabela Cruzada por total GERAL:\n"
     ]
    },
    {
     "data": {
      "text/html": [
       "<div>\n",
       "<style>\n",
       "    .dataframe thead tr:only-child th {\n",
       "        text-align: right;\n",
       "    }\n",
       "\n",
       "    .dataframe thead th {\n",
       "        text-align: left;\n",
       "    }\n",
       "\n",
       "    .dataframe tbody tr th {\n",
       "        vertical-align: top;\n",
       "    }\n",
       "</style>\n",
       "<table border=\"1\" class=\"dataframe\">\n",
       "  <thead>\n",
       "    <tr style=\"text-align: right;\">\n",
       "      <th>PLANO</th>\n",
       "      <th>A</th>\n",
       "      <th>B</th>\n",
       "      <th>All</th>\n",
       "    </tr>\n",
       "    <tr>\n",
       "      <th>ESTADO CIVIL</th>\n",
       "      <th></th>\n",
       "      <th></th>\n",
       "      <th></th>\n",
       "    </tr>\n",
       "  </thead>\n",
       "  <tbody>\n",
       "    <tr>\n",
       "      <th>Casado</th>\n",
       "      <td>26</td>\n",
       "      <td>10</td>\n",
       "      <td>36</td>\n",
       "    </tr>\n",
       "    <tr>\n",
       "      <th>Solteiro</th>\n",
       "      <td>13</td>\n",
       "      <td>20</td>\n",
       "      <td>33</td>\n",
       "    </tr>\n",
       "    <tr>\n",
       "      <th>Outros</th>\n",
       "      <td>7</td>\n",
       "      <td>6</td>\n",
       "      <td>13</td>\n",
       "    </tr>\n",
       "    <tr>\n",
       "      <th>All</th>\n",
       "      <td>46</td>\n",
       "      <td>36</td>\n",
       "      <td>82</td>\n",
       "    </tr>\n",
       "  </tbody>\n",
       "</table>\n",
       "</div>"
      ],
      "text/plain": [
       "PLANO          A   B  All\n",
       "ESTADO CIVIL             \n",
       "Casado        26  10   36\n",
       "Solteiro      13  20   33\n",
       "Outros         7   6   13\n",
       "All           46  36   82"
      ]
     },
     "execution_count": 13,
     "metadata": {},
     "output_type": "execute_result"
    }
   ],
   "source": [
    "#Tabela cruzada Estado Civil x Plano\n",
    "print('Tabela Cruzada por total GERAL:')\n",
    "ct=pd.crosstab(dados.EC, dados.PLANO, margins=True, rownames=['ESTADO CIVIL'], colnames=['PLANO'])\n",
    "ct=ct.loc[['Casado','Solteiro','Outros','All']]\n",
    "ct"
   ]
  },
  {
   "cell_type": "code",
   "execution_count": 14,
   "metadata": {},
   "outputs": [
    {
     "data": {
      "text/html": [
       "<div>\n",
       "<style>\n",
       "    .dataframe thead tr:only-child th {\n",
       "        text-align: right;\n",
       "    }\n",
       "\n",
       "    .dataframe thead th {\n",
       "        text-align: left;\n",
       "    }\n",
       "\n",
       "    .dataframe tbody tr th {\n",
       "        vertical-align: top;\n",
       "    }\n",
       "</style>\n",
       "<table border=\"1\" class=\"dataframe\">\n",
       "  <thead>\n",
       "    <tr style=\"text-align: right;\">\n",
       "      <th>PLANO</th>\n",
       "      <th>A</th>\n",
       "      <th>B</th>\n",
       "      <th>All</th>\n",
       "    </tr>\n",
       "    <tr>\n",
       "      <th>ESTADO CIVIL</th>\n",
       "      <th></th>\n",
       "      <th></th>\n",
       "      <th></th>\n",
       "    </tr>\n",
       "  </thead>\n",
       "  <tbody>\n",
       "    <tr>\n",
       "      <th>Casado</th>\n",
       "      <td>31.707317</td>\n",
       "      <td>12.195122</td>\n",
       "      <td>43.902439</td>\n",
       "    </tr>\n",
       "    <tr>\n",
       "      <th>Solteiro</th>\n",
       "      <td>15.853659</td>\n",
       "      <td>24.390244</td>\n",
       "      <td>40.243902</td>\n",
       "    </tr>\n",
       "    <tr>\n",
       "      <th>Outros</th>\n",
       "      <td>8.536585</td>\n",
       "      <td>7.317073</td>\n",
       "      <td>15.853659</td>\n",
       "    </tr>\n",
       "    <tr>\n",
       "      <th>All</th>\n",
       "      <td>56.097561</td>\n",
       "      <td>43.902439</td>\n",
       "      <td>100.000000</td>\n",
       "    </tr>\n",
       "  </tbody>\n",
       "</table>\n",
       "</div>"
      ],
      "text/plain": [
       "PLANO                 A          B         All\n",
       "ESTADO CIVIL                                  \n",
       "Casado        31.707317  12.195122   43.902439\n",
       "Solteiro      15.853659  24.390244   40.243902\n",
       "Outros         8.536585   7.317073   15.853659\n",
       "All           56.097561  43.902439  100.000000"
      ]
     },
     "execution_count": 14,
     "metadata": {},
     "output_type": "execute_result"
    }
   ],
   "source": [
    "ct1=pd.crosstab(dados.EC, dados.PLANO, margins=True, rownames=['ESTADO CIVIL'], colnames=['PLANO'], normalize=True)*100\n",
    "ct1"
   ]
  },
  {
   "cell_type": "code",
   "execution_count": 15,
   "metadata": {},
   "outputs": [
    {
     "name": "stdout",
     "output_type": "stream",
     "text": [
      "Tabela Cruzada por total GERAL (em %):\n"
     ]
    },
    {
     "data": {
      "text/html": [
       "<div>\n",
       "<style>\n",
       "    .dataframe thead tr:only-child th {\n",
       "        text-align: right;\n",
       "    }\n",
       "\n",
       "    .dataframe thead th {\n",
       "        text-align: left;\n",
       "    }\n",
       "\n",
       "    .dataframe tbody tr th {\n",
       "        vertical-align: top;\n",
       "    }\n",
       "</style>\n",
       "<table border=\"1\" class=\"dataframe\">\n",
       "  <thead>\n",
       "    <tr style=\"text-align: right;\">\n",
       "      <th>PLANO</th>\n",
       "      <th>A</th>\n",
       "      <th>B</th>\n",
       "      <th>All</th>\n",
       "    </tr>\n",
       "    <tr>\n",
       "      <th>ESTADO CIVIL</th>\n",
       "      <th></th>\n",
       "      <th></th>\n",
       "      <th></th>\n",
       "    </tr>\n",
       "  </thead>\n",
       "  <tbody>\n",
       "    <tr>\n",
       "      <th>Casado</th>\n",
       "      <td>31.7</td>\n",
       "      <td>12.2</td>\n",
       "      <td>43.9</td>\n",
       "    </tr>\n",
       "    <tr>\n",
       "      <th>Solteiro</th>\n",
       "      <td>15.9</td>\n",
       "      <td>24.4</td>\n",
       "      <td>40.2</td>\n",
       "    </tr>\n",
       "    <tr>\n",
       "      <th>Outros</th>\n",
       "      <td>8.5</td>\n",
       "      <td>7.3</td>\n",
       "      <td>15.9</td>\n",
       "    </tr>\n",
       "    <tr>\n",
       "      <th>All</th>\n",
       "      <td>56.1</td>\n",
       "      <td>43.9</td>\n",
       "      <td>100.0</td>\n",
       "    </tr>\n",
       "  </tbody>\n",
       "</table>\n",
       "</div>"
      ],
      "text/plain": [
       "PLANO            A     B    All\n",
       "ESTADO CIVIL                   \n",
       "Casado        31.7  12.2   43.9\n",
       "Solteiro      15.9  24.4   40.2\n",
       "Outros         8.5   7.3   15.9\n",
       "All           56.1  43.9  100.0"
      ]
     },
     "execution_count": 15,
     "metadata": {},
     "output_type": "execute_result"
    }
   ],
   "source": [
    "print('Tabela Cruzada por total GERAL (em %):')\n",
    "ct1=ct1.round(decimals=1)\n",
    "ct1"
   ]
  },
  {
   "cell_type": "code",
   "execution_count": 16,
   "metadata": {},
   "outputs": [
    {
     "data": {
      "text/plain": [
       "<matplotlib.text.Text at 0x2876e083588>"
      ]
     },
     "execution_count": 16,
     "metadata": {},
     "output_type": "execute_result"
    },
    {
     "data": {
      "image/png": "[encoded data removed]",
      "text/plain": [
       "<matplotlib.figure.Figure at 0x2876de6b908>"
      ]
     },
     "metadata": {},
     "output_type": "display_data"
    }
   ],
   "source": [
    "plot = ct1.plot(kind='bar')\n",
    "plt.ylabel('Freq.Relativa (em %)')"
   ]
  },
  {
   "cell_type": "code",
   "execution_count": 17,
   "metadata": {},
   "outputs": [
    {
     "data": {
      "text/plain": [
       "<matplotlib.text.Text at 0x2876e161208>"
      ]
     },
     "execution_count": 17,
     "metadata": {},
     "output_type": "execute_result"
    },
    {
     "data": {
      "image/png": "[encoded data removed]",
      "text/plain": [
       "<matplotlib.figure.Figure at 0x2876e0dccf8>"
      ]
     },
     "metadata": {},
     "output_type": "display_data"
    }
   ],
   "source": [
    "#Sem a linha de 'ALL'\n",
    "plot = ct1.iloc[0:3,].plot(kind='bar')\n",
    "plt.ylabel('Freq.Relativa (em %)')"
   ]
  },
  {
   "cell_type": "code",
   "execution_count": 18,
   "metadata": {},
   "outputs": [
    {
     "name": "stdout",
     "output_type": "stream",
     "text": [
      "Tabela Cruzada por total de COLUNAS (em %):\n"
     ]
    },
    {
     "data": {
      "text/html": [
       "<div>\n",
       "<style>\n",
       "    .dataframe thead tr:only-child th {\n",
       "        text-align: right;\n",
       "    }\n",
       "\n",
       "    .dataframe thead th {\n",
       "        text-align: left;\n",
       "    }\n",
       "\n",
       "    .dataframe tbody tr th {\n",
       "        vertical-align: top;\n",
       "    }\n",
       "</style>\n",
       "<table border=\"1\" class=\"dataframe\">\n",
       "  <thead>\n",
       "    <tr style=\"text-align: right;\">\n",
       "      <th>PLANO</th>\n",
       "      <th>A</th>\n",
       "      <th>B</th>\n",
       "      <th>All</th>\n",
       "    </tr>\n",
       "    <tr>\n",
       "      <th>ESTADO CIVIL</th>\n",
       "      <th></th>\n",
       "      <th></th>\n",
       "      <th></th>\n",
       "    </tr>\n",
       "  </thead>\n",
       "  <tbody>\n",
       "    <tr>\n",
       "      <th>Casado</th>\n",
       "      <td>57.0</td>\n",
       "      <td>28.0</td>\n",
       "      <td>44.0</td>\n",
       "    </tr>\n",
       "    <tr>\n",
       "      <th>Solteiro</th>\n",
       "      <td>28.0</td>\n",
       "      <td>56.0</td>\n",
       "      <td>40.0</td>\n",
       "    </tr>\n",
       "    <tr>\n",
       "      <th>Outros</th>\n",
       "      <td>15.0</td>\n",
       "      <td>17.0</td>\n",
       "      <td>16.0</td>\n",
       "    </tr>\n",
       "  </tbody>\n",
       "</table>\n",
       "</div>"
      ],
      "text/plain": [
       "PLANO            A     B   All\n",
       "ESTADO CIVIL                  \n",
       "Casado        57.0  28.0  44.0\n",
       "Solteiro      28.0  56.0  40.0\n",
       "Outros        15.0  17.0  16.0"
      ]
     },
     "execution_count": 18,
     "metadata": {},
     "output_type": "execute_result"
    }
   ],
   "source": [
    "print('Tabela Cruzada por total de COLUNAS (em %):')\n",
    "ct2=(pd.crosstab(dados.EC, dados.PLANO, margins=True, rownames=['ESTADO CIVIL'], colnames=['PLANO'], normalize='columns')*100).round(decimals=0)\n",
    "ct2\n"
   ]
  },
  {
   "cell_type": "code",
   "execution_count": 19,
   "metadata": {},
   "outputs": [
    {
     "data": {
      "text/plain": [
       "<matplotlib.legend.Legend at 0x2876e15d5c0>"
      ]
     },
     "execution_count": 19,
     "metadata": {},
     "output_type": "execute_result"
    },
    {
     "data": {
      "image/png": "[encoded data removed]",
      "text/plain": [
       "<matplotlib.figure.Figure at 0x2876e3a0ac8>"
      ]
     },
     "metadata": {},
     "output_type": "display_data"
    }
   ],
   "source": [
    "plot = ct2.T.plot(kind='bar', stacked=True,title='Estado Civil em cada Plano')\n",
    "plot.set_ylim([0, 100])\n",
    "plt.ylabel('Freq.Relativa (em %)')\n",
    "\n",
    "#Para legenda ficar fora do gráfico\n",
    "ax = plt.subplot(111)\n",
    "box = ax.get_position()\n",
    "ax.set_position([box.x0, box.y0, box.width * 0.8, box.height])\n",
    "ax.legend(loc='center left', bbox_to_anchor=(1, 0.5))"
   ]
  },
  {
   "cell_type": "code",
   "execution_count": 20,
   "metadata": {},
   "outputs": [
    {
     "name": "stdout",
     "output_type": "stream",
     "text": [
      "Tabela Cruzada por total de LINHAS (em %):\n"
     ]
    },
    {
     "data": {
      "text/html": [
       "<div>\n",
       "<style>\n",
       "    .dataframe thead tr:only-child th {\n",
       "        text-align: right;\n",
       "    }\n",
       "\n",
       "    .dataframe thead th {\n",
       "        text-align: left;\n",
       "    }\n",
       "\n",
       "    .dataframe tbody tr th {\n",
       "        vertical-align: top;\n",
       "    }\n",
       "</style>\n",
       "<table border=\"1\" class=\"dataframe\">\n",
       "  <thead>\n",
       "    <tr style=\"text-align: right;\">\n",
       "      <th>PLANO</th>\n",
       "      <th>A</th>\n",
       "      <th>B</th>\n",
       "    </tr>\n",
       "    <tr>\n",
       "      <th>ESTADO CIVIL</th>\n",
       "      <th></th>\n",
       "      <th></th>\n",
       "    </tr>\n",
       "  </thead>\n",
       "  <tbody>\n",
       "    <tr>\n",
       "      <th>Casado</th>\n",
       "      <td>72.0</td>\n",
       "      <td>28.0</td>\n",
       "    </tr>\n",
       "    <tr>\n",
       "      <th>Solteiro</th>\n",
       "      <td>39.0</td>\n",
       "      <td>61.0</td>\n",
       "    </tr>\n",
       "    <tr>\n",
       "      <th>Outros</th>\n",
       "      <td>54.0</td>\n",
       "      <td>46.0</td>\n",
       "    </tr>\n",
       "    <tr>\n",
       "      <th>All</th>\n",
       "      <td>56.0</td>\n",
       "      <td>44.0</td>\n",
       "    </tr>\n",
       "  </tbody>\n",
       "</table>\n",
       "</div>"
      ],
      "text/plain": [
       "PLANO            A     B\n",
       "ESTADO CIVIL            \n",
       "Casado        72.0  28.0\n",
       "Solteiro      39.0  61.0\n",
       "Outros        54.0  46.0\n",
       "All           56.0  44.0"
      ]
     },
     "execution_count": 20,
     "metadata": {},
     "output_type": "execute_result"
    }
   ],
   "source": [
    "print('Tabela Cruzada por total de LINHAS (em %):')\n",
    "ct3=(pd.crosstab(dados.EC, dados.PLANO, margins=True, rownames=['ESTADO CIVIL'], colnames=['PLANO'], normalize='index')*100).round(decimals=0)\n",
    "ct3\n"
   ]
  },
  {
   "cell_type": "code",
   "execution_count": 21,
   "metadata": {},
   "outputs": [
    {
     "data": {
      "text/plain": [
       "<matplotlib.legend.Legend at 0x2876e15dba8>"
      ]
     },
     "execution_count": 21,
     "metadata": {},
     "output_type": "execute_result"
    },
    {
     "data": {
      "image/png": "[encoded data removed]",
      "text/plain": [
       "<matplotlib.figure.Figure at 0x2876e3ff0f0>"
      ]
     },
     "metadata": {},
     "output_type": "display_data"
    }
   ],
   "source": [
    "plot = ct3.plot(kind='bar', stacked=True,title='Plano em cada Estado Civil')\n",
    "plt.ylabel('Freq.Relativa (em %)')\n",
    "\n",
    "#Para legenda ficar fora do gráfico\n",
    "ax = plt.subplot(111)\n",
    "box = ax.get_position()\n",
    "ax.set_position([box.x0, box.y0, box.width * 0.8, box.height])\n",
    "ax.legend(loc='center left', bbox_to_anchor=(1, 0.5))"
   ]
  },
  {
   "cell_type": "markdown",
   "metadata": {},
   "source": [
    "# <font color='red'>É coerente fazer os gráficos apresentados a seguir?</font>"
   ]
  },
  {
   "cell_type": "markdown",
   "metadata": {},
   "source": [
    "### A questão é: Consegue interpretar corretamente em qual Estado Civil há maior ou menor concentração de cada Plano?? "
   ]
  },
  {
   "cell_type": "code",
   "execution_count": 22,
   "metadata": {},
   "outputs": [
    {
     "data": {
      "text/plain": [
       "<matplotlib.text.Text at 0x2876f534518>"
      ]
     },
     "execution_count": 22,
     "metadata": {},
     "output_type": "execute_result"
    },
    {
     "data": {
      "image/png": "[encoded data removed]",
      "text/plain": [
       "<matplotlib.figure.Figure at 0x2876e444ef0>"
      ]
     },
     "metadata": {},
     "output_type": "display_data"
    }
   ],
   "source": [
    "#ct é uma tabela crosstab que considera Estado Civil versus Plano - com frequências absolutas\n",
    "ct=pd.crosstab(dados.EC,dados.PLANO,margins=True,rownames=['ESTADO CIVIL'], colnames=['PLANO'])\n",
    "ct=ct.loc[['Casado','Solteiro','Outros','All']]\n",
    "\n",
    "ct4 = ct.iloc[:,0:2]\n",
    "plot = ct4.plot(kind='bar',stacked=True)\n",
    "plt.ylabel('Freq. Absoluta')"
   ]
  },
  {
   "cell_type": "markdown",
   "metadata": {},
   "source": [
    "### A questão é: Consegue interpretar corretamente em qual Plano há maior ou menor concentração de cada Estado Civil?? "
   ]
  },
  {
   "cell_type": "code",
   "execution_count": 23,
   "metadata": {},
   "outputs": [
    {
     "data": {
      "text/plain": [
       "<matplotlib.text.Text at 0x2876f614e48>"
      ]
     },
     "execution_count": 23,
     "metadata": {},
     "output_type": "execute_result"
    },
    {
     "data": {
      "image/png": "[encoded data removed]",
      "text/plain": [
       "<matplotlib.figure.Figure at 0x2876e455ac8>"
      ]
     },
     "metadata": {},
     "output_type": "display_data"
    }
   ],
   "source": [
    "#ct1 é uma tabela crosstab que considera Estado Civil versus Plano - com frequências relativas\n",
    "ct1= (pd.crosstab(dados.EC, dados.PLANO, margins=True, rownames=['ESTADO CIVIL'], colnames=['PLANO'], normalize=True)*100).round(decimals=1)\n",
    "\n",
    "ct5 = ct1.iloc[:,0:2]\n",
    "plot = ct5.plot(kind='bar',stacked=True)\n",
    "plt.ylabel('Freq.Relativa (em %)')"
   ]
  },
  {
   "cell_type": "markdown",
   "metadata": {},
   "source": [
    "## *Análise de Satisfação versus Plano*"
   ]
  },
  {
   "cell_type": "markdown",
   "metadata": {},
   "source": [
    "Agora estude o grau de satisfação dos clientes segundo o plano adquiridos por eles!!\n",
    "Faça interpretações dos resultados!!"
   ]
  },
  {
   "cell_type": "code",
   "execution_count": 24,
   "metadata": {},
   "outputs": [
    {
     "name": "stdout",
     "output_type": "stream",
     "text": [
      "PLANO                  A     B    All\n",
      "SATISFAÇÃO                           \n",
      "Muito Insatisfeito   2.4   7.3    9.8\n",
      "Insatisfeito         6.1  13.4   19.5\n",
      "Indiferente          8.5  14.6   23.2\n",
      "Satisfeito          24.4   8.5   32.9\n",
      "Muito Satisfeito    14.6   0.0   14.6\n",
      "All                 56.1  43.9  100.0\n"
     ]
    },
    {
     "data": {
      "image/png": "[encoded data removed]",
      "text/plain": [
       "<matplotlib.figure.Figure at 0x2876f69c240>"
      ]
     },
     "metadata": {},
     "output_type": "display_data"
    },
    {
     "name": "stdout",
     "output_type": "stream",
     "text": [
      "PLANO                  A     B   All\n",
      "SATISFAÇÃO                          \n",
      "Muito Insatisfeito   4.3  16.7   9.8\n",
      "Insatisfeito        10.9  30.6  19.5\n",
      "Indiferente         15.2  33.3  23.2\n",
      "Satisfeito          43.5  19.4  32.9\n",
      "Muito Satisfeito    26.1   0.0  14.6\n"
     ]
    },
    {
     "data": {
      "image/png": "[encoded data removed]",
      "text/plain": [
       "<matplotlib.figure.Figure at 0x2876f78c0f0>"
      ]
     },
     "metadata": {},
     "output_type": "display_data"
    },
    {
     "name": "stdout",
     "output_type": "stream",
     "text": [
      "PLANO                        A          B\n",
      "ESTADO CIVIL                             \n",
      "Muito Insatisfeito   25.000000  75.000000\n",
      "Insatisfeito         31.250000  68.750000\n",
      "Indiferente          36.842105  63.157895\n",
      "Satisfeito           74.074074  25.925926\n",
      "Muito Satisfeito    100.000000   0.000000\n",
      "All                  56.097561  43.902439\n"
     ]
    },
    {
     "data": {
      "image/png": "[encoded data removed]",
      "text/plain": [
       "<matplotlib.figure.Figure at 0x2876f886c18>"
      ]
     },
     "metadata": {},
     "output_type": "display_data"
    }
   ],
   "source": [
    "#Analise Satisfação x Plano\n",
    "ct1 = (pd.crosstab(dados.SATISFACAO,dados.PLANO,margins=True,rownames=['SATISFAÇÃO'], colnames=['PLANO'], normalize = True)*100).round(decimals=1)\n",
    "print(ct1)\n",
    "\n",
    "plot = ct1.iloc[0:5,:].plot(kind='bar')\n",
    "plt.ylabel('Freq.Relativa (em %)')\n",
    "#Para legenda ficar fora do gráfico\n",
    "ax = plt.subplot(111)\n",
    "box = ax.get_position()\n",
    "ax.set_position([box.x0, box.y0, box.width * 0.8, box.height])\n",
    "ax.legend(loc='center left', bbox_to_anchor=(1, 0.5))\n",
    "plt.show()\n",
    "\n",
    "\n",
    "ct2 = (pd.crosstab(dados.SATISFACAO,dados.PLANO,margins=True,rownames=['SATISFAÇÃO'], colnames=['PLANO'], normalize='columns')*100).round(decimals=1)\n",
    "print(ct2)\n",
    "\n",
    "plot = ct2.T.plot(kind='bar', stacked=True,title='Satisfação em cada Plano')\n",
    "plot.set_ylim([0, 100])\n",
    "plt.ylabel('Freq.Relativa (em %)')\n",
    "#Para legenda ficar fora do gráfico\n",
    "ax = plt.subplot(111)\n",
    "box = ax.get_position()\n",
    "ax.set_position([box.x0, box.y0, box.width * 0.8, box.height])\n",
    "ax.legend(loc='center left', bbox_to_anchor=(1, 0.5))\n",
    "plt.show()\n",
    "\n",
    "\n",
    "ct3 = (pd.crosstab(dados.SATISFACAO,dados.PLANO,margins=True,rownames=['ESTADO CIVIL'], colnames=['PLANO'], normalize='index')*100)\n",
    "print(ct3)\n",
    "\n",
    "plot = ct3.plot(kind='bar', stacked=True,title='Plano em cada Satisfação')\n",
    "plt.ylabel('Freq.Relativa (em %)')\n",
    "\n",
    "#Para legenda ficar fora do gráfico\n",
    "ax = plt.subplot(111)\n",
    "box = ax.get_position()\n",
    "ax.set_position([box.x0, box.y0, box.width * 0.8, box.height])\n",
    "ax.legend(loc='center left', bbox_to_anchor=(1, 0.5))\n",
    "plt.show()"
   ]
  },
  {
   "cell_type": "markdown",
   "metadata": {},
   "source": [
    "___\n",
    "## Análise das três variáveis qualitativas simultaneamente"
   ]
  },
  {
   "cell_type": "markdown",
   "metadata": {},
   "source": [
    "Analise o Grau de Satisfação versus Estado Civil separademente para cada plano!\n",
    "\n",
    "Aqui será necessário usar um filtro em cada uma dessas variáveis selecionando, inicialmente, apenas os clientes com plano A.\n",
    "\n",
    "Para isso, lembre-se que você pode usar o seguinte código:\n",
    "\n",
    "* `dados.SATISFACAO[dados.PLANO=='A']`\n",
    "* `dados.EC[dados.PLANO=='A']`\n",
    "\n",
    "Faça interpretações dos gráficos/tabelas que serão feitos a seguir por você!!"
   ]
  },
  {
   "cell_type": "markdown",
   "metadata": {},
   "source": [
    "## *Tabela cruzada de Satisfação versus Estado Civil - PLANO A*"
   ]
  },
  {
   "cell_type": "code",
   "execution_count": null,
   "metadata": {
    "collapsed": true
   },
   "outputs": [],
   "source": []
  },
  {
   "cell_type": "markdown",
   "metadata": {},
   "source": [
    "## *Tabela cruzada de Satisfação versus Estado Civil - PLANO B*"
   ]
  },
  {
   "cell_type": "code",
   "execution_count": null,
   "metadata": {
    "collapsed": true
   },
   "outputs": [],
   "source": []
  },
  {
   "cell_type": "code",
   "execution_count": null,
   "metadata": {
    "collapsed": true
   },
   "outputs": [],
   "source": []
  },
  {
   "cell_type": "code",
   "execution_count": null,
   "metadata": {
    "collapsed": true
   },
   "outputs": [],
   "source": []
  }
 ],
 "metadata": {
  "anaconda-cloud": {},
  "kernelspec": {
   "display_name": "Python 3",
   "language": "python",
   "name": "python3"
  },
  "language_info": {
   "codemirror_mode": {
    "name": "ipython",
    "version": 3
   },
   "file_extension": ".py",
   "mimetype": "text/x-python",
   "name": "python",
   "nbconvert_exporter": "python",
   "pygments_lexer": "ipython3",
   "version": "3.6.1"
  }
 },
 "nbformat": 4,
 "nbformat_minor": 1
}
