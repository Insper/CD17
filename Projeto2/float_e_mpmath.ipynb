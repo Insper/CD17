{
 "cells": [
  {
   "cell_type": "markdown",
   "metadata": {},
   "source": [
    "# Criando valores com casas decimais extra"
   ]
  },
  {
   "cell_type": "markdown",
   "metadata": {},
   "source": [
    "O Problema: Alguns alunos estão tendo o valor de suas probabilidades aproximado para `0.0`. Os números estão tão pequenos que faltam casas decimais para representá-los.\n",
    "\n",
    "Vamos propor uma solução\n"
   ]
  },
  {
   "cell_type": "markdown",
   "metadata": {},
   "source": [
    "## Descobrindo o valor de menor magnitude"
   ]
  },
  {
   "cell_type": "code",
   "execution_count": 1,
   "metadata": {
    "collapsed": true
   },
   "outputs": [],
   "source": [
    "import sys"
   ]
  },
  {
   "cell_type": "markdown",
   "metadata": {},
   "source": [
    "Abaixo vamos imprimir o valor mínimo em magnitude de um número em ponto flutuante (real) que sua máquina pode representar.\n",
    "\n",
    "Este valor varia com a arquitetura da máquina e com a versão de compilação do Python.\n",
    "\n",
    "Note que isso não "
   ]
  },
  {
   "cell_type": "code",
   "execution_count": 2,
   "metadata": {
    "scrolled": true
   },
   "outputs": [
    {
     "data": {
      "text/plain": [
       "2.2250738585072014e-308"
      ]
     },
     "execution_count": 2,
     "metadata": {},
     "output_type": "execute_result"
    }
   ],
   "source": [
    "sys.float_info.min"
   ]
  },
  {
   "cell_type": "code",
   "execution_count": 3,
   "metadata": {
    "collapsed": true
   },
   "outputs": [],
   "source": [
    "min_possivel = sys.float_info.min"
   ]
  },
  {
   "cell_type": "markdown",
   "metadata": {},
   "source": [
    "Quando precisamos de um valor menor ainda que o valor mínimo, vai acontecer o *underflow*. Note que por exemplo não podemos elevar o valor mínimo ao quadrado porque precisaríamos de mais casas decimais para representá-lo. A variável `min_possivel` já contém o máximo de casas decimais possível "
   ]
  },
  {
   "cell_type": "code",
   "execution_count": 4,
   "metadata": {},
   "outputs": [
    {
     "data": {
      "text/plain": [
       "0.0"
      ]
     },
     "execution_count": 4,
     "metadata": {},
     "output_type": "execute_result"
    }
   ],
   "source": [
    "min_possivel**2"
   ]
  },
  {
   "cell_type": "markdown",
   "metadata": {},
   "source": [
    "## Contornando um limite de valor muito pequeno"
   ]
  },
  {
   "cell_type": "markdown",
   "metadata": {},
   "source": [
    "Imprima as probabilidades que está calculando para os *tweets* em seu projeto 2. Se as probabilidades que você obtiverem estiverem muito perto do valor mínimo exibido acima, por ser que suas probabilidades estejam sendo truncadas para 0.0"
   ]
  },
  {
   "cell_type": "markdown",
   "metadata": {},
   "source": [
    "É necessário usar o pacote `mpmath` no Python para representar valores de menor magnitude que o mínimo.\n",
    "\n",
    "Para instalar, dê o comando no *Anaconda Prompt* ou no terminal:\n",
    "\n",
    "`conda install mpmath`\n",
    "\n",
    "Se preferir, retire o # da linha abaixo que a instalação será feita agora"
   ]
  },
  {
   "cell_type": "code",
   "execution_count": 5,
   "metadata": {
    "collapsed": true
   },
   "outputs": [],
   "source": [
    "#! conda install mpmath"
   ]
  },
  {
   "cell_type": "markdown",
   "metadata": {},
   "source": [
    "Uma vez com o pacote `mpmath` instalado, basta criar uma variável capaz de guardar números com quantas casas decimais forem necessárias"
   ]
  },
  {
   "cell_type": "code",
   "execution_count": 6,
   "metadata": {
    "collapsed": true
   },
   "outputs": [],
   "source": [
    "import mpmath\n",
    "\n",
    "# Cria uma variável do tipo mpmath\n",
    "\n",
    "valor = mpmath.mpf(min_possivel)\n"
   ]
  },
  {
   "cell_type": "code",
   "execution_count": 7,
   "metadata": {},
   "outputs": [],
   "source": [
    "quadrado = valor**2"
   ]
  },
  {
   "cell_type": "code",
   "execution_count": 8,
   "metadata": {},
   "outputs": [
    {
     "data": {
      "text/plain": [
       "mpf('4.9509536758121252e-616')"
      ]
     },
     "execution_count": 8,
     "metadata": {},
     "output_type": "execute_result"
    }
   ],
   "source": [
    "# Note que o valor que antes criava underflow agora\n",
    "# pode ser representado\n",
    "quadrado"
   ]
  },
  {
   "cell_type": "markdown",
   "metadata": {},
   "source": [
    "Pronto! Agora sempre que fizermos contas a partir de um número do tipo `mpf` o Python saberá que vai precisar criar casas decimais extra conforme necessário\n",
    "\n"
   ]
  }
 ],
 "metadata": {
  "kernelspec": {
   "display_name": "Python 3",
   "language": "python",
   "name": "python3"
  },
  "language_info": {
   "codemirror_mode": {
    "name": "ipython",
    "version": 3
   },
   "file_extension": ".py",
   "mimetype": "text/x-python",
   "name": "python",
   "nbconvert_exporter": "python",
   "pygments_lexer": "ipython3",
   "version": "3.6.1"
  }
 },
 "nbformat": 4,
 "nbformat_minor": 2
}
