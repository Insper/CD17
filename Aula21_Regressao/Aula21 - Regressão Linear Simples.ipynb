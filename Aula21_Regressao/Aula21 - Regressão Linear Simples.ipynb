{
 "cells": [
  {
   "cell_type": "markdown",
   "metadata": {},
   "source": [
    "___\n",
    "# Atividade: Regressão Linear Simples\n",
    "___\n",
    "\n",
    "## Aula 21\n",
    "\n",
    "**Preparo Prévio:**\n",
    "1. Montogmery. Seção 6-2 - Simple Linear Regression\n",
    "1. Magalhães e Lima, seção 9.5. Regressão Linear Simples\n",
    "\n",
    "**Hoje:**\n",
    "1. Entender o conceito de regressão linear\n",
    "\n",
    "**Próxima aula: (Terça-feira)**\n",
    "1. Projeto 3\n",
    "\n",
    "**Próxima aula: (Quinta-feira)**\n",
    "1. Montogmery. Seção 6-3 - Multiple Regression"
   ]
  },
  {
   "cell_type": "markdown",
   "metadata": {},
   "source": [
    "___\n",
    "\n",
    "##  Renda per capita vs CO2 de países\n",
    "\n",
    "Foram coletados dois dados do site https://www.gapminder.org/:\n",
    "1. Emissão de CO2 per capita\n",
    "1. Renda per capita (sendo usado PBI como uma proxy de renda)\n",
    "\n",
    "Nesses *dataframes*, as linhas representam os países, as colunas representam o ano.\n",
    "\n",
    "No *dataframe* *co2* criado a seguir, o conteúdo de cada célula é a medida de CO2 de um determinado ano (coluna) para determinado país (linha). \n",
    "\n",
    "No *dataframe* *income* criado a seguir, o conteúdo de cada célula é a medida de PIB per capita de um determinado ano (coluna) para um determinado país (linha). \n",
    "\n",
    "Como os arquivos estão separados, será preciso juntá-los cruzando o país.\n",
    "\n",
    "___"
   ]
  },
  {
   "cell_type": "code",
   "execution_count": null,
   "metadata": {
    "collapsed": true
   },
   "outputs": [],
   "source": [
    "%matplotlib inline\n",
    "import pandas as pd\n",
    "import numpy as np\n",
    "from scipy import stats\n",
    "import matplotlib.pyplot as plt"
   ]
  },
  {
   "cell_type": "code",
   "execution_count": null,
   "metadata": {
    "collapsed": true
   },
   "outputs": [],
   "source": [
    "#Leitura dos arquivos em Excel\n",
    "co2 = pd.read_excel('indicator CDIAC carbon_dioxide_emissions_per_capita.xlsx')\n",
    "income = pd.read_excel('indicator gapminder gdp_per_capita_ppp.xlsx')"
   ]
  },
  {
   "cell_type": "code",
   "execution_count": null,
   "metadata": {},
   "outputs": [],
   "source": [
    "#É possível verificar que cada linha representa um país e as colunas representam o ano\n",
    "co2.head()"
   ]
  },
  {
   "cell_type": "code",
   "execution_count": null,
   "metadata": {},
   "outputs": [],
   "source": [
    "#O mesmo se aplica a renda.\n",
    "income.head()"
   ]
  },
  {
   "cell_type": "markdown",
   "metadata": {},
   "source": [
    "___\n",
    "### Inner Join\n",
    "\n",
    "Vamos agora juntar as duas tabelas via país, selecionar apenas o ano de 2010 e remover os NaNs.\n",
    "\n",
    "Ao final vamos fazer o gráfico de dispersão das duas variáveis.\n",
    "\n",
    "**Sugestão**: pesquise sobre a função DataFrame.join(), pode ser muito útil no futuro."
   ]
  },
  {
   "cell_type": "code",
   "execution_count": null,
   "metadata": {},
   "outputs": [],
   "source": [
    "#Cruza as duas tabelas via país\n",
    "df = co2.set_index('CO2 per capita').join(income.set_index('GDP per capita'), how='inner', lsuffix='_co2', rsuffix='_income')\n",
    "#Seleciona o ano de 2010 e remove os NaNs\n",
    "df = df[['2010_co2','2010_income']].dropna()\n",
    "#Transforma a renda na escala de milhares de dólares\n",
    "df['2010_income'] /= 1000\n",
    "\n",
    "#Plota o gráfico de dispersão\n",
    "df.plot.scatter('2010_income','2010_co2');"
   ]
  },
  {
   "cell_type": "markdown",
   "metadata": {},
   "source": [
    "___\n",
    "### Regressão\n",
    "\n",
    "Vamos tentar agora ajustar um modelo sobre os dados. A primeira tentativa será ajustar um reta:\n",
    "\n",
    "$$y_i=\\beta_0+\\beta_1x_i+\\epsilon_i$$\n",
    "\n",
    "\n",
    "Esse modelo é muito parecido com o visto na aula 06, com algumas mudanças:\n",
    "1. Agora utilizaremos $\\beta_i$ para se referir aos coeficientes.\n",
    "1. Existe um termo $\\epsilon_i$ para representar os resíduos.\n",
    "\n",
    "O primeiro passo agora é calcular os valores da regressão. Existem diversas formas de estimar os $\\beta$s, vamos utilizar o método de **Mínimos Quadrados Ordinários (MQO ou OLS - Ordinary Least Squares em inglês)**. \n",
    "\n",
    "$$\\hat{\\beta}_0=\\bar{y}-\\hat{\\beta}_1\\bar{x}$$\n",
    "\n",
    "$$\\hat{\\beta}_1=\\frac{S_{XY}}{S_{XX}}=\\frac{\\sum_{i=1}^n(x_i-\\bar{x})(y_i-\\bar{y})}{\\sum_{i=1}^n(x_i-\\bar{x})^2}$$\n",
    "\n",
    "**Obs: Acompanhar e anotar o desenvolvimento no quadro.**\n",
    "___\n",
    "**Tarefa 1**: Calcule os valores de $\\bar{x}$ e $\\bar{y}$. Calcule também $S_{XX}$ e $S_{XY}$, em seguida calcule o $\\hat{\\beta}_1$ e o $\\hat{\\beta}_0$"
   ]
  },
  {
   "cell_type": "code",
   "execution_count": null,
   "metadata": {
    "collapsed": true
   },
   "outputs": [],
   "source": []
  },
  {
   "cell_type": "markdown",
   "metadata": {},
   "source": [
    "___\n",
    "Agora calcular o vetor de resíduos, dado por:\n",
    "$$\\epsilon_i=y_i-(\\hat{\\beta}_0+\\hat{\\beta}_1x_i)$$\n",
    "\n",
    "**Tarefa 2**: Plote o histograma dos resíduos. Parece uma Normal?"
   ]
  },
  {
   "cell_type": "code",
   "execution_count": null,
   "metadata": {
    "collapsed": true
   },
   "outputs": [],
   "source": []
  },
  {
   "cell_type": "markdown",
   "metadata": {},
   "source": [
    "___\n",
    "Agora que já aprendemos Teste de Hipóteses, podemos verificar se os Betas são realmente relevantes. para tal vamos testar:\n",
    "\n",
    "$$H_0: \\beta_i=0$$\n",
    "$$H_1: \\beta_i\\neq0$$\n",
    "\n",
    "Onde os betas terão a distribuição:\n",
    "\n",
    "$$\\beta_0\\sim N(0,\\sigma_{\\beta_0}^2)\\sim N\\left(0,\\sigma^2\\left(\\frac{1}{n}+\\frac{\\bar{x}^2}{S_{XX}}\\right)\\right)$$\n",
    "$$\\beta_1\\sim N(0,\\sigma_{\\beta_1}^2)\\sim N\\left(0,\\frac{\\sigma^2}{S_{XX}}\\right)$$\n",
    "\n",
    "Como não conhecemos o $\\sigma^2$, vamos utilizar um valor estimado $\\hat{\\sigma}^2$:\n",
    "\n",
    "$$\\hat{\\sigma}^2=\\frac{SS_E}{n-2}=\\frac{\\sum_{i=1}^n(y_i-(\\hat{\\beta}_0+\\hat{\\beta}_1x_i))^2}{n-2}$$\n",
    "\n",
    "$SS_E$ também é conhecido como Sum of Square Errors (ou SQE em português).\n",
    "___\n",
    "**Tarefa 3**: Calcular o erro padrão $\\hat{\\sigma}$. Cacular também os erros $\\hat{\\sigma}_{\\beta_0}$ e $\\hat{\\sigma}_{\\beta_1}$.\n"
   ]
  },
  {
   "cell_type": "code",
   "execution_count": null,
   "metadata": {
    "collapsed": true
   },
   "outputs": [],
   "source": []
  },
  {
   "cell_type": "markdown",
   "metadata": {},
   "source": [
    "**Tarefa 4**: Calcule o **valor-p** para os betas e verifique se rejeitamos ou não $H_0$. Utilize $\\alpha=5\\%$."
   ]
  },
  {
   "cell_type": "code",
   "execution_count": null,
   "metadata": {
    "collapsed": true
   },
   "outputs": [],
   "source": []
  },
  {
   "cell_type": "markdown",
   "metadata": {},
   "source": [
    "**Tarefa 5:** Calcule o **intervalo de confiança** para os betas."
   ]
  },
  {
   "cell_type": "code",
   "execution_count": null,
   "metadata": {
    "collapsed": true
   },
   "outputs": [],
   "source": []
  },
  {
   "cell_type": "markdown",
   "metadata": {},
   "source": [
    "___\n",
    "### Coeficiente de Determinação\n",
    "\n",
    "$$R^2=1-\\frac{SS_E}{SS_T}$$\n",
    "\n",
    "Onde:\n",
    "\n",
    "$$SS_T=SS_R+SS_E$$\n",
    "$$SS_R=\\sum_{i=1}^n(\\hat{y}-\\bar{y})^2$$\n",
    "\n",
    "$SS_T$: Total Sum of Square\n",
    "\n",
    "$SS_R$: Regression Sum of Square\n",
    "___\n",
    "**Tarefa 6:** Calcule o $R^2$. Interprete."
   ]
  },
  {
   "cell_type": "code",
   "execution_count": null,
   "metadata": {
    "collapsed": true
   },
   "outputs": [],
   "source": []
  },
  {
   "cell_type": "markdown",
   "metadata": {},
   "source": [
    "___\n",
    "### Grand Finale\n",
    "\n",
    "Agora que estão familiarizados com algumas medidas, rode a função OLS() da biblioteca statsmodel:"
   ]
  },
  {
   "cell_type": "code",
   "execution_count": null,
   "metadata": {},
   "outputs": [],
   "source": [
    "import numpy as np\n",
    "import statsmodels.api as sm\n",
    "\n",
    "Y = df['2010_co2']\n",
    "X = df['2010_income']\n",
    "X = sm.add_constant(X)\n",
    "model = sm.OLS(Y,X)\n",
    "results = model.fit()\n",
    "results.summary()"
   ]
  },
  {
   "cell_type": "markdown",
   "metadata": {},
   "source": [
    "___\n",
    "### Para ir além...\n",
    "\n",
    "Referência: http://www.statsmodels.org/dev/diagnostic.html\n",
    "\n",
    "**Tarefa 7**: Você consegue interpretar alguns dos resultados acima? Você acha que os resíduos formam uma normal? Fale um pouco sobre a homocedasticidade do modelo."
   ]
  },
  {
   "cell_type": "code",
   "execution_count": null,
   "metadata": {
    "collapsed": true
   },
   "outputs": [],
   "source": []
  },
  {
   "cell_type": "markdown",
   "metadata": {},
   "source": [
    "No caso de rejeição de homecedasticidade, é necessário usar uma modelagem que permita heterocedasticidade (Mínimos Quadrados Generalizados).\n",
    "Veja, por exemplo, http://www.statsmodels.org/dev/generated/statsmodels.regression.linear_model.RegressionResults.html"
   ]
  }
 ],
 "metadata": {
  "kernelspec": {
   "display_name": "Python 3",
   "language": "python",
   "name": "python3"
  },
  "language_info": {
   "codemirror_mode": {
    "name": "ipython",
    "version": 3
   },
   "file_extension": ".py",
   "mimetype": "text/x-python",
   "name": "python",
   "nbconvert_exporter": "python",
   "pygments_lexer": "ipython3",
   "version": "3.6.1"
  }
 },
 "nbformat": 4,
 "nbformat_minor": 2
}
