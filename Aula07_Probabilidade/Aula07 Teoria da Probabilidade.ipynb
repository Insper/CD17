{
 "cells": [
  {
   "cell_type": "markdown",
   "metadata": {},
   "source": [
    "___\n",
    "# Atividade: Teoria da Probabilidade\n",
    "___\n",
    "\n",
    "## Aula 07\n",
    "\n",
    "**Referência de Leitura:**\n",
    "1. Magalhães e Lima (7ª. Edição): pág. 49 a 68 - Probabilidades\n",
    "\n",
    "**Hoje:**\n",
    "1. Conceito de Probabilidade\n",
    "1. Probabilidade Condicional\n",
    "1. Independência de eventos\n",
    "\n",
    "**Próxima aula:**\n",
    "1. Magalhães e Lima (7ª. Edição): pág. 58 a 60 - Teorema de Bayes\n",
    "\n",
    "**Exercícios:**\n",
    "1. Exercícios do Powerpoint\n",
    "1. Magalhães e Lima (7ª. Edição): pág. 52 e 53\n",
    "\n",
    "___"
   ]
  },
  {
   "cell_type": "code",
   "execution_count": 13,
   "metadata": {
    "collapsed": false
   },
   "outputs": [],
   "source": [
    "%%capture\n",
    "\n",
    "#Instalando o matplotlib_venn para plotar Diagrama de Venn\n",
    "!pip install matplotlib_venn"
   ]
  },
  {
   "cell_type": "code",
   "execution_count": 14,
   "metadata": {
    "collapsed": false
   },
   "outputs": [],
   "source": [
    "%matplotlib inline\n",
    "%reset -f\n",
    "\n",
    "from matplotlib import pyplot as plt\n",
    "import numpy as np\n",
    "from itertools import product\n",
    "from matplotlib_venn import venn2, venn2_circles\n",
    "\n",
    "#ATENÇÃO: Não foquem muito na formatação do print() e sim na mensagem de saída"
   ]
  },
  {
   "cell_type": "code",
   "execution_count": 15,
   "metadata": {
    "collapsed": false
   },
   "outputs": [
    {
     "name": "stdout",
     "output_type": "stream",
     "text": [
      "Ω: {1, 2, 3, 4, 5, 6}\n"
     ]
    }
   ],
   "source": [
    "#Definindo a função de probabilidade para 1 dado de 6 faces:\n",
    "\n",
    "#Número de faces do dado\n",
    "n = 6\n",
    "#Espaço amostral do dado: todas as possibilidades\n",
    "Ω = set(range(1, n+1))\n",
    "print(\"Ω: {0}\".format(Ω))\n",
    "\n",
    "#Função que calcula e retorna a probabilidade.\n",
    "def P(evento, espaco=Ω):\n",
    "    return \"{0}/{1} ou {2:.2f}%\".format(len(evento & espaco), len(espaco),len(evento)*100/len(espaco))"
   ]
  },
  {
   "cell_type": "code",
   "execution_count": 16,
   "metadata": {
    "collapsed": false
   },
   "outputs": [
    {
     "name": "stdout",
     "output_type": "stream",
     "text": [
      "P(A) = P({1}) = 1/6 ou 16.67%\n"
     ]
    }
   ],
   "source": [
    "#Qual a probabilidade de sair o número 6? P(A) = 1/6\n",
    "A = {6}\n",
    "res = P(A)\n",
    "\n",
    "print(\"P(A) = P({{1}}) = {0}\".format(res))"
   ]
  },
  {
   "cell_type": "code",
   "execution_count": 17,
   "metadata": {
    "collapsed": false
   },
   "outputs": [
    {
     "name": "stdout",
     "output_type": "stream",
     "text": [
      "P(Ω) = 6/6 ou 100.00%\n",
      "P(∅) = 0/6 ou 0.00%\n"
     ]
    }
   ],
   "source": [
    "#Propriedades da função Probabilidade:\n",
    "\n",
    "#Probabilidade do espaço e do conjunto vazio\n",
    "res = P(Ω)\n",
    "\n",
    "print(\"P(Ω) = {0}\".format(res))\n",
    "\n",
    "# {} é equivalente a ∅\n",
    "res = P(set([]))\n",
    "\n",
    "print(\"P(∅) = {0}\".format(res))"
   ]
  },
  {
   "cell_type": "code",
   "execution_count": 18,
   "metadata": {
    "collapsed": false
   },
   "outputs": [
    {
     "name": "stdout",
     "output_type": "stream",
     "text": [
      "P(Aᶜ) = P(Ω - A) = 1 - P(A) = 5/6 ou 83.33%\n"
     ]
    },
    {
     "data": {
      "image/png": "[encoded data removed]",
      "text/plain": [
       "<matplotlib.figure.Figure at 0x13edc1317b8>"
      ]
     },
     "metadata": {},
     "output_type": "display_data"
    }
   ],
   "source": [
    "#Complemento: qual a probabilidade de NÃO sair o número 1?\n",
    "#P(Aᶜ) = P(Ω - A) = 1 - P(A)\n",
    "Ac = Ω - A \n",
    "res = P(Ac)\n",
    "\n",
    "fig = plt.figure(figsize=(8,8))\n",
    "v = venn2(subsets=(1,0,0), set_labels = ('', ''))\n",
    "v.get_label_by_id('100').set_text('A')\n",
    "v.get_label_by_id('010').set_text('Ac')\n",
    "fig.patch.set_facecolor((0.5, 0.5, 0.5))\n",
    "\n",
    "print(\"P(Aᶜ) = P(Ω - A) = 1 - P(A) = {0}\".format(res))"
   ]
  },
  {
   "cell_type": "code",
   "execution_count": 19,
   "metadata": {
    "collapsed": false
   },
   "outputs": [
    {
     "name": "stdout",
     "output_type": "stream",
     "text": [
      "P(B) = P({1} ∪ {3} ∪ {5}) = P({1, 3, 5}) = 3/6 ou 50.00%\n"
     ]
    }
   ],
   "source": [
    "#UNIÃO de eventos: probabilidade dos impares\n",
    "B = {1} | {2} | {3}\n",
    "res = P(B)\n",
    "\n",
    "print(\"P(B) = P({{1}} ∪ {{3}} ∪ {{5}}) = P({{1, 3, 5}}) = {0}\".format(res))"
   ]
  },
  {
   "cell_type": "code",
   "execution_count": 20,
   "metadata": {
    "collapsed": false
   },
   "outputs": [
    {
     "name": "stdout",
     "output_type": "stream",
     "text": [
      "Ω: [(1, 1), (1, 2), (1, 3), (1, 4), (1, 5), (1, 6), (2, 1), (2, 2), (2, 3), (2, 4), (2, 5), (2, 6), (3, 1), (3, 2), (3, 3), (3, 4), (3, 5), (3, 6), (4, 1), (4, 2), (4, 3), (4, 4), (4, 5), (4, 6), (5, 1), (5, 2), (5, 3), (5, 4), (5, 5), (5, 6), (6, 1), (6, 2), (6, 3), (6, 4), (6, 5), (6, 6)]\n",
      "\n",
      "len(Ω) = n² = 36\n"
     ]
    }
   ],
   "source": [
    "#Agora vamos considerar 2 jogadas seguidas ou dois dados\n",
    "\n",
    "#Novo Espaço amostral\n",
    "Ω = set(product(range(1,n+1),range(1,n+1)))\n",
    "#Vamos olhar o novo espaço amostral\n",
    "print(\"Ω: {0}\\n\".format(sorted(Ω)))\n",
    "\n",
    "#Tamanho: n²\n",
    "print(\"len(Ω) = n² = {0}\".format(len(Ω)))\n",
    "\n",
    "#Redefinindo a função que calcula e retorna a probabilidade.\n",
    "def P(evento, espaco=Ω):\n",
    "    return (len(evento)*100/len(espaco), \n",
    "            \"{0}/{1} ou {2:.2f}%\".format(len(evento & espaco), len(espaco),len(evento)*100/len(espaco))\n",
    "           )"
   ]
  },
  {
   "cell_type": "code",
   "execution_count": 21,
   "metadata": {
    "collapsed": false
   },
   "outputs": [
    {
     "name": "stdout",
     "output_type": "stream",
     "text": [
      "A: A soma dos elementos ser par: [(1, 1), (1, 3), (1, 5), (2, 2), (2, 4), (2, 6), (3, 1), (3, 3), (3, 5), (4, 2), (4, 4), (4, 6), (5, 1), (5, 3), (5, 5), (6, 2), (6, 4), (6, 6)]\n",
      "P(A) = 18/36 ou 50.00%\n",
      "\n"
     ]
    }
   ],
   "source": [
    "#Probabilidade da soma das jogadas ser par:\n",
    "\n",
    "#Função que retorna True se for par\n",
    "def CheckEven(e):\n",
    "    return (e[0] + e[1]) % 2 == 0\n",
    "\n",
    "#A soma dos elementos ser par\n",
    "A = set(list(filter(CheckEven, Ω)))\n",
    "\n",
    "print(\"A: A soma dos elementos ser par: {0}\".format(sorted(A)))\n",
    "PA = P(A)\n",
    "print(\"P(A) = {0}\\n\".format(PA[1]))\n"
   ]
  },
  {
   "cell_type": "code",
   "execution_count": 22,
   "metadata": {
    "collapsed": false
   },
   "outputs": [
    {
     "name": "stdout",
     "output_type": "stream",
     "text": [
      "B: A soma dos elementos ser ≤ 6: [(1, 1), (1, 2), (1, 3), (1, 4), (1, 5), (2, 1), (2, 2), (2, 3), (2, 4), (3, 1), (3, 2), (3, 3), (4, 1), (4, 2), (5, 1)]\n",
      "P(B) = 15/36 ou 41.67%\n",
      "\n"
     ]
    }
   ],
   "source": [
    "#Probabilidade da soma das jogadas ser ≤ 6:\n",
    "\n",
    "#Função que retorna True se for <= 6\n",
    "def CheckLET6(e):\n",
    "    return (e[0] + e[1]) <= 6\n",
    "\n",
    "#A soma dos elementos ser ≤ 6\n",
    "B = set(list(filter(CheckLET6, Ω)))\n",
    "\n",
    "print(\"B: A soma dos elementos ser ≤ 6: {0}\".format(sorted(B)))\n",
    "PB = P(B)\n",
    "print(\"P(B) = {0}\\n\".format(PB[1]))"
   ]
  },
  {
   "cell_type": "code",
   "execution_count": 23,
   "metadata": {
    "collapsed": false
   },
   "outputs": [
    {
     "name": "stdout",
     "output_type": "stream",
     "text": [
      "C: A soma dos elementos ser par OU ≤ 6: [(1, 1), (1, 2), (1, 3), (1, 4), (1, 5), (2, 1), (2, 2), (2, 3), (2, 4), (2, 6), (3, 1), (3, 2), (3, 3), (3, 5), (4, 1), (4, 2), (4, 4), (4, 6), (5, 1), (5, 3), (5, 5), (6, 2), (6, 4), (6, 6)]\n",
      "P(C) = P(A ∪ B) = 24/36 ou 66.67%\n",
      "\n"
     ]
    }
   ],
   "source": [
    "#UNIÃO: Soma ser par OU menor igual a 6\n",
    "C = A | B\n",
    "\n",
    "print(\"C: A soma dos elementos ser par OU ≤ 6: {0}\".format(sorted(C)))\n",
    "PC = P(C)\n",
    "print(\"P(C) = P(A ∪ B) = {0}\\n\".format(PC[1]))\n"
   ]
  },
  {
   "cell_type": "code",
   "execution_count": 24,
   "metadata": {
    "collapsed": false
   },
   "outputs": [
    {
     "name": "stdout",
     "output_type": "stream",
     "text": [
      "D: A soma dos elementos ser par AND ≤ 6: [(1, 1), (1, 3), (1, 5), (2, 2), (2, 4), (3, 1), (3, 3), (4, 2), (5, 1)]\n",
      "P(D) = P(A ∩ B) = 9/36 ou 25.00%\n",
      "\n"
     ]
    }
   ],
   "source": [
    "#INTERSECÇÃO: Soma ser par E menor igual a 6\n",
    "D = A & B\n",
    "\n",
    "print(\"D: A soma dos elementos ser par AND ≤ 6: {0}\".format(sorted(D)))\n",
    "PD = P(D)\n",
    "print(\"P(D) = P(A ∩ B) = {0}\\n\".format(PD[1]))\n"
   ]
  },
  {
   "cell_type": "code",
   "execution_count": 25,
   "metadata": {
    "collapsed": false
   },
   "outputs": [
    {
     "name": "stdout",
     "output_type": "stream",
     "text": [
      "Verificando que P(A ∪ B) = P(A) + P(B) - P(A ∩ B):\n",
      "P(A ∪ B) = 66.67%\n"
     ]
    },
    {
     "data": {
      "image/png": "[encoded data removed]",
      "text/plain": [
       "<matplotlib.figure.Figure at 0x13edc17cef0>"
      ]
     },
     "metadata": {},
     "output_type": "display_data"
    }
   ],
   "source": [
    "#Verificar que P(A ∪ B) = P(A) + P(B) - P(A ∩ B)\n",
    "\n",
    "print(\"Verificando que P(A ∪ B) = P(A) + P(B) - P(A ∩ B):\")\n",
    "print(\"P(A ∪ B) = {0:.2f}%\".format(PA[0]+PB[0]-PD[0]))\n",
    "\n",
    "#Verificar se faz sentindo com o diagrama abaixo\n",
    "fig = plt.figure(figsize=(8,8))\n",
    "v = venn2(subsets=(2,2,1), set_labels = ('', '',''))\n",
    "v.get_label_by_id('10').set_text('A')\n",
    "v.get_label_by_id('01').set_text('B')\n",
    "v.get_label_by_id('11').set_text('')\n",
    "c = venn2_circles(subsets=(2, 2, 1))\n",
    "fig.patch.set_facecolor((0.75, 0.75, 0.75))"
   ]
  },
  {
   "cell_type": "code",
   "execution_count": 26,
   "metadata": {
    "collapsed": false
   },
   "outputs": [
    {
     "name": "stdout",
     "output_type": "stream",
     "text": [
      "Regra de De Morgan: Verificando que P((A ∩ B)ᶜ) = P(Aᶜ ∪ Bᶜ):\n",
      "\n",
      "Lado esquerdo:\n",
      "P((A ∩ B)ᶜ)  = P(Dᶜ) = P(Ω - D) = 75.00%\n",
      "\n",
      "Lado direito: usando a propriedade da união de eventos\n",
      "P(Aᶜ ∪ Bᶜ)  = P(Aᶜ) + P(Bᶜ) - P(Aᶜ ∩ Bᶜ) = P(Ω - A) + P(Ω - B) - P(Aᶜ ∩ Bᶜ)\n",
      "P(Aᶜ ∪ Bᶜ)  = 75.00%\n",
      "\n"
     ]
    }
   ],
   "source": [
    "#Regra de De Morgan\n",
    "\n",
    "#P((A ∩ B)ᶜ) = P(Aᶜ ∪ Bᶜ)\n",
    "#P((A ∪ B)ᶜ) = P(Aᶜ ∩ Bᶜ)\n",
    "\n",
    "print(\"Regra de De Morgan: Verificando que P((A ∩ B)ᶜ) = P(Aᶜ ∪ Bᶜ):\\n\")\n",
    "\n",
    "print(\"Lado esquerdo:\")\n",
    "print(\"P((A ∩ B)ᶜ)  = P(Dᶜ) = P(Ω - D) = {0:.2f}%\\n\".format(P(Ω - D)[0]))\n",
    "\n",
    "print(\"Lado direito: usando a propriedade da união de eventos\")\n",
    "print(\"P(Aᶜ ∪ Bᶜ)  = P(Aᶜ) + P(Bᶜ) - P(Aᶜ ∩ Bᶜ) = P(Ω - A) + P(Ω - B) - P(Aᶜ ∩ Bᶜ)\")\n",
    "\n",
    "#Montando Aᶜ ∩ Bᶜ \n",
    "E = (Ω - A) & (Ω - B)\n",
    "\n",
    "#Calculando Aᶜ ∪ Bᶜ\n",
    "res = P(Ω - A)[0] + P(Ω - B)[0] - P(E)[0]\n",
    "\n",
    "print(\"P(Aᶜ ∪ Bᶜ)  = {0:.2f}%\\n\".format(res))\n"
   ]
  },
  {
   "cell_type": "code",
   "execution_count": 27,
   "metadata": {
    "collapsed": false
   },
   "outputs": [
    {
     "name": "stdout",
     "output_type": "stream",
     "text": [
      "B: Jogadas cujo o primeiro elemento = 4: [(4, 1), (4, 2), (4, 3), (4, 4), (4, 5), (4, 6)]\n",
      "A ∩ B: Jogadas cuja soma dos elementos é ≤ 6 e o primeiro elemento = 4: [(4, 1), (4, 2)]\n",
      "\n",
      "P(A|B) = P(A ∩ B)/P(B) = 33.33%\n",
      "\n"
     ]
    },
    {
     "data": {
      "image/png": "[encoded data removed]",
      "text/plain": [
       "<matplotlib.figure.Figure at 0x13edc1c5dd8>"
      ]
     },
     "metadata": {},
     "output_type": "display_data"
    }
   ],
   "source": [
    "#Probabilidade Condicional P(A|B) - Probabilidade de A dado B\n",
    "#Qual a probabilidade de A ocorrer dado que B ocorreu?\n",
    "\n",
    "#Qual a probabilidade da soma de duas jogadas ser ≤ 6 dado que já saiu um 4?\n",
    "\n",
    "#Definição: P(A|B) = P(A ∩ B)/P(B), se P(B) > 0\n",
    "\n",
    "#Todos os eventos em que a soma é ≤ 6\n",
    "A = set(list(filter(CheckLET6, Ω)))\n",
    "\n",
    "#Função que retorna True se o primeiro for 4\n",
    "def CheckET4(e):\n",
    "    return e[0] == 4\n",
    "\n",
    "B = set(list(filter(CheckET4, Ω)))\n",
    "print(\"B: Jogadas cujo o primeiro elemento = 4: {0}\".format(sorted(B)))\n",
    "\n",
    "C = set(list(filter(CheckET4, A)))\n",
    "print(\"A ∩ B: Jogadas cuja soma dos elementos é ≤ 6 e o primeiro elemento = 4: {0}\\n\".format(sorted(C)))\n",
    "\n",
    "print(\"P(A|B) = P(A ∩ B)/P(B) = {0:.2f}%\\n\".format(P(C)[0]*100/P(B)[0]))\n",
    "\n",
    "#Verificar se faz sentindo com o diagrama abaixo\n",
    "fig = plt.figure(figsize=(8,8))\n",
    "v = venn2(subsets=(2,2,1), set_labels = ('', '',''))\n",
    "v.get_label_by_id('10').set_text('A')\n",
    "v.get_patch_by_id('10').set_color((0.75, 0.75, 0.75))\n",
    "v.get_label_by_id('01').set_text('B')\n",
    "v.get_label_by_id('11').set_text('')\n",
    "c = venn2_circles(subsets=(2, 2, 1))\n",
    "\n",
    "fig.patch.set_facecolor((0.75, 0.75, 0.75))"
   ]
  },
  {
   "cell_type": "code",
   "execution_count": 28,
   "metadata": {
    "collapsed": false
   },
   "outputs": [
    {
     "name": "stdout",
     "output_type": "stream",
     "text": [
      "A: Jogadas cujo o último elemento > 3: [(1, 4), (1, 5), (1, 6), (2, 4), (2, 5), (2, 6), (3, 4), (3, 5), (3, 6), (4, 4), (4, 5), (4, 6), (5, 4), (5, 5), (5, 6), (6, 4), (6, 5), (6, 6)]\n",
      "\n",
      "P(A) = 50.00%\n",
      "\n",
      "B: Jogadas cujo o primeiro elemento = 4: [(4, 1), (4, 2), (4, 3), (4, 4), (4, 5), (4, 6)]\n",
      "A ∩ B: Jogadas cujo último elemento > 3 e o primeiro elemento = 4: [(4, 4), (4, 5), (4, 6)]\n",
      "\n",
      "P(A|B) = P(A ∩ B)/P(B) = 50.00% = P(A)\n",
      "\n"
     ]
    }
   ],
   "source": [
    "#Independência de Variáveis\n",
    "\n",
    "#Se A e B são independentes:\n",
    "#P(A|B) = P(A)\n",
    "#Ou seja, B não contribui com nenhuma informação acerca da probabilidade de ocorrer A\n",
    "\n",
    "#Consequência:\n",
    "#P(A ∩ B) = P(A)P(B)\n",
    "\n",
    "#Achtung: Não confundir com conjuntos disjuntos!\n",
    "\n",
    "#Exemplo: Qual a probabilidade de sair número um número maior que 3 dado que já saiu um número 4?\n",
    "\n",
    "#Função que retorna True se o último for > 3\n",
    "def CheckGT3(e):\n",
    "    return e[1] > 3\n",
    "\n",
    "A = set(list(filter(CheckGT3, Ω)))\n",
    "print(\"A: Jogadas cujo o último elemento > 3: {0}\\n\".format(sorted(A)))\n",
    "print(\"P(A) = {0:.2f}%\\n\".format(P(A)[0]))\n",
    "\n",
    "B = set(list(filter(CheckET4, Ω)))\n",
    "print(\"B: Jogadas cujo o primeiro elemento = 4: {0}\".format(sorted(B)))\n",
    "\n",
    "C = set(list(filter(CheckET4, A)))\n",
    "print(\"A ∩ B: Jogadas cujo último elemento > 3 e o primeiro elemento = 4: {0}\\n\".format(sorted(C)))\n",
    "\n",
    "print(\"P(A|B) = P(A ∩ B)/P(B) = {0:.2f}% = P(A)\\n\".format(P(C)[0]*100/P(B)[0]))"
   ]
  },
  {
   "cell_type": "code",
   "execution_count": null,
   "metadata": {
    "collapsed": true
   },
   "outputs": [],
   "source": []
  }
 ],
 "metadata": {
  "kernelspec": {
   "display_name": "Python 3",
   "language": "python",
   "name": "python3"
  },
  "language_info": {
   "codemirror_mode": {
    "name": "ipython",
    "version": 3
   },
   "file_extension": ".py",
   "mimetype": "text/x-python",
   "name": "python",
   "nbconvert_exporter": "python",
   "pygments_lexer": "ipython3",
   "version": "3.5.2"
  }
 },
 "nbformat": 4,
 "nbformat_minor": 0
}
