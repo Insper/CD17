{
 "cells": [
  {
   "cell_type": "code",
   "execution_count": 122,
   "metadata": {
    "collapsed": true
   },
   "outputs": [],
   "source": [
    "import pandas as pd\n",
    "import json\n",
    "import itertools"
   ]
  },
  {
   "cell_type": "markdown",
   "metadata": {},
   "source": [
    "### Leitura do arquivo"
   ]
  },
  {
   "cell_type": "code",
   "execution_count": 123,
   "metadata": {
    "collapsed": false
   },
   "outputs": [],
   "source": [
    "arquivo = open(\"teste-ab-export.json\")\n",
    "linhas = arquivo.readlines()\n",
    "texto = \"\".join(linhas)\n",
    "dados_fire = json.loads(texto)"
   ]
  },
  {
   "cell_type": "markdown",
   "metadata": {},
   "source": [
    "### Análise do atributo logs"
   ]
  },
  {
   "cell_type": "code",
   "execution_count": 124,
   "metadata": {
    "collapsed": false
   },
   "outputs": [
    {
     "data": {
      "text/plain": [
       "{'-KVAMnCdHvHCv7KjPMNB': {'tempo': 1477659538279,\n",
       "  'tipo': 'inicio',\n",
       "  'user_id': 947912844,\n",
       "  'versao': 'A'},\n",
       " '-KVAMvBHr_MJAn_oUJhv': {'tempo': 1477659571047,\n",
       "  'tipo': 'final',\n",
       "  'user_id': 947912844,\n",
       "  'versao': 'A'},\n",
       " '-KVANG40oYBdzvFqO2Lh': {'tempo': 1477659660710,\n",
       "  'tipo': 'inicio',\n",
       "  'user_id': 947912844,\n",
       "  'versao': 'B'},\n",
       " '-KVANK63iT-_vtI2NO0f': {'tempo': 1477659677226,\n",
       "  'tipo': 'final',\n",
       "  'user_id': 947912844,\n",
       "  'versao': 'B'}}"
      ]
     },
     "execution_count": 124,
     "metadata": {},
     "output_type": "execute_result"
    }
   ],
   "source": [
    "dados_fire[\"logs\"]"
   ]
  },
  {
   "cell_type": "markdown",
   "metadata": {},
   "source": [
    "### Veja que log está pesadamente aninhado"
   ]
  },
  {
   "cell_type": "code",
   "execution_count": 125,
   "metadata": {
    "collapsed": false
   },
   "outputs": [
    {
     "name": "stdout",
     "output_type": "stream",
     "text": [
      "-KVANK63iT-_vtI2NO0f {'versao': 'B', 'tipo': 'final', 'tempo': 1477659677226, 'user_id': 947912844}\n",
      "versao B\n",
      "tipo final\n",
      "tempo 1477659677226\n",
      "user_id 947912844\n",
      "-KVAMvBHr_MJAn_oUJhv {'versao': 'A', 'tipo': 'final', 'tempo': 1477659571047, 'user_id': 947912844}\n",
      "versao A\n",
      "tipo final\n",
      "tempo 1477659571047\n",
      "user_id 947912844\n",
      "-KVAMnCdHvHCv7KjPMNB {'versao': 'A', 'tipo': 'inicio', 'tempo': 1477659538279, 'user_id': 947912844}\n",
      "versao A\n",
      "tipo inicio\n",
      "tempo 1477659538279\n",
      "user_id 947912844\n",
      "-KVANG40oYBdzvFqO2Lh {'versao': 'B', 'tipo': 'inicio', 'tempo': 1477659660710, 'user_id': 947912844}\n",
      "versao B\n",
      "tipo inicio\n",
      "tempo 1477659660710\n",
      "user_id 947912844\n"
     ]
    }
   ],
   "source": [
    "for k,v in dados_fire[\"logs\"].items():\n",
    "    print(k,v)\n",
    "    for chave, valor in v.items():\n",
    "        print(chave, valor)\n",
    "\n"
   ]
  },
  {
   "cell_type": "markdown",
   "metadata": {},
   "source": [
    "### Convertendo para um dataframe"
   ]
  },
  {
   "cell_type": "code",
   "execution_count": 126,
   "metadata": {
    "collapsed": false
   },
   "outputs": [],
   "source": [
    "lista_dicionarios = []\n",
    "\n",
    "for k,v in dados_fire[\"logs\"].items():\n",
    "    lista_dicionarios.append(v)\n",
    "\n",
    "        \n"
   ]
  },
  {
   "cell_type": "code",
   "execution_count": 127,
   "metadata": {
    "collapsed": false
   },
   "outputs": [],
   "source": [
    "dataframe = pd.DataFrame.from_records(lista_dicionarios)"
   ]
  },
  {
   "cell_type": "code",
   "execution_count": 128,
   "metadata": {
    "collapsed": false,
    "scrolled": true
   },
   "outputs": [
    {
     "data": {
      "text/html": [
       "<div>\n",
       "<table border=\"1\" class=\"dataframe\">\n",
       "  <thead>\n",
       "    <tr style=\"text-align: right;\">\n",
       "      <th></th>\n",
       "      <th>tempo</th>\n",
       "      <th>tipo</th>\n",
       "      <th>user_id</th>\n",
       "      <th>versao</th>\n",
       "    </tr>\n",
       "  </thead>\n",
       "  <tbody>\n",
       "    <tr>\n",
       "      <th>0</th>\n",
       "      <td>1477659677226</td>\n",
       "      <td>final</td>\n",
       "      <td>947912844</td>\n",
       "      <td>B</td>\n",
       "    </tr>\n",
       "    <tr>\n",
       "      <th>1</th>\n",
       "      <td>1477659571047</td>\n",
       "      <td>final</td>\n",
       "      <td>947912844</td>\n",
       "      <td>A</td>\n",
       "    </tr>\n",
       "    <tr>\n",
       "      <th>2</th>\n",
       "      <td>1477659538279</td>\n",
       "      <td>inicio</td>\n",
       "      <td>947912844</td>\n",
       "      <td>A</td>\n",
       "    </tr>\n",
       "    <tr>\n",
       "      <th>3</th>\n",
       "      <td>1477659660710</td>\n",
       "      <td>inicio</td>\n",
       "      <td>947912844</td>\n",
       "      <td>B</td>\n",
       "    </tr>\n",
       "  </tbody>\n",
       "</table>\n",
       "</div>"
      ],
      "text/plain": [
       "           tempo    tipo    user_id versao\n",
       "0  1477659677226   final  947912844      B\n",
       "1  1477659571047   final  947912844      A\n",
       "2  1477659538279  inicio  947912844      A\n",
       "3  1477659660710  inicio  947912844      B"
      ]
     },
     "execution_count": 128,
     "metadata": {},
     "output_type": "execute_result"
    }
   ],
   "source": [
    "dataframe"
   ]
  },
  {
   "cell_type": "markdown",
   "metadata": {},
   "source": [
    "### Convertendo para um DataFrame de delta_t"
   ]
  },
  {
   "cell_type": "code",
   "execution_count": 129,
   "metadata": {
    "collapsed": true
   },
   "outputs": [],
   "source": [
    "agrupado = dataframe.groupby(by=[\"user_id\", \"versao\"])"
   ]
  },
  {
   "cell_type": "code",
   "execution_count": 130,
   "metadata": {
    "collapsed": false
   },
   "outputs": [],
   "source": [
    "users = set(dataframe.user_id)"
   ]
  },
  {
   "cell_type": "code",
   "execution_count": 131,
   "metadata": {
    "collapsed": false
   },
   "outputs": [],
   "source": [
    "users = list(users)"
   ]
  },
  {
   "cell_type": "code",
   "execution_count": 132,
   "metadata": {
    "collapsed": false
   },
   "outputs": [],
   "source": [
    "resultados = []\n",
    "\n",
    "for u in users:\n",
    "    for tipo in [\"A\", \"B\"]:\n",
    "        grupo1 =  agrupado.get_group((u, tipo))\n",
    "        delta_t = grupo1[grupo1.tipo==\"final\"].iloc[-1].tempo - grupo1[grupo1.tipo==\"inicio\"].iloc[0].tempo\n",
    "        resultados.append({\"user_id\":u, \"delta_t\":delta_t, \"tipo\":tipo})"
   ]
  },
  {
   "cell_type": "code",
   "execution_count": 133,
   "metadata": {
    "collapsed": true
   },
   "outputs": [],
   "source": [
    "dataframe_resumo = pd.DataFrame.from_records(resultados)"
   ]
  },
  {
   "cell_type": "code",
   "execution_count": 134,
   "metadata": {
    "collapsed": false
   },
   "outputs": [
    {
     "data": {
      "text/html": [
       "<div>\n",
       "<table border=\"1\" class=\"dataframe\">\n",
       "  <thead>\n",
       "    <tr style=\"text-align: right;\">\n",
       "      <th></th>\n",
       "      <th>delta_t</th>\n",
       "      <th>tipo</th>\n",
       "      <th>user_id</th>\n",
       "    </tr>\n",
       "  </thead>\n",
       "  <tbody>\n",
       "    <tr>\n",
       "      <th>0</th>\n",
       "      <td>32768</td>\n",
       "      <td>A</td>\n",
       "      <td>947912844</td>\n",
       "    </tr>\n",
       "    <tr>\n",
       "      <th>1</th>\n",
       "      <td>16516</td>\n",
       "      <td>B</td>\n",
       "      <td>947912844</td>\n",
       "    </tr>\n",
       "  </tbody>\n",
       "</table>\n",
       "</div>"
      ],
      "text/plain": [
       "   delta_t tipo    user_id\n",
       "0    32768    A  947912844\n",
       "1    16516    B  947912844"
      ]
     },
     "execution_count": 134,
     "metadata": {},
     "output_type": "execute_result"
    }
   ],
   "source": [
    "dataframe_resumo"
   ]
  },
  {
   "cell_type": "code",
   "execution_count": null,
   "metadata": {
    "collapsed": true
   },
   "outputs": [],
   "source": []
  }
 ],
 "metadata": {
  "kernelspec": {
   "display_name": "Python 3",
   "language": "python",
   "name": "python3"
  },
  "language_info": {
   "codemirror_mode": {
    "name": "ipython",
    "version": 3
   },
   "file_extension": ".py",
   "mimetype": "text/x-python",
   "name": "python",
   "nbconvert_exporter": "python",
   "pygments_lexer": "ipython3",
   "version": "3.4.5"
  }
 },
 "nbformat": 4,
 "nbformat_minor": 0
}
