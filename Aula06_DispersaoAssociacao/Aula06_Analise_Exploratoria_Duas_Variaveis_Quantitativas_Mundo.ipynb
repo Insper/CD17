{
 "cells": [
  {
   "cell_type": "markdown",
   "metadata": {},
   "source": [
    "___\n",
    "# Análise Exploratória: Duas variáveis quantitativas\n",
    "___\n",
    "\n",
    "## Aula 06\n",
    "\n",
    "\n",
    "**Preparo Prévio:**\n",
    "1. Leitura prévia necessária: Montgomery et al (5ª. Edição): Seção 2.6 (pág. 46) e Exemplo 6.1 (pág. 306).\n",
    "\n",
    "**Hoje:**\n",
    "1. Analisar, graficamente, a associação entre duas variáveis quantitativas.\n",
    "2. Compreender a medida nomeada coeficiente de covariância, no que tange ao significado da fórmula e uso do valor resultante para descrever associação entre variáveis.\n",
    "3. Avaliar vantagens e desvantagens do coeficiente de covariância e buscar alternativa que compense seu mau uso (coeficiente de correlação).\n",
    "4. Interpretar, descritivamente, valores dos coeficientes linear e angular para qualquer problema prático.\n",
    "5. Fechamento do conteúdo.\n",
    "\n",
    "**Próxima aula:**\n",
    "1. Estudo para PROJETO 1!"
   ]
  },
  {
   "cell_type": "markdown",
   "metadata": {},
   "source": [
    "___\n",
    "## <font color='blue'>Mundo</font>\n",
    "\n",
    "A análise bidimensional tem como objetivo encontrar associação ou relação entre as variáveis quantitativas. Essas relações podem ser identificadas através de gráficos ou medidas numéricas. Entende-se por associação a mudança de opinião sobre o comportamento de uma variável na presença de informação sobre a segunda variável.\n",
    "\n",
    "Inicialmente, a base de dados `Mundo.txt` será explorada com intuito de entender a associação entre algumas de suas variáveis quantitativas. Esse conjunto de dados contém alguns indicadores socioeconômicos referentes ao ano de 2008 para 85 países, os quais são:  \n",
    "X1: população em milhares de habitantes  \n",
    "X2: densidade populacional  \n",
    "X3: % de população urbana  \n",
    "X4: expectativa de vida feminina  \n",
    "X5: expectativa de vida masculina  \n",
    "X6: crescimento populacional  \n",
    "X7: mortalidade infantil  \n",
    "X8: PIB per capita  \n",
    "X9: % de mulheres alfabetizadas  \n",
    "X10: população em 100.000 habitantes  \n",
    "\n",
    "Responda:\n",
    "\n",
    "1. Um gráfico de dispersão pode ser utilizado para compreender a relação entre duas variáveis quantitativas. Não necessariamente essa relação implica em causalidade (https://economiadependrive.wordpress.com/2014/09/25/correlacao-nao-implica-em-causalidade/)  e, em alguns casos, pode se tratar de uma relação espúria (http://www.tylervigen.com/spurious-correlations). Construa um gráfico de dispersão entre as variáveis X3 (eixo das abscissas) e X4 (eixo das ordenadas), em que cada ponto ⧫ representa um país da base de dados de acordo com o par de coordenadas nessas duas variáveis quantitativas. Repita considerando as variáveis  X3 e X5, as variáveis X3 e X6  e as variáveis X3 e X7. Para cada um dos quatro gráficos, descreva a relação entre as variáveis.\n",
    "\n",
    "2. O gráfico de dispersão é uma ferramenta descritiva simples, porém útil para examinar uma possível relação entre variáveis quantitativas. A literatura estatística apresenta uma medida, nomeada de covariância, cujo sinal pode ser um indicativo do tipo de associação linear: positiva, se maior que zero; negativa, se menor que zero; e ausente de associação linear, se igual a zero. Calcule a covariância para cada par de variáveis utilizadas nos gráficos acima. Contraste as interpretações gráficas e os resultados das covariâncias. É possível perceber que essa medida é capaz de traduzir o sinal da associação entre as variáveis quantitativas? Por quê? Justifique a sua resposta. Observação: faça uma explicação dizendo também porque a covariância é capaz de mensurar corretamente uma possível associação linear.\n",
    "___"
   ]
  },
  {
   "cell_type": "code",
   "execution_count": null,
   "metadata": {},
   "outputs": [],
   "source": [
    "%matplotlib inline\n",
    "\n",
    "import os\n",
    "import pandas as pd\n",
    "import numpy as np\n",
    "import matplotlib.pyplot as plt\n",
    "\n",
    "print('Esperamos trabalhar no diretório')\n",
    "print(os.getcwd())"
   ]
  },
  {
   "cell_type": "code",
   "execution_count": null,
   "metadata": {},
   "outputs": [],
   "source": [
    "Mundo = pd.read_excel('Mundo.xlsx')\n",
    "Mundo.head()"
   ]
  },
  {
   "cell_type": "markdown",
   "metadata": {},
   "source": [
    "___\n",
    "*Responda:*\n",
    "\n",
    "1) Um gráfico de dispersão pode ser utilizado para compreender a relação (ou seja, associação) entre duas variáveis quantitativas. Observando os quatro gráficos de dispersão a seguir feitos com algumas das variáveis do conjunto de dados, como você descreveria a relação entre elas?"
   ]
  },
  {
   "cell_type": "code",
   "execution_count": null,
   "metadata": {},
   "outputs": [],
   "source": [
    "fig = plt.figure(figsize=(10, 10))\n",
    "plt.subplot(221)\n",
    "plt.scatter(Mundo.X3, Mundo.X4, c='red', alpha=0.8)\n",
    "plt.title('X3 versus X4')\n",
    "plt.xlabel('% de população urbana')\n",
    "plt.ylabel('Expectativa de vida Feminina')\n",
    "\n",
    "plt.subplot(222)\n",
    "plt.scatter(Mundo.X3, Mundo.X5, c='red', alpha=0.8)\n",
    "plt.title('X3 versus X5')\n",
    "plt.xlabel('% de população urbana')\n",
    "plt.ylabel('Expectativa de vida Masculina')\n",
    "\n",
    "plt.subplot(223)\n",
    "plt.scatter(Mundo.X3, Mundo.X6, c='red', alpha=0.8)\n",
    "plt.title('X3 versus X6')\n",
    "plt.xlabel('% de população urbana')\n",
    "plt.ylabel('Crescimento populacional')\n",
    "\n",
    "plt.subplot(224)\n",
    "plt.scatter(Mundo.X3, Mundo.X7, c='red', alpha=0.8)\n",
    "plt.title('X3 versus X7')\n",
    "plt.xlabel('% de população urbana')\n",
    "plt.ylabel('Mortalidade infantil')\n",
    "\n",
    "plt.tight_layout()\n",
    "plt.show()"
   ]
  },
  {
   "cell_type": "markdown",
   "metadata": {},
   "source": [
    "___\n",
    "*Responda:*\n",
    "\n",
    "2) Medida de covariância: $$\\mathrm{Cov}(X, Y) = \\frac{1}{n} \\sum^n_{i=1}(x_i - \\overline{x})(y_i - \\overline{y}) \\quad\\quad\\quad\\quad (1)$$\n",
    "\n",
    "Calcule a covariância para cada par de variáveis utilizadas nos gráficos acima. Contraste as interpretações gráficas e os resultados das covariâncias. É possível perceber que essa medida é capaz de traduzir o sinal da associação entre as variáveis quantitativas? Por quê? Justifique a sua resposta. Observação: faça uma explicação dizendo também porque a covariância é capaz de mensurar corretamente uma possível associação linear."
   ]
  },
  {
   "cell_type": "code",
   "execution_count": null,
   "metadata": {},
   "outputs": [],
   "source": [
    "print(\"Covariância entre X3 e X4:\",np.cov(Mundo.X3,Mundo.X4)[0,1])  #Ou este comando Mundo.X3.cov(Mundo.X4)\n",
    "print(\"Covariância entre X3 e X5:\",np.cov(Mundo.X3,Mundo.X5)[0,1])\n",
    "print(\"Covariância entre X3 e X6:\",np.cov(Mundo.X3,Mundo.X6)[0,1])\n",
    "print(\"Covariância entre X3 e X7:\",np.cov(Mundo.X3,Mundo.X7)[0,1])\n"
   ]
  },
  {
   "cell_type": "code",
   "execution_count": null,
   "metadata": {},
   "outputs": [],
   "source": [
    "print(\"Correlação entre X3 e X4:\",np.corrcoef(Mundo.X3,Mundo.X4)[0,1])  #Ou este comando Mundo.X3.corr(Mundo.X4)\n",
    "print(\"Correlação entre X3 e X5:\",np.corrcoef(Mundo.X3,Mundo.X5)[0,1])\n",
    "print(\"Correlação entre X3 e X6:\",np.corrcoef(Mundo.X3,Mundo.X6)[0,1])\n",
    "print(\"Correlação entre X3 e X7:\",np.corrcoef(Mundo.X3,Mundo.X7)[0,1])"
   ]
  },
  {
   "cell_type": "markdown",
   "metadata": {
    "collapsed": true
   },
   "source": [
    "\n",
    "\n",
    "\n",
    "\n",
    "\n",
    "\n",
    "\n",
    "\n",
    "\n",
    "\n",
    "\n",
    "\n",
    "\n",
    "\n"
   ]
  },
  {
   "cell_type": "markdown",
   "metadata": {},
   "source": [
    "___\n",
    "\n",
    "3) Ajuste de reta apenas para interpretação dos coeficientes:\n",
    "\n",
    "A solução pode ser pelo ajuste de uma reta:\n",
    "\n",
    "<img src=\"regressao.png\">\n",
    "\n",
    "E, no caso, uma reta depende de um coeficiente linear (*a*) e de um coeficiente angular (*b*) e pode ser matematicamente expressa por:\n",
    "\n",
    "$$\\hat{y} = a + bx$$\n",
    "\n",
    "Ainda sem entrar em detalhes, esses coeficientes devem ser obtidos a partir dos dados utilizando algumas medidas-resumo pelas seguintes expressões:\n",
    "\n",
    "$$b = \\frac{\\mathrm{Cov}(X, Y)}{\\mathrm{Var}(X)}$$\n",
    "\n",
    "$$a = \\overline{y} - b\\overline{x}$$\n"
   ]
  },
  {
   "cell_type": "markdown",
   "metadata": {},
   "source": [
    "*Responda:*\n",
    "\n",
    "3.1) Calcule esses coeficientes linear e angular e interprete-os para o problema em questão."
   ]
  },
  {
   "cell_type": "code",
   "execution_count": null,
   "metadata": {},
   "outputs": [],
   "source": [
    "# Regressão entre X3 e X4 com ajuste linear\n",
    "\n",
    "a = Mundo.X3.cov(Mundo.X4) / Mundo.X3.var()\n",
    "b = Mundo.X4.mean() - a*Mundo.X3.mean()\n",
    "\n",
    "print('Ajuste linear entre X3 e X4:')\n",
    "print('Coeficiente linear:', b)\n",
    "print('Coeficiente angular:', a)\n",
    "\n",
    "fig = plt.figure(figsize=(8, 6))\n",
    "plt.scatter(Mundo.X3, Mundo.X4, c='red', alpha=0.8)\n",
    "plt.title('X3 versus X4')\n",
    "plt.xlabel('% de população urbana')\n",
    "plt.ylabel('Expectativa de vida Feminina')\n",
    "\n",
    "plt.plot((Mundo.X3.min(), Mundo.X3.max()), (a*Mundo.X3.min()+b, a*Mundo.X3.max()+b), color='blue')\n",
    "\n",
    "plt.tight_layout()\n",
    "plt.show()"
   ]
  },
  {
   "cell_type": "markdown",
   "metadata": {},
   "source": [
    "*Responda:*\n",
    "\n",
    "3.2) Considerando essa reta ajustada, qual deve ser a expectativa de vida feminina em um país com 73% da população vivendo na região urbana?"
   ]
  },
  {
   "cell_type": "code",
   "execution_count": null,
   "metadata": {},
   "outputs": [],
   "source": [
    "print('Valor estimado para Expectativa de vida Feminina quando %população urbana igual a 73 é igual a', np.round(a*73+b,2), 'anos')"
   ]
  },
  {
   "cell_type": "code",
   "execution_count": null,
   "metadata": {
    "collapsed": true
   },
   "outputs": [],
   "source": []
  },
  {
   "cell_type": "code",
   "execution_count": null,
   "metadata": {
    "collapsed": true
   },
   "outputs": [],
   "source": []
  },
  {
   "cell_type": "code",
   "execution_count": null,
   "metadata": {
    "collapsed": true
   },
   "outputs": [],
   "source": []
  }
 ],
 "metadata": {
  "anaconda-cloud": {},
  "kernelspec": {
   "display_name": "Python 3",
   "language": "python",
   "name": "python3"
  },
  "language_info": {
   "codemirror_mode": {
    "name": "ipython",
    "version": 3
   },
   "file_extension": ".py",
   "mimetype": "text/x-python",
   "name": "python",
   "nbconvert_exporter": "python",
   "pygments_lexer": "ipython3",
   "version": "3.6.1"
  }
 },
 "nbformat": 4,
 "nbformat_minor": 1
}
