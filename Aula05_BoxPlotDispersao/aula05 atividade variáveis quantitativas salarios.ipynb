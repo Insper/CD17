{
 "cells": [
  {
   "cell_type": "markdown",
   "metadata": {},
   "source": [
    "___\n",
    "# Atividade: Análise Exploratória da variável quantitativa -  Salários\n",
    "___\n",
    "\n",
    "## Aula 04\n",
    "\n",
    "\n",
    "**Preparo prévio:**\n",
    "1. Leitura prévia necessária: Magalhães e Lima (7ª. Edição): pág. 18 a 25; pág. 106 e 107 (Definição 4.1 e Exemplo 4.1); pág. 116 e 117 (Definição 4.4 e Exemplo 4.8). \n",
    "2. Leitura prévia necessária: Montgomery et al (5ª. Edição): pág. 24 a 28.\n",
    "\n",
    "**Hoje:**\n",
    "1. Desenvolver medidas que gerem informações para interpretação de variáveis quantitativas.\n",
    "2. Interpretar o comportamento de uma variável quantitativa a partir dos formatos de um histograma e/ou um box-plot.\n",
    "3. Comparar cenários, a partir dos gráficos e medidas calculadas, para tomada de decisão.\n",
    "\n",
    "\n",
    "**Próxima aula:**\n",
    "1. Leitura prévia necessária: Montgomery et al (5ª. Edição) - Seção 2.6: Dados Multivariados.\n",
    "___"
   ]
  },
  {
   "cell_type": "markdown",
   "metadata": {},
   "source": [
    "** Atenção **\n",
    "\n",
    "Este notebook não vai ser entregue/verificado, mas você deve fazê-lo para garantir uma melhor assimilação dos conteúdos."
   ]
  },
  {
   "cell_type": "markdown",
   "metadata": {},
   "source": [
    "## <font color='blue'>Salários de profissionais</font>\n",
    "\n",
    "A base de dados `Salarios.txt` apresenta salários de quatro profissões diferentes, aqui, nomeadas de: A, B, C e D. \n",
    "\n",
    "Considere que esses salários foram mensurados para mil trabalhadores escolhidos aleatoriamente dentro de cada profissão. \n",
    "\n",
    "O arquivo `Salarios.xlsx` contém essas informações.\n",
    "\n",
    "Considerando esses dados, faça as seguintes tarefas:\n",
    "\n",
    "1. Calcule as medidas resumo principais (de posição e de dispersão). \n",
    "\n",
    "2. Calcule os percentis de 10% a 90% dos salários de cada profissão.\n",
    "\n",
    "3. Construa o gráfico de boxplot  para cada profissão e interprete-o.\n",
    "\n",
    "4. Construa um histograma com os salários de cada profissão e interprete-o.\n",
    "\n",
    "5. Descreva a particularidade de cada gráfico para auxiliar na interpretação e compreensão do comportamento dos dados.\n",
    "___"
   ]
  },
  {
   "cell_type": "code",
   "execution_count": null,
   "metadata": {
    "collapsed": false
   },
   "outputs": [],
   "source": [
    "%matplotlib inline\n",
    "import pandas as pd\n",
    "import matplotlib.pyplot as plt\n",
    "import numpy as np\n",
    "import os"
   ]
  },
  {
   "cell_type": "code",
   "execution_count": null,
   "metadata": {
    "collapsed": false
   },
   "outputs": [],
   "source": [
    "print('Esperamos trabalhar no diretório')\n",
    "print(os.getcwd())"
   ]
  },
  {
   "cell_type": "code",
   "execution_count": null,
   "metadata": {
    "collapsed": false
   },
   "outputs": [],
   "source": [
    "Sal = pd.read_table('Salario.txt', sep=' ')"
   ]
  }
 ],
 "metadata": {
  "anaconda-cloud": {},
  "kernelspec": {
   "display_name": "Python 3",
   "language": "python",
   "name": "python3"
  },
  "language_info": {
   "codemirror_mode": {
    "name": "ipython",
    "version": 3
   },
   "file_extension": ".py",
   "mimetype": "text/x-python",
   "name": "python",
   "nbconvert_exporter": "python",
   "pygments_lexer": "ipython3",
   "version": "3.5.2"
  }
 },
 "nbformat": 4,
 "nbformat_minor": 0
}
