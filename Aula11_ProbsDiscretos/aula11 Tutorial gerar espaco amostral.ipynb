{
 "cells": [
  {
   "cell_type": "markdown",
   "metadata": {},
   "source": [
    "___\n",
    "# Tutorial: Exploração de espaço amostral em Python\n",
    "___\n",
    "\n",
    "## Aula 11\n",
    "\n",
    "**Referência de Leitura:**\n",
    "1. Magalhães e Lima (7ª. Edição): pág. 82 a 84 - Modelo Bernoulli e Modelo Binomial\n",
    "___"
   ]
  },
  {
   "cell_type": "markdown",
   "metadata": {},
   "source": [
    "### Espaço Amostral e respectivas probabilidades!\n",
    "\n",
    "Considere que um corretor irá visitar três clientes para venda de um seguro.\n",
    "\n",
    "Em cada visita, definamos os dois possíveis resultados como  $S$: sucesso com relação à venda e $F$: fracasso com relação à venda ($F$ é equivalente ao $S^c$).\n",
    "\n",
    "A probabilidade de uma visita resultar em venda é de 20%. E, ainda, assuma que os clientes adquirem seguro de forma independente um do outro."
   ]
  },
  {
   "cell_type": "code",
   "execution_count": 1,
   "metadata": {
    "collapsed": true
   },
   "outputs": [],
   "source": [
    "import itertools #importante para gerar todos os resultados possíveis!!"
   ]
  },
  {
   "cell_type": "code",
   "execution_count": 2,
   "metadata": {
    "collapsed": true
   },
   "outputs": [],
   "source": [
    "possibilidades = [\"S\", \"F\"]"
   ]
  },
  {
   "cell_type": "markdown",
   "metadata": {},
   "source": [
    "Vamos atribuir a cada resultado possível sua probabilidade usando um dicionário:\n",
    "\n",
    "<font color=red>Importante!</font> A soma dessas probabilidades deve ser igual a 1."
   ]
  },
  {
   "cell_type": "code",
   "execution_count": 3,
   "metadata": {
    "collapsed": true
   },
   "outputs": [],
   "source": [
    "prob = {\"S\": 0.2, \"F\":0.8}"
   ]
  },
  {
   "cell_type": "markdown",
   "metadata": {},
   "source": [
    "Vamos gerar todos os arranjos possíveis de 3 eventos, ou seja, de 3 clientes!"
   ]
  },
  {
   "cell_type": "code",
   "execution_count": 4,
   "metadata": {
    "collapsed": true
   },
   "outputs": [],
   "source": [
    "n=3"
   ]
  },
  {
   "cell_type": "code",
   "execution_count": 5,
   "metadata": {},
   "outputs": [],
   "source": [
    "arranjos = itertools.product(possibilidades, repeat=n)\n",
    "espaco_amostral = list(arranjos)"
   ]
  },
  {
   "cell_type": "markdown",
   "metadata": {},
   "source": [
    "Todos os resultados possíveis (espaço amostral):"
   ]
  },
  {
   "cell_type": "code",
   "execution_count": 6,
   "metadata": {},
   "outputs": [
    {
     "data": {
      "text/plain": [
       "[('S', 'S', 'S'),\n",
       " ('S', 'S', 'F'),\n",
       " ('S', 'F', 'S'),\n",
       " ('S', 'F', 'F'),\n",
       " ('F', 'S', 'S'),\n",
       " ('F', 'S', 'F'),\n",
       " ('F', 'F', 'S'),\n",
       " ('F', 'F', 'F')]"
      ]
     },
     "execution_count": 6,
     "metadata": {},
     "output_type": "execute_result"
    }
   ],
   "source": [
    "espaco_amostral"
   ]
  },
  {
   "cell_type": "markdown",
   "metadata": {},
   "source": [
    "Vamos calcular a probabilidade de cada um dos possíveis resultados!"
   ]
  },
  {
   "cell_type": "code",
   "execution_count": 7,
   "metadata": {
    "scrolled": true
   },
   "outputs": [
    {
     "name": "stdout",
     "output_type": "stream",
     "text": [
      "Probabilidade de  ('S', 'S', 'S')  é igual a  0.00800\n",
      "Probabilidade de  ('S', 'S', 'F')  é igual a  0.03200\n",
      "Probabilidade de  ('S', 'F', 'S')  é igual a  0.03200\n",
      "Probabilidade de  ('S', 'F', 'F')  é igual a  0.12800\n",
      "Probabilidade de  ('F', 'S', 'S')  é igual a  0.03200\n",
      "Probabilidade de  ('F', 'S', 'F')  é igual a  0.12800\n",
      "Probabilidade de  ('F', 'F', 'S')  é igual a  0.12800\n",
      "Probabilidade de  ('F', 'F', 'F')  é igual a  0.51200\n"
     ]
    }
   ],
   "source": [
    "prob_linhas = []\n",
    "\n",
    "for res in espaco_amostral:\n",
    "    p = 1.0\n",
    "    for e in res:\n",
    "        p*=prob[e]\n",
    "    prob_linhas.append(p)\n",
    "    print(\"Probabilidade de \",res,\" é igual a \",\"%3.5f\"%p)"
   ]
  },
  {
   "cell_type": "markdown",
   "metadata": {},
   "source": [
    "Vamos verificar que a soma das probabilidades de todos os eventos do espaço amostral é 1!"
   ]
  },
  {
   "cell_type": "code",
   "execution_count": 8,
   "metadata": {},
   "outputs": [
    {
     "data": {
      "text/plain": [
       "'1.00000'"
      ]
     },
     "execution_count": 8,
     "metadata": {},
     "output_type": "execute_result"
    }
   ],
   "source": [
    "\"%3.5f\"%sum(prob_linhas)"
   ]
  },
  {
   "cell_type": "markdown",
   "metadata": {
    "collapsed": true
   },
   "source": [
    "___\n",
    "## Construindo a distribuição de probabilidades da variável aleatória: \n",
    "\n",
    "### $Y$ - número de seguros vendidos pelo corretor ao final das três visitas\n",
    "\n",
    "Assuma que $Y$ representa o número de seguros vendidos pelo corretor ao final das três visitas.\n",
    "\n",
    "Note que vários resultados diferentes do espaço amostral podem contribuir para a probabilidade de um mesmo valor da variável aleatória $Y$. \n",
    "\n",
    "Por este motivo, é conveniente usar a variável aleatória como chave de um dicionário e as probabilidades como valor armazenado."
   ]
  },
  {
   "cell_type": "code",
   "execution_count": 9,
   "metadata": {
    "collapsed": true
   },
   "outputs": [],
   "source": [
    "# Dicionário para acumular a variável aleatória. \n",
    "valores_Y = {}"
   ]
  },
  {
   "cell_type": "code",
   "execution_count": 10,
   "metadata": {},
   "outputs": [],
   "source": [
    "for i in range(len(espaco_amostral)):\n",
    "    y = espaco_amostral[i].count(\"S\")\n",
    "    # Checar antes se a chave está no dicionário\n",
    "    if y in valores_Y:\n",
    "        valores_Y[y] += prob_linhas[i]\n",
    "    else:\n",
    "        valores_Y[y] = prob_linhas[i]\n",
    "        "
   ]
  },
  {
   "cell_type": "code",
   "execution_count": 11,
   "metadata": {},
   "outputs": [
    {
     "data": {
      "text/plain": [
       "{0: 0.5120000000000001,\n",
       " 1: 0.3840000000000001,\n",
       " 2: 0.09600000000000003,\n",
       " 3: 0.008000000000000002}"
      ]
     },
     "execution_count": 11,
     "metadata": {},
     "output_type": "execute_result"
    }
   ],
   "source": [
    "valores_Y"
   ]
  },
  {
   "cell_type": "code",
   "execution_count": 12,
   "metadata": {},
   "outputs": [
    {
     "name": "stdout",
     "output_type": "stream",
     "text": [
      "Distribuição de probabilidades da variável aleatória $Y$ - número de vendas\n",
      "\n",
      "Vendas:  3  Probabilidade 0.00800 \n",
      "Vendas:  2  Probabilidade 0.09600 \n",
      "Vendas:  1  Probabilidade 0.38400 \n",
      "Vendas:  0  Probabilidade 0.51200 \n"
     ]
    }
   ],
   "source": [
    "print(\"Distribuição de probabilidades da variável aleatória $Y$ - número de vendas\")\n",
    "print('')\n",
    "for y in valores_Y:\n",
    "    print(\"Vendas: \", y, \" Probabilidade\", \"%6.5f \"%valores_Y[y])"
   ]
  },
  {
   "cell_type": "markdown",
   "metadata": {
    "collapsed": true
   },
   "source": [
    "___\n",
    "## Construindo a distribuição de probabilidades da variável aleatória: \n",
    "\n",
    "### $C$ - comissão\n",
    "\n",
    "Assuma que a comissão do corretor por cada seguro vendido é igual a R\\$150,00.\n",
    "\n",
    "Se $Y$ representa o número de seguros vendidos pelo corretor ao final das três visitas, então a comissão pode ser escrita por $C=150Y$.\n",
    "\n",
    "Note que vários resultados diferentes do espaço amostral podem contribuir para a probabilidade de um mesmo valor da variável aleatória comissão. \n",
    "\n",
    "Por este motivo, é conveniente usar a variável aleatória como chave de um dicionário e as probabilidades como valor armazenado."
   ]
  },
  {
   "cell_type": "code",
   "execution_count": 13,
   "metadata": {
    "collapsed": true
   },
   "outputs": [],
   "source": [
    "# Dicionário para acumular a variável aleatória. \n",
    "valores_C = {}"
   ]
  },
  {
   "cell_type": "code",
   "execution_count": 14,
   "metadata": {},
   "outputs": [],
   "source": [
    "for i in range(len(espaco_amostral)):\n",
    "    c = espaco_amostral[i].count(\"S\")*150\n",
    "    # Checar antes se a chave está no dicionário\n",
    "    if c in valores_C:\n",
    "        valores_C[c] += prob_linhas[i]\n",
    "    else:\n",
    "        valores_C[c] = prob_linhas[i]\n",
    "    \n",
    "    "
   ]
  },
  {
   "cell_type": "code",
   "execution_count": 15,
   "metadata": {},
   "outputs": [
    {
     "name": "stdout",
     "output_type": "stream",
     "text": [
      "Distribuição de probabilidades da variável aleatória $C$ - comissão\n",
      "\n",
      "Comissão:  450  Probabilidade 0.00800 \n",
      "Comissão:  300  Probabilidade 0.09600 \n",
      "Comissão:  150  Probabilidade 0.38400 \n",
      "Comissão:  0  Probabilidade 0.51200 \n"
     ]
    }
   ],
   "source": [
    "print(\"Distribuição de probabilidades da variável aleatória $C$ - comissão\")\n",
    "print('')\n",
    "for c in valores_C:\n",
    "    print(\"Comissão: \", c, \" Probabilidade\", \"%6.5f \"%valores_C[c])"
   ]
  },
  {
   "cell_type": "code",
   "execution_count": 16,
   "metadata": {},
   "outputs": [
    {
     "data": {
      "text/plain": [
       "dict_keys([450, 300, 150, 0])"
      ]
     },
     "execution_count": 16,
     "metadata": {},
     "output_type": "execute_result"
    }
   ],
   "source": [
    "valores_C.keys()"
   ]
  }
 ],
 "metadata": {
  "anaconda-cloud": {},
  "kernelspec": {
   "display_name": "Python 3",
   "language": "python",
   "name": "python3"
  },
  "language_info": {
   "codemirror_mode": {
    "name": "ipython",
    "version": 3
   },
   "file_extension": ".py",
   "mimetype": "text/x-python",
   "name": "python",
   "nbconvert_exporter": "python",
   "pygments_lexer": "ipython3",
   "version": "3.6.1"
  }
 },
 "nbformat": 4,
 "nbformat_minor": 1
}
